{
 "cells": [
  {
   "cell_type": "markdown",
   "id": "5928d043",
   "metadata": {},
   "source": [
    "# [프로젝트] 머신러닝 모델을 제품으로 만들어보자"
   ]
  },
  {
   "cell_type": "markdown",
   "id": "d65aa355",
   "metadata": {},
   "source": [
    "# 목차\n",
    "- 0. 모델 고정해서 사용하기\n",
    "- 1. Data Centric AI 맛보기\n",
    "- 2. 하이퍼파라미터 튜닝\n",
    "- 3. 모델 배포하기 (옵션)\n",
    "- 4. TFLite 모델 만들기 (옵션)"
   ]
  },
  {
   "cell_type": "markdown",
   "id": "48e4479b",
   "metadata": {},
   "source": [
    "## 0. 모델 고정해서 사용하기"
   ]
  },
  {
   "cell_type": "code",
   "execution_count": 1,
   "id": "d299f12f",
   "metadata": {},
   "outputs": [
    {
     "name": "stdout",
     "output_type": "stream",
     "text": [
      "Model: \"sequential\"\n",
      "_________________________________________________________________\n",
      "Layer (type)                 Output Shape              Param #   \n",
      "=================================================================\n",
      "conv2d (Conv2D)              (None, 30, 30, 32)        896       \n",
      "_________________________________________________________________\n",
      "average_pooling2d (AveragePo (None, 15, 15, 32)        0         \n",
      "_________________________________________________________________\n",
      "batch_normalization (BatchNo (None, 15, 15, 32)        128       \n",
      "_________________________________________________________________\n",
      "conv2d_1 (Conv2D)            (None, 13, 13, 64)        18496     \n",
      "_________________________________________________________________\n",
      "average_pooling2d_1 (Average (None, 6, 6, 64)          0         \n",
      "_________________________________________________________________\n",
      "batch_normalization_1 (Batch (None, 6, 6, 64)          256       \n",
      "_________________________________________________________________\n",
      "flatten (Flatten)            (None, 2304)              0         \n",
      "_________________________________________________________________\n",
      "dense (Dense)                (None, 256)               590080    \n",
      "_________________________________________________________________\n",
      "dropout (Dropout)            (None, 256)               0         \n",
      "_________________________________________________________________\n",
      "dense_1 (Dense)              (None, 10)                2570      \n",
      "=================================================================\n",
      "Total params: 612,426\n",
      "Trainable params: 612,234\n",
      "Non-trainable params: 192\n",
      "_________________________________________________________________\n"
     ]
    }
   ],
   "source": [
    "from tensorflow.keras.models import Sequential\n",
    "from tensorflow.keras.layers import Conv2D, AveragePooling2D, BatchNormalization, Flatten, Dense, Dropout\n",
    "\n",
    "# Create the model\n",
    "model = Sequential([\n",
    "    Conv2D(32, (3, 3), activation='relu', input_shape=(32, 32, 3)),\n",
    "    AveragePooling2D((2, 2)),\n",
    "    BatchNormalization(),\n",
    "\n",
    "    Conv2D(64, (3, 3), activation='relu'),\n",
    "    AveragePooling2D((2, 2)),\n",
    "    BatchNormalization(),\n",
    "\n",
    "    Flatten(),\n",
    "    Dense(256, activation='relu'),\n",
    "    Dropout(0.5),\n",
    "    Dense(10, activation='softmax')\n",
    "])\n",
    "\n",
    "# Compile the model\n",
    "model.compile(optimizer='adam', loss='categorical_crossentropy', metrics=['accuracy'])\n",
    "\n",
    "# Summary of the model\n",
    "model.summary()"
   ]
  },
  {
   "cell_type": "markdown",
   "id": "1f2ee754",
   "metadata": {},
   "source": [
    "## 1. Data Centric AI 맛보기"
   ]
  },
  {
   "cell_type": "code",
   "execution_count": 2,
   "id": "08209fe3",
   "metadata": {},
   "outputs": [
    {
     "name": "stdout",
     "output_type": "stream",
     "text": [
      "Downloading data from https://www.cs.toronto.edu/~kriz/cifar-10-python.tar.gz\n",
      "170500096/170498071 [==============================] - 3s 0us/step\n",
      "170508288/170498071 [==============================] - 3s 0us/step\n"
     ]
    }
   ],
   "source": [
    "import keras\n",
    "from tensorflow.keras.datasets import cifar10\n",
    "\n",
    "# CIFAR10 데이터셋 로드\n",
    "(x_train, y_train), (x_test, y_test) = keras.datasets.cifar10.load_data()"
   ]
  },
  {
   "cell_type": "code",
   "execution_count": 3,
   "id": "30122fcf",
   "metadata": {},
   "outputs": [],
   "source": [
    "from tensorflow.keras.utils import to_categorical\n",
    "\n",
    "# 수정 전용 원본 백업\n",
    "y_test_raw = y_test.copy()\n",
    "\n",
    "# 정규화\n",
    "x_train = x_train.astype('float32') / 255.0\n",
    "x_test = x_test.astype('float32') / 255.0\n",
    "\n",
    "# One-hot 인코딩\n",
    "y_train = to_categorical(y_train, 10)\n",
    "y_test = to_categorical(y_test, 10)"
   ]
  },
  {
   "cell_type": "code",
   "execution_count": 4,
   "id": "c5004b98",
   "metadata": {},
   "outputs": [
    {
     "name": "stdout",
     "output_type": "stream",
     "text": [
      "(40000, 32, 32, 3)\n"
     ]
    }
   ],
   "source": [
    "from sklearn.model_selection import train_test_split\n",
    "\n",
    "# train / validation 분할\n",
    "x_train, x_val, y_train, y_val = train_test_split(x_train, y_train, test_size=0.2)\n",
    "print(x_train.shape)"
   ]
  },
  {
   "cell_type": "code",
   "execution_count": 5,
   "id": "137bd05d",
   "metadata": {},
   "outputs": [],
   "source": [
    "import numpy as np\n",
    "import matplotlib.pyplot as plt"
   ]
  },
  {
   "cell_type": "code",
   "execution_count": 6,
   "id": "b6c3fe01",
   "metadata": {},
   "outputs": [],
   "source": [
    "# class_names (라벨 인덱스와 이름 매핑)\n",
    "class_names = ['airplane', 'automobile', 'bird', 'cat', 'deer', \n",
    "               'dog', 'frog', 'horse', 'ship', 'truck']\n",
    "\n",
    "# 수정할 레이블 정보 (image_id: corrected_label_index)\n",
    "label_corrections = {\n",
    "    2405: 6,   # cat → frog\n",
    "    6877: 8,   # airplane → ship\n",
    "    8058: 7,   # deer → horse\n",
    "    2532: 1,   # airplane → automobile\n",
    "    1969: 9,   # automobile → truck\n",
    "    2804: 5,   # cat → dog\n",
    "    6792: 9,   # cat → truck\n",
    "    1227: 5,   # cat → dog\n",
    "    5191: 5,   # cat → dog\n",
    "    5690: 4,   # horse → deer\n",
    "    1718: 8,   # airplane → ship\n",
    "    2592: 4,   # bird → deer\n",
    "    4794: 2,   # deer → bird\n",
    "    165: 2,    # deer → bird\n",
    "    9227: 9,   # automobile → truck\n",
    "    5632: 5,   # cat → dog\n",
    "    6966: 8,   # airplane → ship\n",
    "    5468: 3    # dog → cat\n",
    "}\n",
    "\n",
    "# 수정 내역 저장\n",
    "corrected_labels = {}\n",
    "\n",
    "for image_id, new_label in label_corrections.items():\n",
    "    old_label = int(y_test_raw[image_id][0])  # 원본에서 가져오기\n",
    "    if old_label != new_label:\n",
    "        y_test_raw[image_id][0] = new_label  # 원본 업데이트\n",
    "        corrected_labels[image_id] = (old_label, new_label)"
   ]
  },
  {
   "cell_type": "code",
   "execution_count": 7,
   "id": "cfcabd17",
   "metadata": {},
   "outputs": [
    {
     "name": "stdout",
     "output_type": "stream",
     "text": [
      "\n",
      "총 수정된 이미지 수: 18\n",
      "ID 2405: cat ➡️ frog\n",
      "ID 6877: airplane ➡️ ship\n",
      "ID 8058: deer ➡️ horse\n",
      "ID 2532: airplane ➡️ automobile\n",
      "ID 1969: automobile ➡️ truck\n",
      "ID 2804: cat ➡️ dog\n",
      "ID 6792: cat ➡️ truck\n",
      "ID 1227: cat ➡️ dog\n",
      "ID 5191: cat ➡️ dog\n",
      "ID 5690: horse ➡️ deer\n",
      "ID 1718: airplane ➡️ ship\n",
      "ID 2592: bird ➡️ deer\n",
      "ID 4794: deer ➡️ bird\n",
      "ID 165: deer ➡️ bird\n",
      "ID 9227: automobile ➡️ truck\n",
      "ID 5632: cat ➡️ dog\n",
      "ID 6966: airplane ➡️ ship\n",
      "ID 5468: dog ➡️ cat\n"
     ]
    }
   ],
   "source": [
    "# 출력\n",
    "print(f\"\\n총 수정된 이미지 수: {len(corrected_labels)}\")\n",
    "for idx, (before, after) in corrected_labels.items():\n",
    "    print(f\"ID {idx}: {class_names[int(before)]} ➡️ {class_names[int(after)]}\")"
   ]
  },
  {
   "cell_type": "markdown",
   "id": "56ac372f",
   "metadata": {},
   "source": [
    "## 2. 하이퍼파라미터 튜닝"
   ]
  },
  {
   "cell_type": "code",
   "execution_count": 8,
   "id": "4b49c0fc",
   "metadata": {},
   "outputs": [
    {
     "name": "stdout",
     "output_type": "stream",
     "text": [
      "Collecting keras-tuner\n",
      "  Downloading keras_tuner-1.4.7-py3-none-any.whl (129 kB)\n",
      "     |████████████████████████████████| 129 kB 6.7 MB/s            \n",
      "\u001b[?25hRequirement already satisfied: packaging in /opt/conda/lib/python3.9/site-packages (from keras-tuner) (21.3)\n",
      "Collecting kt-legacy\n",
      "  Downloading kt_legacy-1.0.5-py3-none-any.whl (9.6 kB)\n",
      "Requirement already satisfied: requests in /opt/conda/lib/python3.9/site-packages (from keras-tuner) (2.26.0)\n",
      "Requirement already satisfied: keras in /opt/conda/lib/python3.9/site-packages (from keras-tuner) (2.6.0)\n",
      "Requirement already satisfied: pyparsing!=3.0.5,>=2.0.2 in /opt/conda/lib/python3.9/site-packages (from packaging->keras-tuner) (3.0.6)\n",
      "Requirement already satisfied: urllib3<1.27,>=1.21.1 in /opt/conda/lib/python3.9/site-packages (from requests->keras-tuner) (1.26.7)\n",
      "Requirement already satisfied: idna<4,>=2.5 in /opt/conda/lib/python3.9/site-packages (from requests->keras-tuner) (2.10)\n",
      "Requirement already satisfied: charset-normalizer~=2.0.0 in /opt/conda/lib/python3.9/site-packages (from requests->keras-tuner) (2.0.8)\n",
      "Requirement already satisfied: certifi>=2017.4.17 in /opt/conda/lib/python3.9/site-packages (from requests->keras-tuner) (2021.10.8)\n",
      "Installing collected packages: kt-legacy, keras-tuner\n",
      "Successfully installed keras-tuner-1.4.7 kt-legacy-1.0.5\n",
      "\u001b[33mWARNING: Running pip as the 'root' user can result in broken permissions and conflicting behaviour with the system package manager. It is recommended to use a virtual environment instead: https://pip.pypa.io/warnings/venv\u001b[0m\n"
     ]
    }
   ],
   "source": [
    "# 라이브러리 설치\n",
    "!pip install keras-tuner"
   ]
  },
  {
   "cell_type": "code",
   "execution_count": 9,
   "id": "f10fa6a9",
   "metadata": {},
   "outputs": [
    {
     "name": "stderr",
     "output_type": "stream",
     "text": [
      "/tmp/ipykernel_145/1674978988.py:6: DeprecationWarning: `import kerastuner` is deprecated, please use `import keras_tuner`.\n",
      "  from kerastuner.tuners import Hyperband\n"
     ]
    }
   ],
   "source": [
    "# 라이브러리 불러오기\n",
    "import tensorflow as tf\n",
    "from tensorflow.keras.models import Sequential\n",
    "from tensorflow.keras.layers import Conv2D, AveragePooling2D, BatchNormalization, Flatten, Dense, Dropout\n",
    "from tensorflow.keras.utils import to_categorical\n",
    "from kerastuner.tuners import Hyperband\n",
    "from tensorflow.keras.datasets import cifar10"
   ]
  },
  {
   "cell_type": "code",
   "execution_count": 10,
   "id": "f75bde80",
   "metadata": {},
   "outputs": [],
   "source": [
    "# 모델 생성 함수\n",
    "def build_model(hp):\n",
    "    model = Sequential()\n",
    "    \n",
    "    # 첫 번째 Conv2D 레이어\n",
    "    model.add(Conv2D(\n",
    "        filters=hp.Int('conv1_filters', min_value=16, max_value=64, step=16),\n",
    "        kernel_size=(3, 3),\n",
    "        activation='relu',\n",
    "        input_shape=(32, 32, 3)\n",
    "    ))\n",
    "    model.add(AveragePooling2D((2, 2)))\n",
    "    model.add(BatchNormalization())\n",
    "    \n",
    "    # 두 번째 Conv2D 레이어\n",
    "    model.add(Conv2D(\n",
    "        filters=hp.Int('conv2_filters', min_value=32, max_value=128, step=32),\n",
    "        kernel_size=(3, 3),\n",
    "        activation='relu'\n",
    "    ))\n",
    "    model.add(AveragePooling2D((2, 2)))\n",
    "    model.add(BatchNormalization())\n",
    "    \n",
    "    model.add(Flatten())\n",
    "    \n",
    "    # Dense 레이어\n",
    "    model.add(Dense(\n",
    "        units=hp.Int('dense_units', min_value=128, max_value=512, step=128),\n",
    "        activation='relu'\n",
    "    ))\n",
    "    model.add(Dropout(rate=hp.Float('dropout_rate', min_value=0.2, max_value=0.5, step=0.1)))\n",
    "    model.add(Dense(10, activation='softmax'))\n",
    "    \n",
    "    # 모델 컴파일\n",
    "    model.compile(\n",
    "        optimizer=tf.keras.optimizers.Adam(\n",
    "            learning_rate=hp.Float('learning_rate', min_value=1e-4, max_value=1e-2, sampling='log')),\n",
    "        loss='categorical_crossentropy',\n",
    "        metrics=['accuracy']\n",
    "    )\n",
    "    return model"
   ]
  },
  {
   "cell_type": "code",
   "execution_count": 11,
   "id": "93aee412",
   "metadata": {},
   "outputs": [
    {
     "name": "stdout",
     "output_type": "stream",
     "text": [
      "Trial 26 Complete [00h 00m 46s]\n",
      "val_accuracy: 0.6920999884605408\n",
      "\n",
      "Best val_accuracy So Far: 0.7217000126838684\n",
      "Total elapsed time: 01h 31m 15s\n"
     ]
    }
   ],
   "source": [
    "# Hyperband 튜너 생성\n",
    "tuner = Hyperband(\n",
    "    build_model,\n",
    "    objective='val_accuracy',\n",
    "    max_epochs=10,\n",
    "    factor=3,\n",
    "    directory='cifar10_tuning',\n",
    "    project_name='cifar10_hyperband'\n",
    ")\n",
    "\n",
    "# 콜백 설정\n",
    "stop_early = tf.keras.callbacks.EarlyStopping(monitor='val_loss', patience=3)\n",
    "\n",
    "# 튜닝 시작\n",
    "tuner.search(x_train, y_train, epochs=10, validation_data=(x_test, y_test), callbacks=[stop_early])"
   ]
  },
  {
   "cell_type": "code",
   "execution_count": 12,
   "id": "d8532df4",
   "metadata": {},
   "outputs": [
    {
     "name": "stdout",
     "output_type": "stream",
     "text": [
      "\n",
      "The optimal number of filters in the first Conv2D layer is 32,\n",
      "the optimal number of filters in the second Conv2D layer is 128,\n",
      "the optimal number of units in the Dense layer is 128,\n",
      "the optimal dropout rate is 0.30000000000000004,\n",
      "and the optimal learning rate is 0.00028007529232923885.\n",
      "\n",
      "Epoch 1/20\n",
      "1250/1250 [==============================] - 6s 4ms/step - loss: 1.6538 - accuracy: 0.4438 - val_loss: 1.2515 - val_accuracy: 0.5681\n",
      "Epoch 2/20\n",
      "1250/1250 [==============================] - 5s 4ms/step - loss: 1.1819 - accuracy: 0.5859 - val_loss: 1.0738 - val_accuracy: 0.6205\n",
      "Epoch 3/20\n",
      "1250/1250 [==============================] - 5s 4ms/step - loss: 0.9643 - accuracy: 0.6626 - val_loss: 0.9626 - val_accuracy: 0.6655\n",
      "Epoch 4/20\n",
      "1250/1250 [==============================] - 5s 4ms/step - loss: 0.8215 - accuracy: 0.7150 - val_loss: 0.9972 - val_accuracy: 0.6516\n",
      "Epoch 5/20\n",
      "1250/1250 [==============================] - 5s 4ms/step - loss: 0.6950 - accuracy: 0.7563 - val_loss: 0.9887 - val_accuracy: 0.6705\n",
      "Epoch 6/20\n",
      "1250/1250 [==============================] - 5s 4ms/step - loss: 0.5926 - accuracy: 0.7915 - val_loss: 0.9254 - val_accuracy: 0.6855\n",
      "Epoch 7/20\n",
      "1250/1250 [==============================] - 5s 4ms/step - loss: 0.5024 - accuracy: 0.8233 - val_loss: 0.9443 - val_accuracy: 0.6854\n",
      "Epoch 8/20\n",
      "1250/1250 [==============================] - 5s 4ms/step - loss: 0.4290 - accuracy: 0.8479 - val_loss: 0.9750 - val_accuracy: 0.6991\n",
      "Epoch 9/20\n",
      "1250/1250 [==============================] - 6s 4ms/step - loss: 0.3657 - accuracy: 0.8704 - val_loss: 0.9492 - val_accuracy: 0.7038\n",
      "Epoch 10/20\n",
      "1250/1250 [==============================] - 5s 4ms/step - loss: 0.3117 - accuracy: 0.8911 - val_loss: 1.0252 - val_accuracy: 0.7063\n",
      "Epoch 11/20\n",
      "1250/1250 [==============================] - 5s 4ms/step - loss: 0.2767 - accuracy: 0.9024 - val_loss: 1.1412 - val_accuracy: 0.6735\n",
      "Epoch 12/20\n",
      "1250/1250 [==============================] - 5s 4ms/step - loss: 0.2421 - accuracy: 0.9157 - val_loss: 1.1098 - val_accuracy: 0.7107\n",
      "Epoch 13/20\n",
      "1250/1250 [==============================] - 5s 4ms/step - loss: 0.2167 - accuracy: 0.9242 - val_loss: 1.2172 - val_accuracy: 0.6737\n",
      "Epoch 14/20\n",
      "1250/1250 [==============================] - 6s 4ms/step - loss: 0.1972 - accuracy: 0.9317 - val_loss: 1.1184 - val_accuracy: 0.7022\n",
      "Epoch 15/20\n",
      "1250/1250 [==============================] - 5s 4ms/step - loss: 0.1851 - accuracy: 0.9360 - val_loss: 1.2553 - val_accuracy: 0.7143\n",
      "Epoch 16/20\n",
      "1250/1250 [==============================] - 7s 6ms/step - loss: 0.1654 - accuracy: 0.9423 - val_loss: 1.3376 - val_accuracy: 0.6940\n",
      "Epoch 17/20\n",
      "1250/1250 [==============================] - 5s 4ms/step - loss: 0.1562 - accuracy: 0.9453 - val_loss: 1.2715 - val_accuracy: 0.7097\n",
      "Epoch 18/20\n",
      "1250/1250 [==============================] - 5s 4ms/step - loss: 0.1479 - accuracy: 0.9480 - val_loss: 1.3593 - val_accuracy: 0.7031\n",
      "Epoch 19/20\n",
      "1250/1250 [==============================] - 5s 4ms/step - loss: 0.1462 - accuracy: 0.9493 - val_loss: 1.3189 - val_accuracy: 0.7004\n",
      "Epoch 20/20\n",
      "1250/1250 [==============================] - 5s 4ms/step - loss: 0.1311 - accuracy: 0.9538 - val_loss: 1.5603 - val_accuracy: 0.6898\n",
      "INFO:tensorflow:Assets written to: aiffel/aiffel/mlops/best_cifar10_model/2/assets\n"
     ]
    }
   ],
   "source": [
    "# 최적의 하이퍼파라미터 출력\n",
    "best_hps = tuner.get_best_hyperparameters(num_trials=1)[0]\n",
    "print(f\"\"\"\n",
    "The optimal number of filters in the first Conv2D layer is {best_hps.get('conv1_filters')},\n",
    "the optimal number of filters in the second Conv2D layer is {best_hps.get('conv2_filters')},\n",
    "the optimal number of units in the Dense layer is {best_hps.get('dense_units')},\n",
    "the optimal dropout rate is {best_hps.get('dropout_rate')},\n",
    "and the optimal learning rate is {best_hps.get('learning_rate')}.\n",
    "\"\"\")\n",
    "\n",
    "# 최적의 하이퍼파라미터로 학습\n",
    "best_model = tuner.hypermodel.build(best_hps)\n",
    "history = best_model.fit(x_train, y_train, epochs=20, validation_data=(x_test, y_test))\n",
    "\n",
    "# 모델 저장\n",
    "best_model.save('aiffel/aiffel/mlops/best_cifar10_model/2')"
   ]
  },
  {
   "cell_type": "code",
   "execution_count": 13,
   "id": "ec92e07d",
   "metadata": {},
   "outputs": [
    {
     "name": "stdout",
     "output_type": "stream",
     "text": [
      "313/313 [==============================] - 1s 3ms/step - loss: 1.5603 - accuracy: 0.6898\n",
      "Test accuracy: 0.6898000240325928, Test loss: 1.5603057146072388\n"
     ]
    }
   ],
   "source": [
    "test_loss, test_acc = best_model.evaluate(x_test, y_test)\n",
    "print(f\"Test accuracy: {test_acc}, Test loss: {test_loss}\")"
   ]
  },
  {
   "cell_type": "code",
   "execution_count": 14,
   "id": "1036b07b",
   "metadata": {},
   "outputs": [
    {
     "name": "stdout",
     "output_type": "stream",
     "text": [
      "Test Accuracy: 0.69\n"
     ]
    },
    {
     "data": {
      "image/png": "[encoded data removed]",
      "text/plain": [
       "<Figure size 576x432 with 2 Axes>"
      ]
     },
     "metadata": {
      "needs_background": "light"
     },
     "output_type": "display_data"
    }
   ],
   "source": [
    "import matplotlib.pyplot as plt\n",
    "from sklearn.metrics import classification_report, confusion_matrix\n",
    "import seaborn as sns\n",
    "\n",
    "# 테스트 데이터 평가\n",
    "test_loss, test_accuracy = best_model.evaluate(x_test, y_test, verbose=0)\n",
    "print(f\"Test Accuracy: {test_accuracy:.2f}\")\n",
    "\n",
    "# 혼동 행렬 시각화\n",
    "y_pred = best_model.predict(x_test).argmax(axis=1)\n",
    "y_true = y_test.argmax(axis=1)\n",
    "cm = confusion_matrix(y_true, y_pred)\n",
    "\n",
    "plt.figure(figsize=(8, 6))\n",
    "sns.heatmap(cm, annot=True, fmt='d', cmap='Blues', xticklabels=class_names, yticklabels=class_names)\n",
    "plt.xlabel('Predicted')\n",
    "plt.ylabel('True')\n",
    "plt.title('Confusion Matrix')\n",
    "plt.show()"
   ]
  },
  {
   "cell_type": "code",
   "execution_count": null,
   "id": "17cb8b9a",
   "metadata": {},
   "outputs": [],
   "source": []
  }
 ],
 "metadata": {
  "kernelspec": {
   "display_name": "Python 3 (ipykernel)",
   "language": "python",
   "name": "python3"
  },
  "language_info": {
   "codemirror_mode": {
    "name": "ipython",
    "version": 3
   },
   "file_extension": ".py",
   "mimetype": "text/x-python",
   "name": "python",
   "nbconvert_exporter": "python",
   "pygments_lexer": "ipython3",
   "version": "3.9.7"
  }
 },
 "nbformat": 4,
 "nbformat_minor": 5
}
