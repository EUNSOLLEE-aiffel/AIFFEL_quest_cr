{
 "cells": [
  {
   "cell_type": "markdown",
   "id": "0afeeb38",
   "metadata": {},
   "source": [
    "# 프로젝트: 뉴스기사 요약해보기"
   ]
  },
  {
   "cell_type": "markdown",
   "id": "55db626e",
   "metadata": {},
   "source": [
    "# [ 목차 ]\n",
    "- Step 1. 데이터 수집하기\n",
    "- Step 2. 데이터 전처리하기 (추상적 요약)\n",
    "- Step 3. 어텐션 메커니즘 사용하기 (추상적 요약)\n",
    "- Step 4. 실제 결과와 요약문 비교하기 (추상적 요약)\n",
    "- Step 5. Summa을 이용해서 추출적 요약해보기"
   ]
  },
  {
   "cell_type": "code",
   "execution_count": 1,
   "id": "6eb3d59e",
   "metadata": {},
   "outputs": [
    {
     "name": "stdout",
     "output_type": "stream",
     "text": [
      "3.6.5\n",
      "2.6.0\n",
      "1.3.3\n",
      "1.2.0\n"
     ]
    }
   ],
   "source": [
    "# 주요 라이브러리 버전 확인\n",
    "from importlib.metadata import version\n",
    "import nltk\n",
    "import tensorflow\n",
    "import summa\n",
    "import pandas as pd\n",
    "\n",
    "print(nltk.__version__)\n",
    "print(tensorflow.__version__)\n",
    "print(pd.__version__)\n",
    "print(version('summa'))"
   ]
  },
  {
   "cell_type": "markdown",
   "id": "3198c75b",
   "metadata": {},
   "source": [
    "## Step 1. 데이터 수집하기\n",
    "추상적 요약을 하는 경우에는 text를 본문, headlines를 이미 요약된 데이터로 삼아서 모델을 학습할 수 있어요. 추출적 요약을 하는 경우에는 오직 text열만을 사용하세요."
   ]
  },
  {
   "cell_type": "code",
   "execution_count": 2,
   "id": "750071de",
   "metadata": {},
   "outputs": [],
   "source": [
    "# 뉴스 기사 데이터 다운로드\n",
    "import urllib.request\n",
    "urllib.request.urlretrieve(\"https://raw.githubusercontent.com/sunnysai12345/News_Summary/master/news_summary_more.csv\", filename=\"news_summary_more.csv\")\n",
    "data = pd.read_csv('news_summary_more.csv', encoding='iso-8859-1')"
   ]
  },
  {
   "cell_type": "code",
   "execution_count": 3,
   "id": "6ba62a99",
   "metadata": {},
   "outputs": [
    {
     "data": {
      "text/html": [
       "<div>\n",
       "<style scoped>\n",
       "    .dataframe tbody tr th:only-of-type {\n",
       "        vertical-align: middle;\n",
       "    }\n",
       "\n",
       "    .dataframe tbody tr th {\n",
       "        vertical-align: top;\n",
       "    }\n",
       "\n",
       "    .dataframe thead th {\n",
       "        text-align: right;\n",
       "    }\n",
       "</style>\n",
       "<table border=\"1\" class=\"dataframe\">\n",
       "  <thead>\n",
       "    <tr style=\"text-align: right;\">\n",
       "      <th></th>\n",
       "      <th>headlines</th>\n",
       "      <th>text</th>\n",
       "    </tr>\n",
       "  </thead>\n",
       "  <tbody>\n",
       "    <tr>\n",
       "      <th>23057</th>\n",
       "      <td>Will go to bed dreaming about getting Virat ou...</td>\n",
       "      <td>England pacer James Anderson on Friday said th...</td>\n",
       "    </tr>\n",
       "    <tr>\n",
       "      <th>26888</th>\n",
       "      <td>Wouldn't believe we'll be successful in 2014: ...</td>\n",
       "      <td>Xiaomi's Global VP and India MD Manu Kumar Jai...</td>\n",
       "    </tr>\n",
       "    <tr>\n",
       "      <th>18166</th>\n",
       "      <td>India trail by 158 runs at the end of Day 2 of...</td>\n",
       "      <td>The Indian team is trailing by 158 runs after ...</td>\n",
       "    </tr>\n",
       "    <tr>\n",
       "      <th>80413</th>\n",
       "      <td>Athlete says he failed dope test due to kissin...</td>\n",
       "      <td>Rio Olympic gold medallist Gil Roberts' doping...</td>\n",
       "    </tr>\n",
       "    <tr>\n",
       "      <th>58540</th>\n",
       "      <td>Australia invites Prince Harry, Meghan Markle ...</td>\n",
       "      <td>Australian Tourism Minister Steven Ciobo said ...</td>\n",
       "    </tr>\n",
       "    <tr>\n",
       "      <th>3817</th>\n",
       "      <td>Google wins US approval for radar-based hand m...</td>\n",
       "      <td>US' Federal Communications Commission (FCC) in...</td>\n",
       "    </tr>\n",
       "    <tr>\n",
       "      <th>16506</th>\n",
       "      <td>TV actress alleges rape at Rajasthan hotel on ...</td>\n",
       "      <td>A model-turned-television actress has alleged ...</td>\n",
       "    </tr>\n",
       "    <tr>\n",
       "      <th>18022</th>\n",
       "      <td>Alibaba Co-founder Jack Ma to step down as cha...</td>\n",
       "      <td>Chinese billionaire and Alibaba Co-founder Jac...</td>\n",
       "    </tr>\n",
       "    <tr>\n",
       "      <th>33848</th>\n",
       "      <td>No need for new fighting season: US slams Tali...</td>\n",
       "      <td>Slamming the Taliban for announcing its spring...</td>\n",
       "    </tr>\n",
       "    <tr>\n",
       "      <th>66446</th>\n",
       "      <td>WhatÃ¢ÂÂs Diwali for kids without crackers: ...</td>\n",
       "      <td>Reacting to the Supreme Court's verdict bannin...</td>\n",
       "    </tr>\n",
       "  </tbody>\n",
       "</table>\n",
       "</div>"
      ],
      "text/plain": [
       "                                               headlines  \\\n",
       "23057  Will go to bed dreaming about getting Virat ou...   \n",
       "26888  Wouldn't believe we'll be successful in 2014: ...   \n",
       "18166  India trail by 158 runs at the end of Day 2 of...   \n",
       "80413  Athlete says he failed dope test due to kissin...   \n",
       "58540  Australia invites Prince Harry, Meghan Markle ...   \n",
       "3817   Google wins US approval for radar-based hand m...   \n",
       "16506  TV actress alleges rape at Rajasthan hotel on ...   \n",
       "18022  Alibaba Co-founder Jack Ma to step down as cha...   \n",
       "33848  No need for new fighting season: US slams Tali...   \n",
       "66446  WhatÃ¢ÂÂs Diwali for kids without crackers: ...   \n",
       "\n",
       "                                                    text  \n",
       "23057  England pacer James Anderson on Friday said th...  \n",
       "26888  Xiaomi's Global VP and India MD Manu Kumar Jai...  \n",
       "18166  The Indian team is trailing by 158 runs after ...  \n",
       "80413  Rio Olympic gold medallist Gil Roberts' doping...  \n",
       "58540  Australian Tourism Minister Steven Ciobo said ...  \n",
       "3817   US' Federal Communications Commission (FCC) in...  \n",
       "16506  A model-turned-television actress has alleged ...  \n",
       "18022  Chinese billionaire and Alibaba Co-founder Jac...  \n",
       "33848  Slamming the Taliban for announcing its spring...  \n",
       "66446  Reacting to the Supreme Court's verdict bannin...  "
      ]
     },
     "execution_count": 3,
     "metadata": {},
     "output_type": "execute_result"
    }
   ],
   "source": [
    "# 데이터 확인\n",
    "data.sample(10)"
   ]
  },
  {
   "cell_type": "code",
   "execution_count": 4,
   "id": "eb384825",
   "metadata": {},
   "outputs": [
    {
     "name": "stdout",
     "output_type": "stream",
     "text": [
      "전체 샘플 수: 98401\n",
      "                                           headlines  \\\n",
      "0  upGrad learner switches to career in ML & Al w...   \n",
      "1  Delhi techie wins free food from Swiggy for on...   \n",
      "2  New Zealand end Rohit Sharma-led India's 12-ma...   \n",
      "3  Aegon life iTerm insurance plan helps customer...   \n",
      "4  Have known Hirani for yrs, what if MeToo claim...   \n",
      "\n",
      "                                                text  \n",
      "0  Saurav Kant, an alumnus of upGrad and IIIT-B's...  \n",
      "1  Kunal Shah's credit card bill payment platform...  \n",
      "2  New Zealand defeated India by 8 wickets in the...  \n",
      "3  With Aegon Life iTerm Insurance plan, customer...  \n",
      "4  Speaking about the sexual harassment allegatio...  \n"
     ]
    }
   ],
   "source": [
    "print(\"전체 샘플 수:\", len(data))\n",
    "print(data.head())"
   ]
  },
  {
   "cell_type": "markdown",
   "id": "d72b4cd6",
   "metadata": {},
   "source": [
    "## Step 2. 데이터 전처리하기 (추상적 요약)\n",
    "실습에서 사용된 전처리를 참고하여 각자 필요하다고 생각하는 전처리를 추가 사용하여 텍스트를 정규화 또는 정제해 보세요. 만약, 불용어 제거를 선택한다면 상대적으로 길이가 짧은 요약 데이터에 대해서도 불용어를 제거하는 것이 좋을지 고민해 보세요."
   ]
  },
  {
   "cell_type": "markdown",
   "id": "229848fd",
   "metadata": {},
   "source": [
    "### 데이터 정리하기"
   ]
  },
  {
   "cell_type": "code",
   "execution_count": 5,
   "id": "e1b80f6b",
   "metadata": {},
   "outputs": [
    {
     "name": "stderr",
     "output_type": "stream",
     "text": [
      "[nltk_data] Downloading package stopwords to /aiffel/nltk_data...\n",
      "[nltk_data]   Package stopwords is already up-to-date!\n"
     ]
    }
   ],
   "source": [
    "# 필요한 라이브러리 불러오기\n",
    "import nltk\n",
    "nltk.download('stopwords') # NLTK 불용어 다운로드\n",
    "\n",
    "import numpy as np\n",
    "import pandas as pd\n",
    "import os\n",
    "import re\n",
    "import matplotlib.pyplot as plt\n",
    "from nltk.corpus import stopwords\n",
    "from bs4 import BeautifulSoup \n",
    "from tensorflow.keras.preprocessing.text import Tokenizer \n",
    "from tensorflow.keras.preprocessing.sequence import pad_sequences\n",
    "import urllib.request\n",
    "import warnings\n",
    "warnings.filterwarnings(\"ignore\", category=UserWarning, module='bs4')"
   ]
  },
  {
   "cell_type": "markdown",
   "id": "e9eef6cb",
   "metadata": {},
   "source": [
    "**중복 및 Null 값 제거**"
   ]
  },
  {
   "cell_type": "code",
   "execution_count": 6,
   "id": "04f1e285",
   "metadata": {},
   "outputs": [
    {
     "name": "stdout",
     "output_type": "stream",
     "text": [
      "Text 열에서 중복을 배제한 유일한 샘플의 수 : 98360\n",
      "Headlines 열에서 중복을 배제한 유일한 샘플의 수 : 98280\n"
     ]
    }
   ],
   "source": [
    "# 중복 샘플 유무 확인\n",
    "print('Text 열에서 중복을 배제한 유일한 샘플의 수 :', data['text'].nunique())\n",
    "print('Headlines 열에서 중복을 배제한 유일한 샘플의 수 :', data['headlines'].nunique())"
   ]
  },
  {
   "cell_type": "code",
   "execution_count": 7,
   "id": "af00df5a",
   "metadata": {},
   "outputs": [],
   "source": [
    "# 중복 제거\n",
    "data.drop_duplicates(subset=['text'], inplace=True)"
   ]
  },
  {
   "cell_type": "code",
   "execution_count": 8,
   "id": "a48231f3",
   "metadata": {},
   "outputs": [
    {
     "name": "stdout",
     "output_type": "stream",
     "text": [
      "headlines    0\n",
      "text         0\n",
      "dtype: int64\n"
     ]
    }
   ],
   "source": [
    "# Null 값 확인\n",
    "print(data.isnull().sum())"
   ]
  },
  {
   "cell_type": "code",
   "execution_count": 9,
   "id": "9e800cca",
   "metadata": {},
   "outputs": [
    {
     "name": "stdout",
     "output_type": "stream",
     "text": [
      "중복값 제거 후 샘플 수: 98360\n"
     ]
    }
   ],
   "source": [
    "print(\"중복값 제거 후 샘플 수:\", len(data))"
   ]
  },
  {
   "cell_type": "markdown",
   "id": "4720f48f",
   "metadata": {},
   "source": [
    "**텍스트 정규화 및 불용어 제거**"
   ]
  },
  {
   "cell_type": "code",
   "execution_count": 10,
   "id": "b817de24",
   "metadata": {},
   "outputs": [
    {
     "name": "stdout",
     "output_type": "stream",
     "text": [
      "정규화 사전의 수:  120\n"
     ]
    }
   ],
   "source": [
    "# 축약어 사전 정의\n",
    "contractions = {\"ain't\": \"is not\", \"aren't\": \"are not\",\"can't\": \"cannot\", \"'cause\": \"because\", \"could've\": \"could have\", \"couldn't\": \"could not\",\n",
    "                           \"didn't\": \"did not\",  \"doesn't\": \"does not\", \"don't\": \"do not\", \"hadn't\": \"had not\", \"hasn't\": \"has not\", \"haven't\": \"have not\",\n",
    "                           \"he'd\": \"he would\",\"he'll\": \"he will\", \"he's\": \"he is\", \"how'd\": \"how did\", \"how'd'y\": \"how do you\", \"how'll\": \"how will\", \"how's\": \"how is\",\n",
    "                           \"I'd\": \"I would\", \"I'd've\": \"I would have\", \"I'll\": \"I will\", \"I'll've\": \"I will have\",\"I'm\": \"I am\", \"I've\": \"I have\", \"i'd\": \"i would\",\n",
    "                           \"i'd've\": \"i would have\", \"i'll\": \"i will\",  \"i'll've\": \"i will have\",\"i'm\": \"i am\", \"i've\": \"i have\", \"isn't\": \"is not\", \"it'd\": \"it would\",\n",
    "                           \"it'd've\": \"it would have\", \"it'll\": \"it will\", \"it'll've\": \"it will have\",\"it's\": \"it is\", \"let's\": \"let us\", \"ma'am\": \"madam\",\n",
    "                           \"mayn't\": \"may not\", \"might've\": \"might have\",\"mightn't\": \"might not\",\"mightn't've\": \"might not have\", \"must've\": \"must have\",\n",
    "                           \"mustn't\": \"must not\", \"mustn't've\": \"must not have\", \"needn't\": \"need not\", \"needn't've\": \"need not have\",\"o'clock\": \"of the clock\",\n",
    "                           \"oughtn't\": \"ought not\", \"oughtn't've\": \"ought not have\", \"shan't\": \"shall not\", \"sha'n't\": \"shall not\", \"shan't've\": \"shall not have\",\n",
    "                           \"she'd\": \"she would\", \"she'd've\": \"she would have\", \"she'll\": \"she will\", \"she'll've\": \"she will have\", \"she's\": \"she is\",\n",
    "                           \"should've\": \"should have\", \"shouldn't\": \"should not\", \"shouldn't've\": \"should not have\", \"so've\": \"so have\",\"so's\": \"so as\",\n",
    "                           \"this's\": \"this is\",\"that'd\": \"that would\", \"that'd've\": \"that would have\", \"that's\": \"that is\", \"there'd\": \"there would\",\n",
    "                           \"there'd've\": \"there would have\", \"there's\": \"there is\", \"here's\": \"here is\",\"they'd\": \"they would\", \"they'd've\": \"they would have\",\n",
    "                           \"they'll\": \"they will\", \"they'll've\": \"they will have\", \"they're\": \"they are\", \"they've\": \"they have\", \"to've\": \"to have\",\n",
    "                           \"wasn't\": \"was not\", \"we'd\": \"we would\", \"we'd've\": \"we would have\", \"we'll\": \"we will\", \"we'll've\": \"we will have\", \"we're\": \"we are\",\n",
    "                           \"we've\": \"we have\", \"weren't\": \"were not\", \"what'll\": \"what will\", \"what'll've\": \"what will have\", \"what're\": \"what are\",\n",
    "                           \"what's\": \"what is\", \"what've\": \"what have\", \"when's\": \"when is\", \"when've\": \"when have\", \"where'd\": \"where did\", \"where's\": \"where is\",\n",
    "                           \"where've\": \"where have\", \"who'll\": \"who will\", \"who'll've\": \"who will have\", \"who's\": \"who is\", \"who've\": \"who have\",\n",
    "                           \"why's\": \"why is\", \"why've\": \"why have\", \"will've\": \"will have\", \"won't\": \"will not\", \"won't've\": \"will not have\",\n",
    "                           \"would've\": \"would have\", \"wouldn't\": \"would not\", \"wouldn't've\": \"would not have\", \"y'all\": \"you all\",\n",
    "                           \"y'all'd\": \"you all would\",\"y'all'd've\": \"you all would have\",\"y'all're\": \"you all are\",\"y'all've\": \"you all have\",\n",
    "                           \"you'd\": \"you would\", \"you'd've\": \"you would have\", \"you'll\": \"you will\", \"you'll've\": \"you will have\",\n",
    "                           \"you're\": \"you are\", \"you've\": \"you have\"}\n",
    "\n",
    "print(\"정규화 사전의 수: \", len(contractions))"
   ]
  },
  {
   "cell_type": "code",
   "execution_count": 11,
   "id": "51455e31",
   "metadata": {},
   "outputs": [],
   "source": [
    "# 텍스트 정규화 및 불용어 제거\n",
    "def preprocess_sentence(sentence, remove_stopwords=True):\n",
    "    sentence = sentence.lower()  # 소문자 변환\n",
    "    sentence = BeautifulSoup(sentence, \"lxml\").text  # HTML 태그 제거\n",
    "    sentence = re.sub(r'\\([^)]*\\)', '', sentence)  # 괄호 제거\n",
    "    sentence = re.sub('\"', '', sentence)  # 쌍따옴표 제거\n",
    "    sentence = ' '.join([contractions[t] if t in contractions else t for t in sentence.split(\" \")])  # 축약어 변환\n",
    "    sentence = re.sub(r\"'s\\b\", \"\", sentence)  # 소유격 제거\n",
    "    sentence = re.sub(\"[^a-zA-Z]\", \" \", sentence)  # 숫자 및 특수 문자 제거\n",
    "    sentence = re.sub('[m]{2,}', 'mm', sentence)  # 연속된 'm' 정규화\n",
    "\n",
    "    # 불용어 제거 (text)\n",
    "    if remove_stopwords:\n",
    "        tokens = ' '.join(word for word in sentence.split() if not word in stopwords.words('english') if len(word) > 1)\n",
    "    # 불용어 미제거 (headlines)\n",
    "    else:\n",
    "        tokens = ' '.join(word for word in sentence.split() if len(word) > 1)\n",
    "\n",
    "    return tokens"
   ]
  },
  {
   "cell_type": "code",
   "execution_count": 12,
   "id": "6d7cfcc4",
   "metadata": {},
   "outputs": [
    {
     "name": "stdout",
     "output_type": "stream",
     "text": [
      "Text 전처리 후: ['saurav kant alumnus upgrad iiit pg program machine learning artificial intelligence sr systems engineer infosys almost years work experience program upgrad degree career support helped transition data scientist tech mahindra salary hike upgrad online power learning powered lakh careers', 'kunal shah credit card bill payment platform cred gave users chance win free food swiggy one year pranav kaushik delhi techie bagged reward spending cred coins users get one cred coin per rupee bill paid used avail rewards brands like ixigo bookmyshow ubereats cult fit', 'new zealand defeated india wickets fourth odi hamilton thursday win first match five match odi series india lost international match rohit sharma captaincy consecutive victories dating back march match witnessed india getting seventh lowest total odi cricket history', 'aegon life iterm insurance plan customers enjoy tax benefits premiums paid save taxes plan provides life cover age years also customers options insure critical illnesses disability accidental death benefit rider life cover age years', 'speaking sexual harassment allegations rajkumar hirani sonam kapoor said known hirani many years true metoo movement get derailed metoo movement always believe woman case need reserve judgment added hirani accused assistant worked sanju']\n"
     ]
    }
   ],
   "source": [
    "# text 데이터 전처리 (불용어 제거 O)\n",
    "clean_text = []\n",
    "\n",
    "for text in data['text']:\n",
    "    clean_text.append(preprocess_sentence(text))\n",
    "\n",
    "# 결과 확인\n",
    "print(\"Text 전처리 후:\", clean_text[:5])"
   ]
  },
  {
   "cell_type": "code",
   "execution_count": 13,
   "id": "de365a58",
   "metadata": {},
   "outputs": [
    {
     "name": "stdout",
     "output_type": "stream",
     "text": [
      "Headlines 전처리 후: ['upgrad learner switches to career in ml al with salary hike', 'delhi techie wins free food from swiggy for one year on cred', 'new zealand end rohit sharma led india match winning streak', 'aegon life iterm insurance plan helps customers save tax', 'have known hirani for yrs what if metoo claims are not true sonam']\n"
     ]
    }
   ],
   "source": [
    "# headlines 데이터 전처리 (불용어 제거 X)\n",
    "clean_headlines = []\n",
    "\n",
    "for headlines in data['headlines']:\n",
    "    clean_headlines.append(preprocess_sentence(headlines, remove_stopwords=False))\n",
    "\n",
    "# 결과 확인\n",
    "print(\"Headlines 전처리 후:\", clean_headlines[:5])"
   ]
  },
  {
   "cell_type": "code",
   "execution_count": 14,
   "id": "de08e91a",
   "metadata": {},
   "outputs": [
    {
     "name": "stdout",
     "output_type": "stream",
     "text": [
      "text:  everything bought great infact ordered twice third ordered wasfor mother father\n",
      "headlines: great way to start the day\n"
     ]
    }
   ],
   "source": [
    "# 전처리 전, 후 결과 확인\n",
    "temp_text = 'Everything I bought was great, infact I ordered twice and the third ordered was<br />for my mother and father.'\n",
    "temp_headlines = 'Great way to start (or finish) the day!!!'\n",
    "\n",
    "print(\"text: \", preprocess_sentence(temp_text))\n",
    "print(\"headlines:\", preprocess_sentence(temp_headlines, False))  # 불용어 제거 X"
   ]
  },
  {
   "cell_type": "markdown",
   "id": "e24d80b4",
   "metadata": {},
   "source": [
    "**데이터프레임 갱신 및 최종 Null 값 제거**"
   ]
  },
  {
   "cell_type": "code",
   "execution_count": 15,
   "id": "ca31f202",
   "metadata": {},
   "outputs": [
    {
     "data": {
      "text/plain": [
       "headlines    0\n",
       "text         0\n",
       "dtype: int64"
      ]
     },
     "execution_count": 15,
     "metadata": {},
     "output_type": "execute_result"
    }
   ],
   "source": [
    "# 전처리된 데이터 저장\n",
    "data['text'] = clean_text\n",
    "data['headlines'] = clean_headlines\n",
    "\n",
    "# 빈 값을 Null 값으로 변환\n",
    "data.replace('', np.nan, inplace=True)\n",
    "\n",
    "# Null 값이 생겼는지 확인\n",
    "data.isnull().sum()"
   ]
  },
  {
   "cell_type": "code",
   "execution_count": 16,
   "id": "ff0714af",
   "metadata": {},
   "outputs": [
    {
     "name": "stdout",
     "output_type": "stream",
     "text": [
      "전체 샘플수 : 98360\n"
     ]
    }
   ],
   "source": [
    "data.dropna(axis=0, inplace=True)\n",
    "print('전체 샘플수 :', (len(data)))"
   ]
  },
  {
   "cell_type": "markdown",
   "id": "e6e63268",
   "metadata": {},
   "source": [
    "### 훈련데이터와 테스트데이터 나누기"
   ]
  },
  {
   "cell_type": "markdown",
   "id": "0551fe3f",
   "metadata": {},
   "source": [
    "**샘플의 최대 길이 정하기**"
   ]
  },
  {
   "cell_type": "code",
   "execution_count": 17,
   "id": "82a3a4b3",
   "metadata": {},
   "outputs": [
    {
     "name": "stdout",
     "output_type": "stream",
     "text": [
      "텍스트의 최소 길이 : 1\n",
      "텍스트의 최대 길이 : 60\n",
      "텍스트의 평균 길이 : 35.09968483123221\n",
      "헤드라인의 최소 길이 : 1\n",
      "헤드라인의 최대 길이 : 16\n",
      "헤드라인의 평균 길이 : 9.299532330215534\n"
     ]
    },
    {
     "data": {
      "image/png": "[encoded data removed]",
      "text/plain": [
       "<Figure size 432x288 with 2 Axes>"
      ]
     },
     "metadata": {
      "needs_background": "light"
     },
     "output_type": "display_data"
    },
    {
     "data": {
      "image/png": "[encoded data removed]",
      "text/plain": [
       "<Figure size 432x288 with 1 Axes>"
      ]
     },
     "metadata": {
      "needs_background": "light"
     },
     "output_type": "display_data"
    },
    {
     "data": {
      "image/png": "[encoded data removed]",
      "text/plain": [
       "<Figure size 432x288 with 1 Axes>"
      ]
     },
     "metadata": {
      "needs_background": "light"
     },
     "output_type": "display_data"
    }
   ],
   "source": [
    "# 샘플 길이 분석\n",
    "text_len = [len(s.split()) for s in data['text']]\n",
    "headlines_len = [len(s.split()) for s in data['headlines']]\n",
    "\n",
    "print('텍스트의 최소 길이 : {}'.format(np.min(text_len)))\n",
    "print('텍스트의 최대 길이 : {}'.format(np.max(text_len)))\n",
    "print('텍스트의 평균 길이 : {}'.format(np.mean(text_len)))\n",
    "print('헤드라인의 최소 길이 : {}'.format(np.min(headlines_len)))\n",
    "print('헤드라인의 최대 길이 : {}'.format(np.max(headlines_len)))\n",
    "print('헤드라인의 평균 길이 : {}'.format(np.mean(headlines_len)))\n",
    "\n",
    "plt.subplot(1,2,1)\n",
    "plt.boxplot(text_len)\n",
    "plt.title('Text')\n",
    "plt.subplot(1,2,2)\n",
    "plt.boxplot(headlines_len)\n",
    "plt.title('Headlines')\n",
    "plt.tight_layout()\n",
    "plt.show()\n",
    "\n",
    "plt.title('Text')\n",
    "plt.hist(text_len, bins = 40)\n",
    "plt.xlabel('length of samples')\n",
    "plt.ylabel('number of samples')\n",
    "plt.show()\n",
    "\n",
    "plt.title('Headlines')\n",
    "plt.hist(headlines_len, bins = 40)\n",
    "plt.xlabel('length of samples')\n",
    "plt.ylabel('number of samples')\n",
    "plt.show()"
   ]
  },
  {
   "cell_type": "code",
   "execution_count": 18,
   "id": "838baebb",
   "metadata": {},
   "outputs": [
    {
     "name": "stdout",
     "output_type": "stream",
     "text": [
      "Text 길이 50 이하 비율: 0.9998576657177715\n",
      "Headlines 길이 12 이하 비율: 0.9880337535583571\n"
     ]
    }
   ],
   "source": [
    "text_max_len = 50\n",
    "headlines_max_len = 12\n",
    "\n",
    "def below_threshold_len(max_len, nested_list):\n",
    "    return sum(1 for s in nested_list if len(s.split()) <= max_len) / len(nested_list)\n",
    "\n",
    "print('Text 길이 50 이하 비율:', below_threshold_len(text_max_len, data['text']))\n",
    "print('Headlines 길이 12 이하 비율:', below_threshold_len(headlines_max_len, data['headlines']))"
   ]
  },
  {
   "cell_type": "code",
   "execution_count": 19,
   "id": "46adb87a",
   "metadata": {},
   "outputs": [
    {
     "name": "stdout",
     "output_type": "stream",
     "text": [
      "전체 샘플수 : 97169\n"
     ]
    }
   ],
   "source": [
    "# text_max_len과 headlines_max_len보다 긴 샘플 제거\n",
    "data = data[\n",
    "    data['text'].apply(lambda x: len(x.split()) <= text_max_len) & \n",
    "    data['headlines'].apply(lambda x: len(x.split()) <= headlines_max_len)]\n",
    "\n",
    "# 전체 샘플 수 출력\n",
    "print('전체 샘플수 :', len(data))"
   ]
  },
  {
   "cell_type": "code",
   "execution_count": 20,
   "id": "dc5cb6eb",
   "metadata": {},
   "outputs": [
    {
     "data": {
      "text/html": [
       "<div>\n",
       "<style scoped>\n",
       "    .dataframe tbody tr th:only-of-type {\n",
       "        vertical-align: middle;\n",
       "    }\n",
       "\n",
       "    .dataframe tbody tr th {\n",
       "        vertical-align: top;\n",
       "    }\n",
       "\n",
       "    .dataframe thead th {\n",
       "        text-align: right;\n",
       "    }\n",
       "</style>\n",
       "<table border=\"1\" class=\"dataframe\">\n",
       "  <thead>\n",
       "    <tr style=\"text-align: right;\">\n",
       "      <th></th>\n",
       "      <th>headlines</th>\n",
       "      <th>text</th>\n",
       "      <th>decoder_input</th>\n",
       "      <th>decoder_target</th>\n",
       "    </tr>\n",
       "  </thead>\n",
       "  <tbody>\n",
       "    <tr>\n",
       "      <th>0</th>\n",
       "      <td>upgrad learner switches to career in ml al wit...</td>\n",
       "      <td>saurav kant alumnus upgrad iiit pg program mac...</td>\n",
       "      <td>sostoken upgrad learner switches to career in ...</td>\n",
       "      <td>upgrad learner switches to career in ml al wit...</td>\n",
       "    </tr>\n",
       "    <tr>\n",
       "      <th>1</th>\n",
       "      <td>delhi techie wins free food from swiggy for on...</td>\n",
       "      <td>kunal shah credit card bill payment platform c...</td>\n",
       "      <td>sostoken delhi techie wins free food from swig...</td>\n",
       "      <td>delhi techie wins free food from swiggy for on...</td>\n",
       "    </tr>\n",
       "    <tr>\n",
       "      <th>2</th>\n",
       "      <td>new zealand end rohit sharma led india match w...</td>\n",
       "      <td>new zealand defeated india wickets fourth odi ...</td>\n",
       "      <td>sostoken new zealand end rohit sharma led indi...</td>\n",
       "      <td>new zealand end rohit sharma led india match w...</td>\n",
       "    </tr>\n",
       "    <tr>\n",
       "      <th>3</th>\n",
       "      <td>aegon life iterm insurance plan helps customer...</td>\n",
       "      <td>aegon life iterm insurance plan customers enjo...</td>\n",
       "      <td>sostoken aegon life iterm insurance plan helps...</td>\n",
       "      <td>aegon life iterm insurance plan helps customer...</td>\n",
       "    </tr>\n",
       "    <tr>\n",
       "      <th>5</th>\n",
       "      <td>rahat fateh ali khan denies getting notice for...</td>\n",
       "      <td>pakistani singer rahat fateh ali khan denied r...</td>\n",
       "      <td>sostoken rahat fateh ali khan denies getting n...</td>\n",
       "      <td>rahat fateh ali khan denies getting notice for...</td>\n",
       "    </tr>\n",
       "  </tbody>\n",
       "</table>\n",
       "</div>"
      ],
      "text/plain": [
       "                                           headlines  \\\n",
       "0  upgrad learner switches to career in ml al wit...   \n",
       "1  delhi techie wins free food from swiggy for on...   \n",
       "2  new zealand end rohit sharma led india match w...   \n",
       "3  aegon life iterm insurance plan helps customer...   \n",
       "5  rahat fateh ali khan denies getting notice for...   \n",
       "\n",
       "                                                text  \\\n",
       "0  saurav kant alumnus upgrad iiit pg program mac...   \n",
       "1  kunal shah credit card bill payment platform c...   \n",
       "2  new zealand defeated india wickets fourth odi ...   \n",
       "3  aegon life iterm insurance plan customers enjo...   \n",
       "5  pakistani singer rahat fateh ali khan denied r...   \n",
       "\n",
       "                                       decoder_input  \\\n",
       "0  sostoken upgrad learner switches to career in ...   \n",
       "1  sostoken delhi techie wins free food from swig...   \n",
       "2  sostoken new zealand end rohit sharma led indi...   \n",
       "3  sostoken aegon life iterm insurance plan helps...   \n",
       "5  sostoken rahat fateh ali khan denies getting n...   \n",
       "\n",
       "                                      decoder_target  \n",
       "0  upgrad learner switches to career in ml al wit...  \n",
       "1  delhi techie wins free food from swiggy for on...  \n",
       "2  new zealand end rohit sharma led india match w...  \n",
       "3  aegon life iterm insurance plan helps customer...  \n",
       "5  rahat fateh ali khan denies getting notice for...  "
      ]
     },
     "execution_count": 20,
     "metadata": {},
     "output_type": "execute_result"
    }
   ],
   "source": [
    "# 시작 및 종료 토큰 추가\n",
    "data['decoder_input'] = data['headlines'].apply(lambda x: 'sostoken ' + x)\n",
    "data['decoder_target'] = data['headlines'].apply(lambda x: x + ' eostoken')\n",
    "data.head()"
   ]
  },
  {
   "cell_type": "code",
   "execution_count": 21,
   "id": "cc02bc66",
   "metadata": {},
   "outputs": [],
   "source": [
    "# 인코더의 입력, 디코더의 입력과 레이블을 각각 Numpy 타입으로 저장\n",
    "encoder_input = np.array(data['text']) # 인코더의 입력\n",
    "decoder_input = np.array(data['decoder_input']) # 디코더의 입력\n",
    "decoder_target = np.array(data['decoder_target']) # 디코더의 레이블"
   ]
  },
  {
   "cell_type": "markdown",
   "id": "bfac801e",
   "metadata": {},
   "source": [
    "**훈련 데이터와 테스트 데이터 분리**"
   ]
  },
  {
   "cell_type": "code",
   "execution_count": 22,
   "id": "b46c43ca",
   "metadata": {},
   "outputs": [],
   "source": [
    "# 데이터 섞기\n",
    "indices = np.arange(encoder_input.shape[0]) # [0, 1, 2, 3, ..., N-1] (문장 개수만큼의 인덱스 생성)\n",
    "np.random.shuffle(indices) # 인덱스를 랜덤하게 섞기\n",
    "\n",
    "# 데이터를 무작위로 섞되, 각 데이터셋(입력, 출력, 레이블)이 같은 방식으로 섞이도록 유지\n",
    "encoder_input = encoder_input[indices]\n",
    "decoder_input = decoder_input[indices]\n",
    "decoder_target = decoder_target[indices]"
   ]
  },
  {
   "cell_type": "code",
   "execution_count": 23,
   "id": "4ba5b337",
   "metadata": {},
   "outputs": [
    {
     "name": "stdout",
     "output_type": "stream",
     "text": [
      "훈련 데이터의 개수 : 77736\n",
      "훈련 레이블의 개수 : 77736\n",
      "테스트 데이터의 개수 : 19433\n",
      "테스트 레이블의 개수 : 19433\n"
     ]
    }
   ],
   "source": [
    "# 데이터 분할 (훈련 8:테스트 2)\n",
    "n_of_val = int(len(encoder_input) * 0.2)\n",
    "encoder_input_train, encoder_input_test = encoder_input[:-n_of_val], encoder_input[-n_of_val:]\n",
    "decoder_input_train, decoder_input_test = decoder_input[:-n_of_val], decoder_input[-n_of_val:]\n",
    "decoder_target_train, decoder_target_test = decoder_target[:-n_of_val], decoder_target[-n_of_val:]\n",
    "\n",
    "print('훈련 데이터의 개수 :', len(encoder_input_train))\n",
    "print('훈련 레이블의 개수 :', len(decoder_input_train))\n",
    "print('테스트 데이터의 개수 :', len(encoder_input_test))\n",
    "print('테스트 레이블의 개수 :', len(decoder_input_test))"
   ]
  },
  {
   "cell_type": "markdown",
   "id": "e1cc1a25",
   "metadata": {},
   "source": [
    "### 정수 인코딩"
   ]
  },
  {
   "cell_type": "code",
   "execution_count": 24,
   "id": "d4806294",
   "metadata": {},
   "outputs": [],
   "source": [
    "# 단어 집합 만들기 (각 단어에 고유한 정수 맵핑)\n",
    "src_tokenizer = Tokenizer() # 토크나이저 정의\n",
    "src_tokenizer.fit_on_texts(encoder_input_train) # 입력된 데이터로부터 단어 집합 생성"
   ]
  },
  {
   "cell_type": "code",
   "execution_count": 25,
   "id": "4f618ae0",
   "metadata": {},
   "outputs": [
    {
     "name": "stdout",
     "output_type": "stream",
     "text": [
      "단어 집합(vocabulary)의 크기 : 69170\n",
      "등장 빈도가 6번 이하인 희귀 단어의 수: 47144\n",
      "단어 집합에서 희귀 단어를 제외시킬 경우의 단어 집합의 크기: 22026\n",
      "단어 집합에서 희귀 단어의 비율: 68.1567153390198\n",
      "전체 등장 빈도에서 희귀 단어 등장 빈도 비율: 3.5179199164003494\n"
     ]
    }
   ],
   "source": [
    "# 등장 빈도수가 7회 미만인 단어들의 비중 확인\n",
    "threshold = 7\n",
    "total_cnt = len(src_tokenizer.word_index) # 단어의 수\n",
    "rare_cnt = 0 # 등장 빈도수가 threshold보다 작은 단어의 개수를 카운트\n",
    "total_freq = 0 # 훈련 데이터의 전체 단어 빈도수 총 합\n",
    "rare_freq = 0 # 등장 빈도수가 threshold보다 작은 단어의 등장 빈도수의 총 합\n",
    "\n",
    "# 단어와 빈도수의 쌍(pair)을 key와 value로 받는다.\n",
    "for key, value in src_tokenizer.word_counts.items():\n",
    "    total_freq = total_freq + value\n",
    "\n",
    "    # 단어의 등장 빈도수가 threshold보다 작으면\n",
    "    if(value < threshold):\n",
    "        rare_cnt = rare_cnt + 1\n",
    "        rare_freq = rare_freq + value\n",
    "\n",
    "print('단어 집합(vocabulary)의 크기 :', total_cnt)\n",
    "print('등장 빈도가 %s번 이하인 희귀 단어의 수: %s'%(threshold - 1, rare_cnt))\n",
    "print('단어 집합에서 희귀 단어를 제외시킬 경우의 단어 집합의 크기: %s'%(total_cnt - rare_cnt))\n",
    "print(\"단어 집합에서 희귀 단어의 비율:\", (rare_cnt / total_cnt)*100)\n",
    "print(\"전체 등장 빈도에서 희귀 단어 등장 빈도 비율:\", (rare_freq / total_freq)*100)"
   ]
  },
  {
   "cell_type": "code",
   "execution_count": 26,
   "id": "94d0c7db",
   "metadata": {},
   "outputs": [],
   "source": [
    "# 단어 집합의 크기 제한\n",
    "src_vocab = 20000\n",
    "src_tokenizer = Tokenizer(num_words=src_vocab) # 단어 집합의 크기를 20,000으로 제한\n",
    "src_tokenizer.fit_on_texts(encoder_input_train) # 단어 집합 재생성"
   ]
  },
  {
   "cell_type": "code",
   "execution_count": 27,
   "id": "e0aeae10",
   "metadata": {},
   "outputs": [
    {
     "name": "stdout",
     "output_type": "stream",
     "text": [
      "[[38, 472, 8369, 15929, 1, 2835, 3251, 6743, 2017, 65, 2017, 4, 5792, 11216, 10, 518, 4274, 39, 1112, 2017, 1431, 192, 72, 3217, 1355, 123, 144, 192, 72, 1511, 35, 2926], [6587, 262, 697, 438, 1075, 371, 7636, 1306, 4089, 910, 371, 3252, 441, 7636, 13315, 8508, 7213, 10, 394, 4664, 6066, 910, 6127, 7120, 8509, 889, 2889, 220, 889, 2174, 371, 3787, 4343], [136, 579, 581, 2734, 1323, 1597, 4552, 430, 604, 37, 9386, 344, 605, 5291, 1582, 147, 19301, 248, 7637, 4552, 1, 2734, 3488, 164, 136, 579, 1640, 19, 13736, 517, 1222, 8652]]\n"
     ]
    }
   ],
   "source": [
    "# 텍스트 시퀀스를 정수 시퀀스로 변환\n",
    "encoder_input_train = src_tokenizer.texts_to_sequences(encoder_input_train) \n",
    "encoder_input_test = src_tokenizer.texts_to_sequences(encoder_input_test)\n",
    "\n",
    "# 잘 진행되었는지 샘플 출력\n",
    "print(encoder_input_train[:3])"
   ]
  },
  {
   "cell_type": "code",
   "execution_count": 28,
   "id": "4bcfc25d",
   "metadata": {},
   "outputs": [],
   "source": [
    "# headlines 데이터에 대해서도 동일한 작업 수행\n",
    "tar_tokenizer = Tokenizer()\n",
    "tar_tokenizer.fit_on_texts(decoder_input_train)"
   ]
  },
  {
   "cell_type": "code",
   "execution_count": 29,
   "id": "534f8888",
   "metadata": {},
   "outputs": [
    {
     "name": "stdout",
     "output_type": "stream",
     "text": [
      "단어 집합(vocabulary)의 크기 : 29936\n",
      "등장 빈도가 5번 이하인 희귀 단어의 수: 19570\n",
      "단어 집합에서 희귀 단어를 제외시킬 경우의 단어 집합의 크기: 10366\n",
      "단어 집합에서 희귀 단어의 비율: 65.37279529663282\n",
      "전체 등장 빈도에서 희귀 단어 등장 빈도 비율: 4.695442935068975\n"
     ]
    }
   ],
   "source": [
    "# 등장 빈도수가 6회 미만인 단어들의 비중 확인\n",
    "threshold = 6\n",
    "total_cnt = len(tar_tokenizer.word_index) # 단어의 수\n",
    "rare_cnt = 0 # 등장 빈도수가 threshold보다 작은 단어의 개수를 카운트\n",
    "total_freq = 0 # 훈련 데이터의 전체 단어 빈도수 총 합\n",
    "rare_freq = 0 # 등장 빈도수가 threshold보다 작은 단어의 등장 빈도수의 총 합\n",
    "\n",
    "# 단어와 빈도수의 쌍(pair)을 key와 value로 받는다.\n",
    "for key, value in tar_tokenizer.word_counts.items():\n",
    "    total_freq = total_freq + value\n",
    "\n",
    "    # 단어의 등장 빈도수가 threshold보다 작으면\n",
    "    if(value < threshold):\n",
    "        rare_cnt = rare_cnt + 1\n",
    "        rare_freq = rare_freq + value\n",
    "\n",
    "print('단어 집합(vocabulary)의 크기 :', total_cnt)\n",
    "print('등장 빈도가 %s번 이하인 희귀 단어의 수: %s'%(threshold - 1, rare_cnt))\n",
    "print('단어 집합에서 희귀 단어를 제외시킬 경우의 단어 집합의 크기: %s'%(total_cnt - rare_cnt))\n",
    "print(\"단어 집합에서 희귀 단어의 비율:\", (rare_cnt / total_cnt)*100)\n",
    "print(\"전체 등장 빈도에서 희귀 단어 등장 빈도 비율:\", (rare_freq / total_freq)*100)"
   ]
  },
  {
   "cell_type": "code",
   "execution_count": 30,
   "id": "f1b14f9f",
   "metadata": {},
   "outputs": [
    {
     "name": "stdout",
     "output_type": "stream",
     "text": [
      "input\n",
      "input  [[1, 928, 155, 33, 108, 14, 1378, 1749, 2093], [1, 8747, 539, 314, 5818, 3, 1628, 509, 314, 1974, 4227], [1, 347, 970, 349, 770, 1484, 468, 20, 9491, 1588], [1, 7648, 2651, 181, 32, 1003, 15, 5819, 966], [1, 300, 426, 5, 852, 47, 37, 2652, 1689, 15, 1690]]\n",
      "target\n",
      "decoder  [[928, 155, 33, 108, 14, 1378, 1749, 2093, 2], [8747, 539, 314, 5818, 3, 1628, 509, 314, 1974, 4227, 2], [347, 970, 349, 770, 1484, 468, 20, 9491, 1588, 2], [7648, 2651, 181, 32, 1003, 15, 5819, 966, 2], [300, 426, 5, 852, 47, 37, 2652, 1689, 15, 1690, 2]]\n"
     ]
    }
   ],
   "source": [
    "# 단어 집합의 크기 제한\n",
    "tar_vocab = 10000\n",
    "tar_tokenizer = Tokenizer(num_words=tar_vocab) \n",
    "tar_tokenizer.fit_on_texts(decoder_input_train)\n",
    "tar_tokenizer.fit_on_texts(decoder_target_train)\n",
    "\n",
    "# 텍스트 시퀀스를 정수 시퀀스로 변환\n",
    "decoder_input_train = tar_tokenizer.texts_to_sequences(decoder_input_train) \n",
    "decoder_target_train = tar_tokenizer.texts_to_sequences(decoder_target_train)\n",
    "decoder_input_test = tar_tokenizer.texts_to_sequences(decoder_input_test)\n",
    "decoder_target_test = tar_tokenizer.texts_to_sequences(decoder_target_test)\n",
    "\n",
    "# 잘 변환되었는지 확인\n",
    "print('input')\n",
    "print('input ',decoder_input_train[:5])\n",
    "print('target')\n",
    "print('decoder ',decoder_target_train[:5])"
   ]
  },
  {
   "cell_type": "code",
   "execution_count": 31,
   "id": "fc0c8951",
   "metadata": {},
   "outputs": [
    {
     "name": "stdout",
     "output_type": "stream",
     "text": [
      "삭제할 훈련 데이터의 개수 : 1\n",
      "삭제할 테스트 데이터의 개수 : 0\n",
      "훈련 데이터의 개수 : 77735\n",
      "훈련 레이블의 개수 : 77735\n",
      "테스트 데이터의 개수 : 19433\n",
      "테스트 레이블의 개수 : 19433\n"
     ]
    }
   ],
   "source": [
    "# 요약문에서 길이가 0이 된 샘플 삭제\n",
    "drop_train = [index for index, sentence in enumerate(decoder_input_train) if len(sentence) == 1]\n",
    "drop_test = [index for index, sentence in enumerate(decoder_input_test) if len(sentence) == 1]\n",
    "\n",
    "print('삭제할 훈련 데이터의 개수 :', len(drop_train))\n",
    "print('삭제할 테스트 데이터의 개수 :', len(drop_test))\n",
    "\n",
    "encoder_input_train = [sentence for index, sentence in enumerate(encoder_input_train) if index not in drop_train]\n",
    "decoder_input_train = [sentence for index, sentence in enumerate(decoder_input_train) if index not in drop_train]\n",
    "decoder_target_train = [sentence for index, sentence in enumerate(decoder_target_train) if index not in drop_train]\n",
    "\n",
    "encoder_input_test = [sentence for index, sentence in enumerate(encoder_input_test) if index not in drop_test]\n",
    "decoder_input_test = [sentence for index, sentence in enumerate(decoder_input_test) if index not in drop_test]\n",
    "decoder_target_test = [sentence for index, sentence in enumerate(decoder_target_test) if index not in drop_test]\n",
    "\n",
    "print('훈련 데이터의 개수 :', len(encoder_input_train))\n",
    "print('훈련 레이블의 개수 :', len(decoder_input_train))\n",
    "print('테스트 데이터의 개수 :', len(encoder_input_test))\n",
    "print('테스트 레이블의 개수 :', len(decoder_input_test))"
   ]
  },
  {
   "cell_type": "code",
   "execution_count": 32,
   "id": "22b99036",
   "metadata": {},
   "outputs": [],
   "source": [
    "# 패딩하기\n",
    "encoder_input_train = pad_sequences(encoder_input_train, maxlen=text_max_len, padding='post')\n",
    "encoder_input_test = pad_sequences(encoder_input_test, maxlen=text_max_len, padding='post')\n",
    "decoder_input_train = pad_sequences(decoder_input_train, maxlen=headlines_max_len, padding='post')\n",
    "decoder_target_train = pad_sequences(decoder_target_train, maxlen=headlines_max_len, padding='post')\n",
    "decoder_input_test = pad_sequences(decoder_input_test, maxlen=headlines_max_len, padding='post')\n",
    "decoder_target_test = pad_sequences(decoder_target_test, maxlen=headlines_max_len, padding='post')"
   ]
  },
  {
   "cell_type": "markdown",
   "id": "311397a3",
   "metadata": {},
   "source": [
    "## Step 3. 어텐션 메커니즘 사용하기 (추상적 요약)\n",
    "일반적인 seq2seq보다는 어텐션 메커니즘을 사용한 seq2seq를 사용하는 것이 더 나은 성능을 얻을 수 있어요. 실습 내용을 참고하여 어텐션 메커니즘을 사용한 seq2seq를 설계해 보세요."
   ]
  },
  {
   "cell_type": "markdown",
   "id": "23c2c599",
   "metadata": {},
   "source": [
    "### 모델 설계하기"
   ]
  },
  {
   "cell_type": "code",
   "execution_count": 33,
   "id": "90542813",
   "metadata": {},
   "outputs": [],
   "source": [
    "from tensorflow.keras.layers import Input, LSTM, Embedding, Dense, Concatenate, TimeDistributed\n",
    "from tensorflow.keras.models import Model\n",
    "from tensorflow.keras.callbacks import EarlyStopping, ModelCheckpoint\n",
    "\n",
    "# 인코더 설계 시작\n",
    "embedding_dim = 128\n",
    "hidden_size = 256\n",
    "\n",
    "# 인코더\n",
    "encoder_inputs = Input(shape=(text_max_len,))\n",
    "\n",
    "# 인코더의 임베딩 층\n",
    "enc_emb = Embedding(src_vocab, embedding_dim)(encoder_inputs)\n",
    "\n",
    "# 인코더의 LSTM 1\n",
    "# encoder_lstm1 = LSTM(hidden_size, return_sequences=True, return_state=True ,dropout = 0.4, recurrent_dropout = 0.4)\n",
    "encoder_lstm1 = LSTM(hidden_size, return_sequences=True, return_state=True ,dropout = 0.4)\n",
    "encoder_output1, state_h1, state_c1 = encoder_lstm1(enc_emb)\n",
    "\n",
    "# 인코더의 LSTM 2\n",
    "encoder_lstm2 = LSTM(hidden_size, return_sequences=True, return_state=True, dropout=0.4)\n",
    "encoder_output2, state_h2, state_c2 = encoder_lstm2(encoder_output1)\n",
    "\n",
    "# 인코더의 LSTM 3\n",
    "encoder_lstm3 = LSTM(hidden_size, return_sequences=True, return_state=True, dropout=0.4)\n",
    "encoder_outputs, state_h3, state_c3 = encoder_lstm3(encoder_output2)"
   ]
  },
  {
   "cell_type": "code",
   "execution_count": 34,
   "id": "159e8a05",
   "metadata": {},
   "outputs": [],
   "source": [
    "# 디코더 설계\n",
    "decoder_inputs = Input(shape=(None,))\n",
    "\n",
    "# 디코더의 임베딩 층\n",
    "dec_emb_layer = Embedding(tar_vocab, embedding_dim)\n",
    "dec_emb = dec_emb_layer(decoder_inputs)\n",
    "\n",
    "# 디코더의 LSTM\n",
    "# decoder_lstm = LSTM(hidden_size, return_sequences=True, return_state=True, dropout=0.4, recurrent_dropout=0.2)\n",
    "decoder_lstm = LSTM(hidden_size, return_sequences=True, return_state=True, dropout=0.4)\n",
    "decoder_outputs, _, _ = decoder_lstm(dec_emb, initial_state=[state_h3, state_c3])\n",
    "\n",
    "# 디코더의 출력층\n",
    "decoder_softmax_layer = Dense(tar_vocab, activation='softmax')\n",
    "decoder_softmax_outputs = decoder_softmax_layer(decoder_outputs) "
   ]
  },
  {
   "cell_type": "code",
   "execution_count": 35,
   "id": "5dfecf3e",
   "metadata": {},
   "outputs": [
    {
     "name": "stdout",
     "output_type": "stream",
     "text": [
      "Model: \"model\"\n",
      "__________________________________________________________________________________________________\n",
      "Layer (type)                    Output Shape         Param #     Connected to                     \n",
      "==================================================================================================\n",
      "input_1 (InputLayer)            [(None, 50)]         0                                            \n",
      "__________________________________________________________________________________________________\n",
      "embedding (Embedding)           (None, 50, 128)      2560000     input_1[0][0]                    \n",
      "__________________________________________________________________________________________________\n",
      "lstm (LSTM)                     [(None, 50, 256), (N 394240      embedding[0][0]                  \n",
      "__________________________________________________________________________________________________\n",
      "input_2 (InputLayer)            [(None, None)]       0                                            \n",
      "__________________________________________________________________________________________________\n",
      "lstm_1 (LSTM)                   [(None, 50, 256), (N 525312      lstm[0][0]                       \n",
      "__________________________________________________________________________________________________\n",
      "embedding_1 (Embedding)         (None, None, 128)    1280000     input_2[0][0]                    \n",
      "__________________________________________________________________________________________________\n",
      "lstm_2 (LSTM)                   [(None, 50, 256), (N 525312      lstm_1[0][0]                     \n",
      "__________________________________________________________________________________________________\n",
      "lstm_3 (LSTM)                   [(None, None, 256),  394240      embedding_1[0][0]                \n",
      "                                                                 lstm_2[0][1]                     \n",
      "                                                                 lstm_2[0][2]                     \n",
      "__________________________________________________________________________________________________\n",
      "dense (Dense)                   (None, None, 10000)  2570000     lstm_3[0][0]                     \n",
      "==================================================================================================\n",
      "Total params: 8,249,104\n",
      "Trainable params: 8,249,104\n",
      "Non-trainable params: 0\n",
      "__________________________________________________________________________________________________\n"
     ]
    }
   ],
   "source": [
    "# 모델 정의\n",
    "model = Model([encoder_inputs, decoder_inputs], decoder_softmax_outputs)\n",
    "model.summary()"
   ]
  },
  {
   "cell_type": "markdown",
   "id": "89626a8e",
   "metadata": {},
   "source": [
    "### 어텐션 메커니즘"
   ]
  },
  {
   "cell_type": "code",
   "execution_count": 36,
   "id": "2384ad16",
   "metadata": {},
   "outputs": [
    {
     "name": "stdout",
     "output_type": "stream",
     "text": [
      "Model: \"model_1\"\n",
      "__________________________________________________________________________________________________\n",
      "Layer (type)                    Output Shape         Param #     Connected to                     \n",
      "==================================================================================================\n",
      "input_1 (InputLayer)            [(None, 50)]         0                                            \n",
      "__________________________________________________________________________________________________\n",
      "embedding (Embedding)           (None, 50, 128)      2560000     input_1[0][0]                    \n",
      "__________________________________________________________________________________________________\n",
      "lstm (LSTM)                     [(None, 50, 256), (N 394240      embedding[0][0]                  \n",
      "__________________________________________________________________________________________________\n",
      "input_2 (InputLayer)            [(None, None)]       0                                            \n",
      "__________________________________________________________________________________________________\n",
      "lstm_1 (LSTM)                   [(None, 50, 256), (N 525312      lstm[0][0]                       \n",
      "__________________________________________________________________________________________________\n",
      "embedding_1 (Embedding)         (None, None, 128)    1280000     input_2[0][0]                    \n",
      "__________________________________________________________________________________________________\n",
      "lstm_2 (LSTM)                   [(None, 50, 256), (N 525312      lstm_1[0][0]                     \n",
      "__________________________________________________________________________________________________\n",
      "lstm_3 (LSTM)                   [(None, None, 256),  394240      embedding_1[0][0]                \n",
      "                                                                 lstm_2[0][1]                     \n",
      "                                                                 lstm_2[0][2]                     \n",
      "__________________________________________________________________________________________________\n",
      "attention_layer (AdditiveAttent (None, None, 256)    256         lstm_3[0][0]                     \n",
      "                                                                 lstm_2[0][0]                     \n",
      "__________________________________________________________________________________________________\n",
      "concat_layer (Concatenate)      (None, None, 512)    0           lstm_3[0][0]                     \n",
      "                                                                 attention_layer[0][0]            \n",
      "__________________________________________________________________________________________________\n",
      "dense_1 (Dense)                 (None, None, 10000)  5130000     concat_layer[0][0]               \n",
      "==================================================================================================\n",
      "Total params: 10,809,360\n",
      "Trainable params: 10,809,360\n",
      "Non-trainable params: 0\n",
      "__________________________________________________________________________________________________\n"
     ]
    }
   ],
   "source": [
    "from tensorflow.keras.layers import AdditiveAttention\n",
    "\n",
    "# 어텐션 층(어텐션 함수)\n",
    "attn_layer = AdditiveAttention(name='attention_layer')\n",
    "\n",
    "# 인코더와 디코더의 모든 time step의 hidden state를 어텐션 층에 전달하고 결과를 리턴\n",
    "attn_out = attn_layer([decoder_outputs, encoder_outputs])\n",
    "\n",
    "# 어텐션의 결과와 디코더의 hidden state들을 연결\n",
    "decoder_concat_input = Concatenate(axis=-1, name='concat_layer')([decoder_outputs, attn_out])\n",
    "\n",
    "# 디코더의 출력층\n",
    "decoder_softmax_layer = Dense(tar_vocab, activation='softmax')\n",
    "decoder_softmax_outputs = decoder_softmax_layer(decoder_concat_input)\n",
    "\n",
    "# 모델 정의\n",
    "model = Model([encoder_inputs, decoder_inputs], decoder_softmax_outputs)\n",
    "model.summary()"
   ]
  },
  {
   "cell_type": "markdown",
   "id": "98ed52e5",
   "metadata": {},
   "source": [
    "### 모델 훈련하기"
   ]
  },
  {
   "cell_type": "code",
   "execution_count": 37,
   "id": "5495ae15",
   "metadata": {},
   "outputs": [
    {
     "name": "stdout",
     "output_type": "stream",
     "text": [
      "Epoch 1/50\n",
      "304/304 [==============================] - 38s 101ms/step - loss: 5.6166 - val_loss: 5.1829\n",
      "Epoch 2/50\n",
      "304/304 [==============================] - 30s 100ms/step - loss: 5.0445 - val_loss: 4.8291\n",
      "Epoch 3/50\n",
      "304/304 [==============================] - 31s 103ms/step - loss: 4.7198 - val_loss: 4.5655\n",
      "Epoch 4/50\n",
      "304/304 [==============================] - 32s 106ms/step - loss: 4.4501 - val_loss: 4.3782\n",
      "Epoch 5/50\n",
      "304/304 [==============================] - 33s 109ms/step - loss: 4.2372 - val_loss: 4.2237\n",
      "Epoch 6/50\n",
      "304/304 [==============================] - 33s 109ms/step - loss: 4.0636 - val_loss: 4.1155\n",
      "Epoch 7/50\n",
      "304/304 [==============================] - 33s 109ms/step - loss: 3.9162 - val_loss: 4.0249\n",
      "Epoch 8/50\n",
      "304/304 [==============================] - 33s 109ms/step - loss: 3.7873 - val_loss: 3.9566\n",
      "Epoch 9/50\n",
      "304/304 [==============================] - 33s 109ms/step - loss: 3.6731 - val_loss: 3.8937\n",
      "Epoch 10/50\n",
      "304/304 [==============================] - 33s 109ms/step - loss: 3.5716 - val_loss: 3.8436\n",
      "Epoch 11/50\n",
      "304/304 [==============================] - 33s 109ms/step - loss: 3.4772 - val_loss: 3.8052\n",
      "Epoch 12/50\n",
      "304/304 [==============================] - 33s 109ms/step - loss: 3.3960 - val_loss: 3.7809\n",
      "Epoch 13/50\n",
      "304/304 [==============================] - 33s 109ms/step - loss: 3.3207 - val_loss: 3.7452\n",
      "Epoch 14/50\n",
      "304/304 [==============================] - 33s 109ms/step - loss: 3.2492 - val_loss: 3.7240\n",
      "Epoch 15/50\n",
      "304/304 [==============================] - 33s 109ms/step - loss: 3.1839 - val_loss: 3.7059\n",
      "Epoch 16/50\n",
      "304/304 [==============================] - 33s 110ms/step - loss: 3.1254 - val_loss: 3.6889\n",
      "Epoch 17/50\n",
      "304/304 [==============================] - 33s 109ms/step - loss: 3.0727 - val_loss: 3.6758\n",
      "Epoch 18/50\n",
      "304/304 [==============================] - 33s 109ms/step - loss: 3.0169 - val_loss: 3.6691\n",
      "Epoch 19/50\n",
      "304/304 [==============================] - 33s 109ms/step - loss: 2.9675 - val_loss: 3.6588\n",
      "Epoch 20/50\n",
      "304/304 [==============================] - 33s 109ms/step - loss: 2.9217 - val_loss: 3.6510\n",
      "Epoch 21/50\n",
      "304/304 [==============================] - 33s 110ms/step - loss: 2.8787 - val_loss: 3.6566\n",
      "Epoch 22/50\n",
      "304/304 [==============================] - 33s 109ms/step - loss: 2.8395 - val_loss: 3.6426\n",
      "Epoch 23/50\n",
      "304/304 [==============================] - 33s 109ms/step - loss: 2.7990 - val_loss: 3.6415\n",
      "Epoch 24/50\n",
      "304/304 [==============================] - 33s 109ms/step - loss: 2.7598 - val_loss: 3.6437\n",
      "Epoch 25/50\n",
      "304/304 [==============================] - 33s 109ms/step - loss: 2.7231 - val_loss: 3.6346\n",
      "Epoch 26/50\n",
      "304/304 [==============================] - 33s 109ms/step - loss: 2.6886 - val_loss: 3.6355\n",
      "Epoch 27/50\n",
      "304/304 [==============================] - 33s 110ms/step - loss: 2.6573 - val_loss: 3.6386\n",
      "Epoch 00027: early stopping\n"
     ]
    }
   ],
   "source": [
    "# 설계한 모델로 훈련 진행\n",
    "model.compile(optimizer='rmsprop', loss='sparse_categorical_crossentropy')\n",
    "es = EarlyStopping(monitor='val_loss', patience=2, verbose=1)\n",
    "history = model.fit(x=[encoder_input_train, decoder_input_train], y=decoder_target_train, \\\n",
    "          validation_data=([encoder_input_test, decoder_input_test], decoder_target_test), \\\n",
    "          batch_size=256, callbacks=[es], epochs=50)"
   ]
  },
  {
   "cell_type": "code",
   "execution_count": 38,
   "id": "fc418dd2",
   "metadata": {},
   "outputs": [
    {
     "data": {
      "image/png": "[encoded data removed]",
      "text/plain": [
       "<Figure size 432x288 with 1 Axes>"
      ]
     },
     "metadata": {
      "needs_background": "light"
     },
     "output_type": "display_data"
    }
   ],
   "source": [
    "# 훈련과정 시각화\n",
    "plt.plot(history.history['loss'], label='train')\n",
    "plt.plot(history.history['val_loss'], label='test')\n",
    "plt.legend()\n",
    "plt.show()"
   ]
  },
  {
   "cell_type": "markdown",
   "id": "aa734e0f",
   "metadata": {},
   "source": [
    "### 인퍼런스 모델 구현하기"
   ]
  },
  {
   "cell_type": "code",
   "execution_count": 39,
   "id": "58a18d00",
   "metadata": {},
   "outputs": [],
   "source": [
    "src_index_to_word = src_tokenizer.index_word # 원문 단어 집합에서 정수 -> 단어를 얻음\n",
    "tar_word_to_index = tar_tokenizer.word_index # 요약 단어 집합에서 단어 -> 정수를 얻음\n",
    "tar_index_to_word = tar_tokenizer.index_word # 요약 단어 집합에서 정수 -> 단어를 얻음"
   ]
  },
  {
   "cell_type": "code",
   "execution_count": 40,
   "id": "d614e5b0",
   "metadata": {},
   "outputs": [],
   "source": [
    "#어텐션 메커니즘을 사용하는 입력층 설계\n",
    "\n",
    "# 인코더 설계\n",
    "encoder_model = Model(inputs=encoder_inputs, outputs=[encoder_outputs, state_h3, state_c3])\n",
    "\n",
    "# 이전 시점의 상태들을 저장하는 텐서\n",
    "decoder_state_input_h = Input(shape=(hidden_size,))\n",
    "decoder_state_input_c = Input(shape=(hidden_size,))\n",
    "\n",
    "dec_emb2 = dec_emb_layer(decoder_inputs)\n",
    "\n",
    "# 문장의 다음 단어를 예측하기 위해서 초기 상태(initial_state)를 이전 시점의 상태로 사용. 이는 뒤의 함수 decode_sequence()에 구현\n",
    "# 훈련 과정에서와 달리 LSTM의 리턴하는 은닉 상태와 셀 상태인 state_h와 state_c를 버리지 않음.\n",
    "decoder_outputs2, state_h2, state_c2 = decoder_lstm(dec_emb2, initial_state=[decoder_state_input_h, decoder_state_input_c])"
   ]
  },
  {
   "cell_type": "code",
   "execution_count": 41,
   "id": "37c92cec",
   "metadata": {},
   "outputs": [],
   "source": [
    "#어텐션 메커니즘을 사용하는 출력층 설계\n",
    "\n",
    "# 어텐션 함수\n",
    "decoder_hidden_state_input = Input(shape=(text_max_len, hidden_size))\n",
    "attn_out_inf = attn_layer([decoder_outputs2, decoder_hidden_state_input])\n",
    "decoder_inf_concat = Concatenate(axis=-1, name='concat')([decoder_outputs2, attn_out_inf])\n",
    "\n",
    "# 디코더의 출력층\n",
    "decoder_outputs2 = decoder_softmax_layer(decoder_inf_concat) \n",
    "\n",
    "# 최종 디코더 모델\n",
    "decoder_model = Model(\n",
    "    [decoder_inputs] + [decoder_hidden_state_input,decoder_state_input_h, decoder_state_input_c],\n",
    "    [decoder_outputs2] + [state_h2, state_c2])"
   ]
  },
  {
   "cell_type": "code",
   "execution_count": 42,
   "id": "0c3cde51",
   "metadata": {},
   "outputs": [],
   "source": [
    "# 인퍼런스 단계에서 단어 시퀀스를 완성하는 함수\n",
    "\n",
    "def decode_sequence(input_seq):\n",
    "    # 입력으로부터 인코더의 상태를 얻음\n",
    "    e_out, e_h, e_c = encoder_model.predict(input_seq)\n",
    "\n",
    "     # <SOS>에 해당하는 토큰 생성\n",
    "    target_seq = np.zeros((1,1))\n",
    "    target_seq[0, 0] = tar_word_to_index['sostoken']\n",
    "\n",
    "    stop_condition = False\n",
    "    decoded_sentence = ''\n",
    "    while not stop_condition: # stop_condition이 True가 될 때까지 루프 반복\n",
    "\n",
    "        output_tokens, h, c = decoder_model.predict([target_seq] + [e_out, e_h, e_c])\n",
    "        sampled_token_index = np.argmax(output_tokens[0, -1, :])\n",
    "        sampled_token = tar_index_to_word[sampled_token_index]\n",
    "\n",
    "        if (sampled_token!='eostoken'):\n",
    "            decoded_sentence += ' '+sampled_token\n",
    "\n",
    "        #  <eos>에 도달하거나 최대 길이를 넘으면 중단.\n",
    "        if (sampled_token == 'eostoken'  or len(decoded_sentence.split()) >= (headlines_max_len-1)):\n",
    "            stop_condition = True\n",
    "\n",
    "        # 길이가 1인 타겟 시퀀스를 업데이트\n",
    "        target_seq = np.zeros((1,1))\n",
    "        target_seq[0, 0] = sampled_token_index\n",
    "\n",
    "        # 상태를 업데이트 합니다.\n",
    "        e_h, e_c = h, c\n",
    "\n",
    "    return decoded_sentence"
   ]
  },
  {
   "cell_type": "code",
   "execution_count": 43,
   "id": "6a1bcdd5",
   "metadata": {},
   "outputs": [],
   "source": [
    "# 원문의 정수 시퀀스를 텍스트 시퀀스로 변환\n",
    "def seq2text(input_seq):\n",
    "    temp=''\n",
    "    for i in input_seq:\n",
    "        if (i!=0):\n",
    "            temp = temp + src_index_to_word[i]+' '\n",
    "    return temp\n",
    "\n",
    "# 헤드라인의 정수 시퀀스를 텍스트 시퀀스로 변환\n",
    "def seq2headlines(input_seq):\n",
    "    temp = ''\n",
    "    for i in input_seq:\n",
    "        if (i != 0 and i != tar_word_to_index['sostoken'] and i != tar_word_to_index['eostoken']):\n",
    "            temp = temp + tar_index_to_word[i] + ' '\n",
    "    return temp.strip()  # 마지막 공백 제거"
   ]
  },
  {
   "cell_type": "markdown",
   "id": "cd12e37c",
   "metadata": {},
   "source": [
    "## Step 4. 실제 결과와 요약문 비교하기 (추상적 요약)\n",
    "원래의 요약문(headlines 열)과 학습을 통해 얻은 추상적 요약의 결과를 비교해 보세요."
   ]
  },
  {
   "cell_type": "code",
   "execution_count": 44,
   "id": "a6c4720f",
   "metadata": {
    "scrolled": false
   },
   "outputs": [
    {
     "name": "stdout",
     "output_type": "stream",
     "text": [
      "원문 : batsman cheteshwar pujara returned india playing xi lord test england dropped first test run first innings friday pujara joined former england wicketkeeper batsman matt prior run number times tests last years \n",
      "실제 요약 : pujara run out joint most times in tests in last years\n",
      "예측 요약 :  pujara has played test runs in balls in england\n",
      "\n",
      "\n",
      "원문 : niti aayog ceo amitabh kant denied reports delhi lieutenant governor anil baijal replacing cm arvind kejriwal think tank meeting calling totally incorrect said response kejriwal tweet stating authorised baijal attend meeting behalf comes amidst kejriwal sit protest official residence \n",
      "실제 요약 : niti ceo denies kejriwal post on replacing him at meet\n",
      "예측 요약 :  cannot take action if you cannot take my meeting kejriwal\n",
      "\n",
      "\n",
      "원문 : carbon dioxide atmosphere mars nearly ideal conditions creating oxygen future manned missions europe based researchers found researchers suggested using low temperature split co oxygen carbon could used mars cold atmosphere would slow reaction give additional time molecules separation \n",
      "실제 요약 : mars has conditions for making oxygen from co study\n",
      "예측 요약 :  mars could be used to mars study\n",
      "\n",
      "\n",
      "원문 : patel davis us presidential medal work sex slavery labour exploitation white house ceremony attended president donald trump davis special adviser human trafficking houston mayor past speaker un world humanitarian summit davis recently travelled india canada discuss municipal leadership human trafficking \n",
      "실제 요약 : indian origin woman wins top us honour for sex slavery\n",
      "예측 요약 :  ex us president trump arrives in us\n",
      "\n",
      "\n",
      "원문 : government basic customs duty relief materials imported abroad kerala flood victims also extended last date filing gstr month july october kerala least people died due floods lakh relief camps \n",
      "실제 요약 : relief goods for kerala exempted from customs duty\n",
      "예측 요약 :  kerala govt approves death toll relief for flood victims\n",
      "\n",
      "\n",
      "원문 : traffic police constable killed pakistani city quetta provincial lawmaker abdul khan ran suv reportedly driving state injured constable taken hospital succumbed injuries police lodged case unknown persons investigating incident nn \n",
      "실제 요약 : pakistani in suv runs over constable\n",
      "예측 요약 :  bsf jawan killed in car accident in pakistan\n",
      "\n",
      "\n",
      "원문 : amir stylist aksar revealed initially film makers said focus actress zareen khan body later everything exposing adding zareen allegations makers true said zareen eventually wore wanted lot confusion added \n",
      "실제 요약 : everything was about exposing zareen body aksar stylist\n",
      "예측 요약 :  was not to replace myself in film maker\n",
      "\n",
      "\n",
      "원문 : batsman cheteshwar pujara got run second innings centurion test wednesday becoming first indian cricketer run twice single test india test history first innings pujara run first test golden duck rd player overall run twice test \n",
      "실제 요약 : pujara first indian to be run out twice in test\n",
      "예측 요약 :  pujara becomes first indian to test runs in test\n",
      "\n",
      "\n",
      "원문 : hollywood actress jessica said important talk daughters sexual harassment faced film industry teach consent lot different situations learn quickly get added two daughters aged ten six \n",
      "실제 요약 : need to talk to daughters about sexual harassment faced\n",
      "예측 요약 :  was asked to do not know about sexual harassment actresses\n",
      "\n",
      "\n",
      "원문 : tech mahindra executives ranks executive vp senior vp reportedly offered take pay cuts following company weak performance around executives written ceo cp gurnani regard reportedly company earlier hinted top executives temporary pay cut would appreciated help cut costs \n",
      "실제 요약 : tech mahindra top executives offer to take up to pay cut\n",
      "예측 요약 :  ceo steps down as ceo salary for days\n",
      "\n",
      "\n",
      "원문 : panasonic new smartphone ray comes dual camera gb ram large mah battery smartphone two sensors mp sensor normal lens portraits degree ultra wide angle mp sensor landscapes available gold marine blue champagne gold colours \n",
      "실제 요약 : newly launched ray comes with dual camera\n",
      "예측 요약 :  launches phone with dual camera\n",
      "\n",
      "\n",
      "원문 : woman named aarti sharma uttar pradesh agra uploaded letter social media offering kidney anyone need order pay fees education daughters mother four children including three daughters unable pay school fees husband business ready made clothes witnessing downfall \n",
      "실제 요약 : mother offers to sell kidney to pay daughters school fees\n",
      "예측 요약 :  up woman gives up to pay for medical treatment\n",
      "\n",
      "\n",
      "원문 : austrian man dressed st nicholas christian saint inspired santa claus asked remove red beard authorities deemed violation country full face veil ban austria introduced ban full face veils october year fine \n",
      "실제 요약 : man dresses as st violates austria veil ban\n",
      "예측 요약 :  man walks off for first time in australia\n",
      "\n",
      "\n",
      "원문 : fourth year aerospace engineering student iit kharagpur saturday found hanging ceiling ground floor hostel room probe incident police would also examine suicide note officials said notably third incident iit kharagpur student committing suicide year \n",
      "실제 요약 : fourth year iit kharagpur student commits suicide\n",
      "예측 요약 :  iit student found hanging from hostel hostel room\n",
      "\n",
      "\n",
      "원문 : plus sized model natalie shared experience confronting passenger next allegedly fat shamed flight man allegedly started texting friend joked hoped eaten mexican seen holy sh face confronted wrote facebook \n",
      "실제 요약 : plus size model slams man who that she ate mexican\n",
      "예측 요약 :  passenger slams man who tried to kiss woman alleges flight\n",
      "\n",
      "\n",
      "원문 : children living bihar specialised adoption agencies verbally abused often locked bathrooms per report tata institute social sciences conducted audit adoption centres child twice due neglect lack staff said official led team made report \n",
      "실제 요약 : kids in bihar adoption centres verbally abused report\n",
      "예측 요약 :  bihar to shut down after medical trafficking\n",
      "\n",
      "\n",
      "원문 : external affairs minister sushma swaraj husband lawyer swaraj kaushal shared troll tweet asking beat wife post passport issuance row man asked kaushal teach muslim appeasement muslims never ever vote bjp earlier sushma swaraj liked tweets attacking share followers \n",
      "실제 요약 : sushma swaraj husband shares tweet asking him to beat her\n",
      "예측 요약 :  sushma swaraj posts pic of asking her to husband\n",
      "\n",
      "\n",
      "원문 : kings xi punjab player aaron finch said captain ravichandran ashwin captain comes playing ms dhoni dhoni cool guy ashwin also calm made great decisions added along chief coach brad hodge ashwin left stone comes preparations game finch said \n",
      "실제 요약 : ashwin as captain comes from dhoni kxip finch\n",
      "예측 요약 :  ashwin is kxip to play me ashwin on dhoni ashwin\n",
      "\n",
      "\n",
      "원문 : pakistani cricket commentator ramiz raja said bcci grade contract given former indian captain ms dhoni speaking mcc world cricket committee meeting raja said cricketers like dhoni shahid afridi quit test cricket yet given grade contracts respective boards \n",
      "실제 요약 : raja questions ms dhoni grade contract\n",
      "예측 요약 :  dhoni has not dhoni as captain dhoni\n",
      "\n",
      "\n",
      "원문 : uttar pradesh government tuesday cancelled public holidays marking birth death eminent personalities students taught days figures various programmes minister shrikant sharma said cabinet meeting state currently public holidays least related birth \n",
      "실제 요약 : up cancels state holidays on birth death\n",
      "예측 요약 :  up govt approves death of nipah virus deaths\n",
      "\n",
      "\n",
      "원문 : pakistan thursday welcomed pm narendra modi phone call congratulating pakistan tehreek insaf chief imran khan said wants resume bilateral talks india halted pm modi hoped pakistan india work open new chapter bilateral ties call khan emphasised disputes resolved dialogue \n",
      "실제 요약 : pakistan says it wants to resume bilateral talks with india\n",
      "예측 요약 :  pak pm imran khan to make imran khan remark on pak\n",
      "\n",
      "\n",
      "원문 : private sector lender hdfc bank reported year year increase profit crore march quarter bank net interest income quarter rose year year crore percentage total loans gross bad loans rose compared previous quarter \n",
      "실제 요약 : hdfc bank profit rises to crore in march quarter\n",
      "예측 요약 :  hdfc bank profit rises to crore in september quarter\n",
      "\n",
      "\n",
      "원문 : pakistani origin muslim boy triggered terror alert school northern england talked new water pistol seven year old father said school targeted son white sent police home last year however school denied racial discrimination saying takes pupils seriously \n",
      "실제 요약 : muslim schoolboy triggers terror alert with water pistol\n",
      "예측 요약 :  pak origin boy beaten up to death in pakistan school\n",
      "\n",
      "\n",
      "원문 : apple world valuable company makes money per employee making crore employees according report visual capitalist followed social media giant facebook makes crore revenue employees google parent company alphabet makes crore per employee \n",
      "실제 요약 : how much money do world top companies make per employee\n",
      "예측 요약 :  apple earned million in us after million\n",
      "\n",
      "\n",
      "원문 : san francisco based lending startup social finance ceo mike stepping end year following allegations sexual harassment company former employee filed lawsuit august alleging wrongfully terminated reporting sexual harassment colleagues said distraction lawsuit company growth \n",
      "실제 요약 : us lending startup ceo quits amid sexual harassment claims\n",
      "예측 요약 :  fires ceo of sexual harassment in ceo\n",
      "\n",
      "\n",
      "원문 : physicists using world powerful particle accelerator large hadron collider yet found signs particle called believed caused big bang scientists similar characteristics higgs boson found using universe explosion continues great puzzle said researcher \n",
      "실제 요약 : physicists fail to find particle that caused the big bang\n",
      "예측 요약 :  scientists find world smallest telescope\n",
      "\n",
      "\n",
      "원문 : according report citing fbi statement unidentified hackers targeting networks companies responsible operating nuclear power plant us last two months report stated indication hackers able jump victims computers control systems facilities far \n",
      "실제 요약 : hackers targeting us nuclear power plant since months fbi\n",
      "예측 요약 :  us imposes report on phone with firms over it hacked\n",
      "\n",
      "\n",
      "원문 : relations india us grown mutual suspicion friendship partnership us ambassador un nikki haley said thursday haley added indian americans educated highly philanthropic minority us despite nuclear power india respected globally responsible democracy said \n",
      "실제 요약 : india us ties grew from to friendship haley\n",
      "예측 요약 :  india is the most powerful friend in india us\n",
      "\n",
      "\n",
      "원문 : world expensive motorcycle harley davidson blue edition revealed priced crore motorcycle diamonds gold plated ring carat diamond one kind watch carl jointly built jewellery maker swiss custom harley davidson workshop hours \n",
      "실제 요약 : world most expensive bike costs crore\n",
      "예측 요약 :  dubai most expensive car sold for crore\n",
      "\n",
      "\n",
      "원문 : actress sunny leone become co owner brand ambassador premier kochi based franchise kerala runners last year second season five side football tournament kicks september mumbai semi finals final scheduled held dubai september october premier said \n",
      "실제 요약 : sunny leone becomes co owner of premier team\n",
      "예측 요약 :  sunny leone tops kerala fashion week of the year\n",
      "\n",
      "\n",
      "원문 : recalling getting sweeping test new zealand ex australia leg spinner shane warne said still genuinely asks go single adding silence dressing room warne said walked straight shower area lit cigarette beer went idiot everyone started laughing \n",
      "실제 요약 : had beer cigarette went you idiot warne on getting out at\n",
      "예측 요약 :  have no one handed to lose weight from heart attack injury\n",
      "\n",
      "\n",
      "원문 : rajkummar rao shraddha kapoor starrer stree released today comedy needed spirit wrote hindustan times stree fun said ndtv times india wrote film manages funny scary time rated \n",
      "실제 요약 : rajkummar rao shraddha kapoor starrer stree hits theatres\n",
      "예측 요약 :  rajkummar rao starrer shraddha starrer hits the theatres\n",
      "\n",
      "\n",
      "원문 : google reportedly planning update android messages app would allow users send texts computer feature allow users pair smartphones computer scanning qr code feature may reportedly labelled messages web officially rolled \n",
      "실제 요약 : google may let users send texts from pcs using messages app\n",
      "예측 요약 :  google rolls out feature feature in android\n",
      "\n",
      "\n",
      "원문 : researchers allen institute university illinois created artificial intelligence system called craft automatically produces cartoon scenes based text descriptions craft trained feeding three second clips clips accompanied detailed descriptions scene happening \n",
      "실제 요약 : ai creates from text\n",
      "예측 요약 :  new ai can be like like camera study\n",
      "\n",
      "\n",
      "원문 : us navy wednesday rescued two women dogs lost sea five months setting hawaii two lost engine made distress calls signals detected women said survived enough food spotted nearly kilometres south east japan \n",
      "실제 요약 : us women and their dogs rescued after months lost at sea\n",
      "예측 요약 :  us navy rescue indian women in hours\n",
      "\n",
      "\n",
      "원문 : malala yousafzai youngest nobel peace prize winner called fellow laureate myanmar leader aung san suu kyi condemn ongoing violence rohingya muslims world waiting rohingya muslims waiting malala said around people died conflict involving myanmar security forces rohingya militants since october last year \n",
      "실제 요약 : malala slams san suu kyi over rohingya violence\n",
      "예측 요약 :  nobel prize peace rohingya refugees un\n",
      "\n",
      "\n",
      "원문 : julian assange founded wikileaks served lawsuit twitter democratic national committee lawsuit accuses wikileaks stealing nearly emails servers prior us elections filing request us court law firm representing tweeted lawsuit newly created twitter account \n",
      "실제 요약 : wikileaks served with lawsuit over twitter\n",
      "예측 요약 :  wikileaks sues cia over mn in wikileaks\n",
      "\n",
      "\n",
      "원문 : world number one roger federer played point knees bill gates charity match monday federer played close range volley rally world number jack knees respective partners looked federer collapsed time still point could clear net \n",
      "실제 요약 : roger federer plays tennis on his alongside bill gates\n",
      "예측 요약 :  federer wins federer after federer wins wimbledon\n",
      "\n",
      "\n",
      "원문 : police monday said year old man allegedly shot dead following quarrel car collided scooter delhi shahdara man sustained bullet injury thigh following rushed hospital doctors declared brought dead died due excessive bleeding police said \n",
      "실제 요약 : man shot dead after his car with scooter in delhi\n",
      "예측 요약 :  man killed after falling from delhi car in delhi\n",
      "\n",
      "\n",
      "원문 : two girls hit train delhi declared brought dead rushed hospital sunday police said police also found bag note sorry father written claimed one girls mother died years ago depressed \n",
      "실제 요약 : two girls hit by train in delhi sorry father note found\n",
      "예측 요약 :  delhi police rescue minor dead by family in delhi\n",
      "\n",
      "\n",
      "원문 : year old boy delhi forced drink acid group men following argument started refused sell owing shortage fresh stock according reports men reportedly held victim inside dairy shop run family forcefully poured acid mouth \n",
      "실제 요약 : delhi boy forced to drink acid after fight over\n",
      "예측 요약 :  year old boy killed by cops in delhi\n",
      "\n",
      "\n",
      "원문 : addressing gathering village gujarat pm modi said dream country celebrates years independence family house homes built pradhan mantri awas yojana high quality nobody pay bribe added \n",
      "실제 요약 : there should be no family without own home by pm modi\n",
      "예측 요약 :  pm modi to be in st of medical scheme\n",
      "\n",
      "\n",
      "원문 : bandhan bank shares fell record low monday rbi barred bank opening new branches froze ceo chandra shekhar ghosh salary current level eroded nearly crore bank market value rbi action came lender failed reduce promoter shareholding within three years operations \n",
      "실제 요약 : bandhan bank stock falls after rbi stops branch\n",
      "예측 요약 :  hdfc bank adds up to bank of baroda falls to bank\n",
      "\n",
      "\n",
      "원문 : national green tribunal planning hear cases via video conferencing petitioners travel delhi attend hearings due non availability judges expert members tribunal regional benches officials said ngt reportedly functioning less one third sanctioned strength likely appoint new members august \n",
      "실제 요약 : ngt to hear cases via video due to vacant posts\n",
      "예측 요약 :  ngt directs universities to examine patients\n",
      "\n",
      "\n",
      "원문 : pictures showing actor shahid kapoor learning sword fighting upcoming film padmavati emerged online reportedly learning six different forms sword fighting six different trainers film also stars deepika padukone ranveer singh revolves around alauddin khilji infatuation rajput queen padmavati \n",
      "실제 요약 : pics show shahid learning sword fighting for padmavati\n",
      "예측 요약 :  shahid kapoor shares pic from padmavati sets up\n",
      "\n",
      "\n",
      "원문 : video former karnataka cm siddaramaiah misbehaving party worker surfaced online siddaramaiah called accident said woman like sister tried stop party worker taking time known years added meanwhile said spoke roughly spoken like \n",
      "실제 요약 : she is like sister siddaramaiah on misbehaving with woman\n",
      "예측 요약 :  taka cm wife says he was asked to his wife\n",
      "\n",
      "\n",
      "원문 : lancashire captain liam wore shin pad left hand protect broken thumb batting number second innings yorkshire county championship today fractured thumb fielding earlier match however could face ball lancashire got two minutes came crease \n",
      "실제 요약 : batsman wears pad on hand to protect broken thumb\n",
      "예측 요약 :  player gets bat from his own match after match\n",
      "\n",
      "\n",
      "원문 : government infused crore air india august meaning air india paid total crore crore scheduled receive financial year government promised continue fund infusion agreed upon nearly decade ago even working towards selling part stake airline \n",
      "실제 요약 : air india receives over crore from the government\n",
      "예측 요약 :  air india to be crore in the highest in\n",
      "\n",
      "\n",
      "원문 : describing supreme court judgement aadhaar validity historic finance minister arun jaitley said scheme helped government saving crore every year targeting beneficiaries added crore people india aadhaar cards great step forward use technology governance jaitley said \n",
      "실제 요약 : aadhaar verdict historic scheme saves cr every yr fm\n",
      "예측 요약 :  aadhaar not mandatory for aadhaar supreme court\n",
      "\n",
      "\n",
      "원문 : letter snapdeal founders kunal bahl rohit bansal startup employees alleged two never understood organisation bigger killed deal save skin employees said failed snapdeal flipkart merger talks employees termed founders claim snapdeal making crore profit year lie \n",
      "실제 요약 : snapdeal bigger than your ego staff in letter to founders\n",
      "예측 요약 :  snapdeal ceo denies snapdeal founders quit after flipkart exit\n",
      "\n",
      "\n"
     ]
    }
   ],
   "source": [
    "for i in range(50, 100):\n",
    "    print(\"원문 :\", seq2text(encoder_input_test[i]))\n",
    "    print(\"실제 요약 :\", seq2headlines(decoder_input_test[i]))\n",
    "    print(\"예측 요약 :\", decode_sequence(encoder_input_test[i].reshape(1, text_max_len)))\n",
    "    print(\"\\n\")"
   ]
  },
  {
   "cell_type": "markdown",
   "id": "59b6c76d",
   "metadata": {},
   "source": [
    "## Step 5. Summa을 이용해서 추출적 요약해보기\n",
    "추상적 요약은 추출적 요약과는 달리 문장의 표현력을 다양하게 가져갈 수 있지만, 추출적 요약에 비해서 난이도가 높아요. 반대로 말하면 추출적 요약은 추상적 요약에 비해 난이도가 낮고 기존 문장에서 문장을 꺼내오는 것이므로 잘못된 요약이 나올 가능성이 낮아요.\n",
    "\n",
    "Summa의 summarize를 사용하여 추출적 요약을 해보세요."
   ]
  },
  {
   "cell_type": "code",
   "execution_count": 45,
   "id": "7f1faa43",
   "metadata": {},
   "outputs": [],
   "source": [
    "# 패키지 설치 및 가져오기\n",
    "import pandas as pd\n",
    "import urllib.request\n",
    "from summa.summarizer import summarize"
   ]
  },
  {
   "cell_type": "code",
   "execution_count": 46,
   "id": "abade418",
   "metadata": {},
   "outputs": [],
   "source": [
    "# 뉴스 기사 데이터 다운로드 및 로드\n",
    "urllib.request.urlretrieve(\"https://raw.githubusercontent.com/sunnysai12345/News_Summary/master/news_summary_more.csv\",\n",
    "                           filename=\"news_summary_more.csv\")\n",
    "\n",
    "data = pd.read_csv('news_summary_more.csv', encoding='iso-8859-1')"
   ]
  },
  {
   "cell_type": "code",
   "execution_count": 47,
   "id": "eccda29a",
   "metadata": {},
   "outputs": [
    {
     "name": "stdout",
     "output_type": "stream",
     "text": [
      "\n",
      "원문:\n",
      "New Zealand defeated India by 8 wickets in the fourth ODI at Hamilton on Thursday to win their first match of the five-match ODI series. India lost an international match under Rohit Sharma's captaincy after 12 consecutive victories dating back to March 2018. The match witnessed India getting all out for 92, their seventh lowest total in ODI cricket history.\n"
     ]
    }
   ],
   "source": [
    "# 랜덤 샘플 선택 (예제: 3번째 기사)\n",
    "sample_text = data['text'][2]  # 2번째 행의 뉴스 기사 원문\n",
    "\n",
    "print(\"\\n원문:\")\n",
    "print(sample_text)  # 원문 출력"
   ]
  },
  {
   "cell_type": "code",
   "execution_count": 57,
   "id": "ee0b0760",
   "metadata": {},
   "outputs": [
    {
     "name": "stdout",
     "output_type": "stream",
     "text": [
      "\n",
      "비율 기반 요약 (50%)\n",
      "The match witnessed India getting all out for 92, their seventh lowest total in ODI cricket history.\n"
     ]
    }
   ],
   "source": [
    "# 비율 기반 요약 (뉴스 기사 원문의 50% 요약)\n",
    "print(\"\\n비율 기반 요약 (50%)\")\n",
    "print(summarize(sample_text, ratio=0.5))"
   ]
  },
  {
   "cell_type": "code",
   "execution_count": 58,
   "id": "ff93c404",
   "metadata": {},
   "outputs": [
    {
     "name": "stdout",
     "output_type": "stream",
     "text": [
      "\n",
      "단어 수 기반 요약 (30단어)\n",
      "New Zealand defeated India by 8 wickets in the fourth ODI at Hamilton on Thursday to win their first match of the five-match ODI series.\n",
      "The match witnessed India getting all out for 92, their seventh lowest total in ODI cricket history.\n"
     ]
    }
   ],
   "source": [
    "# 단어 수 기반 요약 (단어 30개만 유지)\n",
    "print(\"\\n단어 수 기반 요약 (30단어)\")\n",
    "print(summarize(sample_text, words=30))"
   ]
  },
  {
   "cell_type": "code",
   "execution_count": 59,
   "id": "4f663a40",
   "metadata": {},
   "outputs": [
    {
     "name": "stdout",
     "output_type": "stream",
     "text": [
      "\n",
      "리스트 형태 요약\n",
      "['The match witnessed India getting all out for 92, their seventh lowest total in ODI cricket history.']\n"
     ]
    }
   ],
   "source": [
    "# 요약 결과를 리스트 형태로 출력\n",
    "print(\"\\n리스트 형태 요약\")\n",
    "print(summarize(sample_text, ratio=0.5, split=True))"
   ]
  },
  {
   "cell_type": "code",
   "execution_count": 64,
   "id": "f8f71371",
   "metadata": {
    "scrolled": false
   },
   "outputs": [
    {
     "name": "stdout",
     "output_type": "stream",
     "text": [
      "\n",
      "\n",
      "===== 샘플 70 =====\n",
      "원문:\n",
      "Apple CEO Tim Cook said the company plans to lower some iPhones' prices in markets with currencies that weakened against the US dollar in the past year. \"WeÃ¢ÂÂve decided to go back to (iPhone prices) more commensurate with...local prices...a year ago,\" Cook added. The price cuts, in hopes of increasing sales, are reportedly occurring for second time in 12 years.\n",
      "\n",
      "추출적 요약(20단어 유지):\n",
      "\"WeÃ¢ÂÂve decided to go back to (iPhone prices) more commensurate with...local prices...a year ago,\" Cook added.\n",
      "\n",
      "\n",
      "\n",
      "===== 샘플 71 =====\n",
      "원문:\n",
      "Scientists in Australia's Flinders University are testing a wetsuit prototype that could protect its wearer after a shark attack. The suit, made of synthetic material similar to the material used in bulletproof vests, could help reduce blood loss after a shark attack. \"The majority of fatalities from shark bites is due to blood loss...shock from blood loss,\" a scientist said.\n",
      "\n",
      "추출적 요약(20단어 유지):\n",
      "\"The majority of fatalities from shark bites is due to blood loss...shock from blood loss,\" a scientist said.\n",
      "\n",
      "\n",
      "\n",
      "===== 샘플 72 =====\n",
      "원문:\n",
      "BJP National Secretary Rahul Sinha on Wednesday asked the party workers in West Bengal to come armed with sticks to PM Narendra Modi's rally in the state on February 2. His statement came a day after clashes broke out following BJP chief Amit Shah's WB rally. Sinha added the TMC is indulged in violence as they're afraid of BJP's strength.\n",
      "\n",
      "추출적 요약(20단어 유지):\n",
      "BJP National Secretary Rahul Sinha on Wednesday asked the party workers in West Bengal to come armed with sticks to PM Narendra Modi's rally in the state on February 2.\n",
      "\n",
      "\n",
      "\n",
      "===== 샘플 73 =====\n",
      "원문:\n",
      "BJP President Amit Shah on Wednesday took a dig at the Opposition parties saying that the 'mahagathbandhan' for the Opposition is 4B - \"Bua-Bhatija-Bhai-Behen\". He added that 4B for the BJP meant \"Badhta Bharat, Banta Bharat\". He said Opposition's government cannot take the country ahead and \"only Modiji can provide a 'mazboot' (strong) government\".\n",
      "\n",
      "추출적 요약(20단어 유지):\n",
      "BJP President Amit Shah on Wednesday took a dig at the Opposition parties saying that the 'mahagathbandhan' for the Opposition is 4B - \"Bua-Bhatija-Bhai-Behen\".\n",
      "\n",
      "\n",
      "\n",
      "===== 샘플 74 =====\n",
      "원문:\n",
      "German automaker Volkswagen Group has retained the car industry's top spot in global sales, beating its Japanese rival Toyota. Volkswagen's sales, including its MAN and Scania heavy trucks and buses, rose 0.9% to 10.83 million in 2018, the company had said. Toyota came second with around 10.6 million deliveries, including its affiliated brands Daihatsu and Hino, in 2018.\n",
      "\n",
      "추출적 요약(20단어 유지):\n",
      "Volkswagen's sales, including its MAN and Scania heavy trucks and buses, rose 0.9% to 10.83 million in 2018, the company had said.\n",
      "\n",
      "\n",
      "\n",
      "===== 샘플 75 =====\n",
      "원문:\n",
      "Ousted Nissan Chairman Carlos Ghosn has said his arrest over alleged financial misconduct was led by \"plot and treason\" by the Japanese carmaker's executives who opposed its deeper integration with Renault and Mitsubishi. Ghosn added he had discussed the integration plans with Nissan's CEO in September, a month before his arrest. He further said he wouldn't flee if granted bail.\n",
      "\n",
      "추출적 요약(20단어 유지):\n",
      "Ousted Nissan Chairman Carlos Ghosn has said his arrest over alleged financial misconduct was led by \"plot and treason\" by the Japanese carmaker's executives who opposed its deeper integration with Renault and Mitsubishi.\n",
      "\n",
      "\n",
      "\n",
      "===== 샘플 76 =====\n",
      "원문:\n",
      "The government has cut down customs duty on import of parts and components for electric vehicles to 10-15%, down from the previous 15-30%. The Central Board of Indirect Taxes and Customs said disassembled parts will attract 10% duty, whereas 15% will be levied on pre-assembled packs. However, fully built electric vehicles will continue to attract 25% import duty.\n",
      "\n",
      "추출적 요약(20단어 유지):\n",
      "The government has cut down customs duty on import of parts and components for electric vehicles to 10-15%, down from the previous 15-30%.\n",
      "\n",
      "\n",
      "\n",
      "===== 샘플 77 =====\n",
      "원문:\n",
      "Government officials on Wednesday said that a swine flu outbreak has killed 76 people this year in Rajasthan. Colder weather has worsened the seasonal outbreak of the H1N1 virus in the country, officials added. Rajasthan recorded more than a third of all swine flu deaths in India with Jodhpur being the worst affected area in the state, officials said.\n",
      "\n",
      "추출적 요약(20단어 유지):\n",
      "Government officials on Wednesday said that a swine flu outbreak has killed 76 people this year in Rajasthan.\n",
      "\n",
      "\n",
      "\n",
      "===== 샘플 78 =====\n",
      "원문:\n",
      "North Korea is \"unlikely to completely give up its nuclear weapons and production capabilities\", Director of US' National Intelligence, Daniel Coats, said. \"North Korean leaders view nuclear arms as critical to regime survival,\" he added. His statements come despite North Korea's agreement with the US at the Singapore summit last year to denuclearise the Korean Peninsula. \n",
      "\n",
      "추출적 요약(20단어 유지):\n",
      "\"North Korean leaders view nuclear arms as critical to regime survival,\" he added.\n",
      "\n",
      "\n",
      "\n",
      "===== 샘플 79 =====\n",
      "원문:\n",
      "Jet Airways on Wednesday denied it was directed by GE Capital Aviation Services to ground its aircraft due to non-payment of dues. The airline said it's in the process of delivering three aircraft to lessors due to the expiry of lease terms. Further, three aircraft have been temporarily grounded to carry out an engine normalisation exercise, it added.\n",
      "\n",
      "추출적 요약(20단어 유지):\n",
      "Further, three aircraft have been temporarily grounded to carry out an engine normalisation exercise, it added.\n",
      "\n"
     ]
    }
   ],
   "source": [
    "# 원문, 추출적 요약 비교\n",
    "for i in range(70, 80):  # 70번부터 79번까지 총 10개의 샘플 요약\n",
    "    original_text = data['text'][i]  # 원문 가져오기\n",
    "\n",
    "    # 단어 수 기반 요약 (20단어 유지)\n",
    "    extractive_summary = summarize(original_text, words=20)\n",
    "\n",
    "    print(f\"\\n\\n===== 샘플 {i} =====\")\n",
    "    print(f\"원문:\\n{original_text}\\n\")\n",
    "    print(f\"추출적 요약(20단어 유지):\\n{extractive_summary}\\n\")"
   ]
  },
  {
   "cell_type": "code",
   "execution_count": null,
   "id": "69e2edcc",
   "metadata": {},
   "outputs": [],
   "source": []
  }
 ],
 "metadata": {
  "kernelspec": {
   "display_name": "Python 3 (ipykernel)",
   "language": "python",
   "name": "python3"
  },
  "language_info": {
   "codemirror_mode": {
    "name": "ipython",
    "version": 3
   },
   "file_extension": ".py",
   "mimetype": "text/x-python",
   "name": "python",
   "nbconvert_exporter": "python",
   "pygments_lexer": "ipython3",
   "version": "3.9.7"
  }
 },
 "nbformat": 4,
 "nbformat_minor": 5
}
