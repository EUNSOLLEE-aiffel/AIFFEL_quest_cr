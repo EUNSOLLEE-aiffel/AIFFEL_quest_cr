{
  "nbformat": 4,
  "nbformat_minor": 0,
  "metadata": {
    "colab": {
      "provenance": [],
      "authorship_tag": "ABX9TyO/EHaZE16qHlhnJMFY+KfB",
      "include_colab_link": true
    },
    "kernelspec": {
      "name": "python3",
      "display_name": "Python 3"
    },
    "language_info": {
      "name": "python"
    }
  },
  "cells": [
    {
      "cell_type": "markdown",
      "metadata": {
        "id": "view-in-github",
        "colab_type": "text"
      },
      "source": [
        "<a href=\"https://colab.research.google.com/github/EUNSOLLEE-aiffel/AIFFEL_quest_cr/blob/master/25_01_22_Sub_QUEST_C_12.ipynb\" target=\"_parent\"><img src=\"https://colab.research.google.com/assets/colab-badge.svg\" alt=\"Open In Colab\"/></a>"
      ]
    },
    {
      "cell_type": "code",
      "execution_count": null,
      "metadata": {
        "id": "_wlAK7ARo-aQ"
      },
      "outputs": [],
      "source": [
        "import 'package:flutter/material.dart';\n",
        "\n",
        "void main() {\n",
        "  runApp(MyApp());\n",
        "}\n",
        "\n",
        "class MyApp extends StatelessWidget {\n",
        "  @override\n",
        "  Widget build(BuildContext context) {\n",
        "    return MaterialApp(\n",
        "      debugShowCheckedModeBanner: false,\n",
        "      home: Scaffold(\n",
        "        appBar: AppBar(\n",
        "          title: Text(\"플러터 앱 만들기\"),\n",
        "          centerTitle: true, // 타이틀을 중앙으로 정렬\n",
        "          backgroundColor: Colors.blue, // AppBar 색상\n",
        "          leading: Icon(Icons.menu), // 왼쪽 상단 아이콘\n",
        "        ),\n",
        "\n",
        "        body: Center(\n",
        "          child: Column(\n",
        "            mainAxisAlignment: MainAxisAlignment.center,\n",
        "            children: [\n",
        "              ElevatedButton(\n",
        "                onPressed: () {\n",
        "                  debugPrint(\"버튼이 눌렸습니다\"); // 클릭 시 DEBUG 콘솔 출력\n",
        "                },\n",
        "                child: Text(\"Text\"), // 버튼 텍스트\n",
        "              ),\n",
        "\n",
        "              SizedBox(height: 20), // 버튼과 Stack 사이 간격\n",
        "\n",
        "              Stack(\n",
        "                // alignment: Alignment.center, // 컨테이너가 Left-Top으로 적용되도록 삭제\n",
        "                children: [\n",
        "                  Container(\n",
        "                    width: 300,\n",
        "                    height: 300,\n",
        "                    decoration: BoxDecoration(\n",
        "                      color: Colors.blue,\n",
        "                      border: Border.all(color: Colors.black), // 첫 번째 사각형 테두리\n",
        "                    ),\n",
        "                  ),\n",
        "\n",
        "                  Container(\n",
        "                    width: 240,\n",
        "                    height: 240,\n",
        "                    decoration: BoxDecoration(\n",
        "                      color: Colors.green,\n",
        "                      border: Border.all(color: Colors.black), // 두 번째 사각형 테두리\n",
        "                    ),\n",
        "                  ),\n",
        "                  Container(\n",
        "                    width: 180,\n",
        "                    height: 180,\n",
        "                    decoration: BoxDecoration(\n",
        "                      color: Colors.yellow,\n",
        "                      border: Border.all(color: Colors.black), // 세 번째 사각형 테두리\n",
        "                    ),\n",
        "                  ),\n",
        "                  Container(\n",
        "                    width: 120,\n",
        "                    height: 120,\n",
        "                    decoration: BoxDecoration(\n",
        "                      border: Border.all(color: Colors.black),\n",
        "                      color: Colors.orange,// 네 번째 사각형 테두리, border와 color의 위치가 달라도 잘 출력되는 것을 확인\n",
        "                    ),\n",
        "                  ),\n",
        "                  Container(\n",
        "                    width: 60,\n",
        "                    height: 60,\n",
        "                    decoration: BoxDecoration(\n",
        "                      border: Border.all(color: Colors.black),\n",
        "                      color: Colors.red,// 다섯 번째 사각형 테두리, 마찬가지로 border와 color의 위치가 달라도 잘 출력되는 것을 확인\n",
        "                    ),\n",
        "                  ),\n",
        "                ],\n",
        "              ),\n",
        "            ],\n",
        "          ),\n",
        "        ),\n",
        "      ),\n",
        "    );\n",
        "  }\n",
        "}"
      ]
    },
    {
      "cell_type": "markdown",
      "source": [
        "# 회고\n",
        "\n",
        "### 1. 민성\n",
        "- 책을 학습할 때는 잘 몰랐는데, 퀘스트를 진행하면서 다시 책을 보니 생각보다 상세히 나와있어서 그대로 따라갈 수 있었습니다. 역시 혼자서 하는 것 보다 그루님과 함께 코드를 구현하는 것이 더 효율적이고 즐거웠습니다. 컨테이너 위치를 설정할 때 오류가 있었는데, 오히려 alignment를 설정하지 않으면 자동으로 lefttop이 되는 것을 은솔님을 통해 알 수 있었습니다.\n",
        "\n",
        "### 2. 은솔\n",
        "- 처음에 컨테이너가 왼쪽 상단에 위치하지 않는 문제를 분석하였습니다. 책 233페이지를 참조하여 alignment: Alignment.center 속성을 삭제하고 문제를 해결할 수 있었습니다.\n",
        "- BoxDecoration의 border 속성은 컨테이너의 외곽선을 그려주는 역할을 한다는 것을 알게 되었습니다. 또한, 외곽선의 색상을 지정하려면 decoration 속성 내에서 color를 설정해야 한다는 점을 배웠습니다.\n",
        "- 민성님과 제가 작성한 코드를 비교하며 오류 발생 원인을 논의하고, 함께 해결책을 찾아가며 학습할 수 있었습니다."
      ],
      "metadata": {
        "id": "EWDNPiZxpObu"
      }
    }
  ]
}