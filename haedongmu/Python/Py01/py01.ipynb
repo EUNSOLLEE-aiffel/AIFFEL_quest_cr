{
  "nbformat": 4,
  "nbformat_minor": 0,
  "metadata": {
    "colab": {
      "provenance": [],
      "include_colab_link": true
    },
    "kernelspec": {
      "name": "python3",
      "display_name": "Python 3"
    },
    "language_info": {
      "name": "python"
    }
  },
  "cells": [
    {
      "cell_type": "markdown",
      "metadata": {
        "id": "view-in-github",
        "colab_type": "text"
      },
      "source": [
        "<a href=\"https://colab.research.google.com/github/haedongmu/AIFFEL_quest_cr/blob/main/Python/Py01/py01.ipynb\" target=\"_parent\"><img src=\"https://colab.research.google.com/assets/colab-badge.svg\" alt=\"Open In Colab\"/></a>"
      ]
    },
    {
      "cell_type": "code",
      "source": [
        "#input 으로 문자열을 입력받는다.\n",
        "\n",
        "#입력받은 문자열을 읽어서 거꾸로 다른 변수에 저장한다.\n",
        "\n",
        "#if문을 사용해서 첫번째 문자열과 두번째 문자열이 같은지 비교한다.\n",
        "\n",
        "#True 가 나오면 회문이라고 출력하고, 그렇지 않다면 회문이 아니라고 출력한다.\n",
        "\n",
        "text = str(input('문자를 입력하세요'))\n",
        "reverse_text = text[::-1]\n",
        "if reverse_text == text:\n",
        "    print(\"회문이 맞습니다.\")\n",
        "else:\n",
        "    print(\"회문이 아닙니다.\")\n",
        "print(\"뒤집힌 단어 :\" , reverse_text)"
      ],
      "metadata": {
        "id": "HJHEDvwlE7WO",
        "colab": {
          "base_uri": "https://localhost:8080/"
        },
        "outputId": "0fd13085-6873-44d2-af2d-19a01055a0c5"
      },
      "execution_count": 7,
      "outputs": [
        {
          "output_type": "stream",
          "name": "stdout",
          "text": [
            "문자를 입력하세요기러기\n",
            "회문이 맞습니다.\n",
            "뒤집힌 단어 : 기러기\n"
          ]
        }
      ]
    },
    {
      "cell_type": "code",
      "source": [
        "#입력받은 문자열을 읽어서 거꾸로 다른 변수에 저장한다.\n",
        "\n",
        "#if문을 사용해서 첫번째 문자열과 두번째 문자열이 같은지 비교한다.\n",
        "\n",
        "#True 가 나오면 회문이라고 출력하고, 그렇지 않다면 회문이 아니라고 출력한다.\n",
        "\n",
        "text = str(input('문자를 입력하세요'))\n",
        "reverse_text = text[::-1]\n",
        "if reverse_text == text:\n",
        "    print(\"회문이 맞습니다.\")\n",
        "else:\n",
        "    print(\"회문이 아닙니다.\")\n",
        "print(\"뒤집힌 단어 :\" , reverse_text)"
      ],
      "metadata": {
        "colab": {
          "base_uri": "https://localhost:8080/"
        },
        "id": "oQXkqLBPZPRR",
        "outputId": "b36205e6-e2ae-4674-b3c9-cbfa0be275b1"
      },
      "execution_count": 8,
      "outputs": [
        {
          "output_type": "stream",
          "name": "stdout",
          "text": [
            "문자를 입력하세요강아지\n",
            "회문이 아닙니다.\n",
            "뒤집힌 단어 : 지아강\n"
          ]
        }
      ]
    },
    {
      "cell_type": "markdown",
      "source": [
        "이 문제는 입력받은 문자열을 거꾸로 변환한 다음 원문자열과 비교하는 것인데\n",
        "핵심은 문자열을 거꾸로 변환하는 부분입니다.\n",
        "Line 2에서 문자열 indexing 을 사용하여, 문자열의 끝에서부터 역순으로 새로운 변수인 reverse_text에 저장하였습니다."
      ],
      "metadata": {
        "id": "GH0n0E5hY7Ch"
      }
    },
    {
      "cell_type": "code",
      "source": [],
      "metadata": {
        "id": "tyT6Jj6bKNj_"
      },
      "execution_count": null,
      "outputs": []
    }
  ]
}