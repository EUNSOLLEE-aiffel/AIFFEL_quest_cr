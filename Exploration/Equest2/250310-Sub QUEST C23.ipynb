{
 "cells": [
  {
   "cell_type": "markdown",
   "id": "fd1cb80e",
   "metadata": {},
   "source": [
    "# 프로젝트: 뉴스기사 요약해보기"
   ]
  },
  {
   "cell_type": "markdown",
   "id": "b6228528",
   "metadata": {},
   "source": [
    "# [ 목차 ]\n",
    "- Step 1. 데이터 수집하기\n",
    "- Step 2. 데이터 전처리하기 (추상적 요약)\n",
    "- Step 3. 어텐션 메커니즘 사용하기 (추상적 요약)\n",
    "- Step 4. 실제 결과와 요약문 비교하기 (추상적 요약)\n",
    "- Step 5. Summa을 이용해서 추출적 요약해보기"
   ]
  },
  {
   "cell_type": "code",
   "execution_count": 54,
   "id": "73d5a010",
   "metadata": {},
   "outputs": [
    {
     "name": "stdout",
     "output_type": "stream",
     "text": [
      "3.6.5\n",
      "2.6.0\n",
      "1.3.3\n",
      "1.2.0\n"
     ]
    }
   ],
   "source": [
    "# 주요 라이브러리 버전 확인\n",
    "from importlib.metadata import version\n",
    "import nltk\n",
    "import tensorflow\n",
    "import summa\n",
    "import pandas as pd\n",
    "\n",
    "print(nltk.__version__)\n",
    "print(tensorflow.__version__)\n",
    "print(pd.__version__)\n",
    "print(version('summa'))"
   ]
  },
  {
   "cell_type": "markdown",
   "id": "4ac0d40b",
   "metadata": {},
   "source": [
    "## Step 1. 데이터 수집하기\n",
    "추상적 요약을 하는 경우에는 text를 본문, headlines를 이미 요약된 데이터로 삼아서 모델을 학습할 수 있어요. 추출적 요약을 하는 경우에는 오직 text열만을 사용하세요."
   ]
  },
  {
   "cell_type": "code",
   "execution_count": 55,
   "id": "607267e1",
   "metadata": {},
   "outputs": [],
   "source": [
    "# 뉴스 기사 데이터 다운로드\n",
    "import urllib.request\n",
    "urllib.request.urlretrieve(\"https://raw.githubusercontent.com/sunnysai12345/News_Summary/master/news_summary_more.csv\", filename=\"news_summary_more.csv\")\n",
    "data = pd.read_csv('news_summary_more.csv', encoding='iso-8859-1')"
   ]
  },
  {
   "cell_type": "code",
   "execution_count": 56,
   "id": "79770bac",
   "metadata": {},
   "outputs": [
    {
     "data": {
      "text/html": [
       "<div>\n",
       "<style scoped>\n",
       "    .dataframe tbody tr th:only-of-type {\n",
       "        vertical-align: middle;\n",
       "    }\n",
       "\n",
       "    .dataframe tbody tr th {\n",
       "        vertical-align: top;\n",
       "    }\n",
       "\n",
       "    .dataframe thead th {\n",
       "        text-align: right;\n",
       "    }\n",
       "</style>\n",
       "<table border=\"1\" class=\"dataframe\">\n",
       "  <thead>\n",
       "    <tr style=\"text-align: right;\">\n",
       "      <th></th>\n",
       "      <th>headlines</th>\n",
       "      <th>text</th>\n",
       "    </tr>\n",
       "  </thead>\n",
       "  <tbody>\n",
       "    <tr>\n",
       "      <th>42579</th>\n",
       "      <td>Helmet-shaped brain scanner allows patients to...</td>\n",
       "      <td>UK-based researchers have claimed to invent th...</td>\n",
       "    </tr>\n",
       "    <tr>\n",
       "      <th>55624</th>\n",
       "      <td>Rohit 2nd Indian after Kohli to slam 1,500 run...</td>\n",
       "      <td>Indian opener Rohit Sharma has become the seco...</td>\n",
       "    </tr>\n",
       "    <tr>\n",
       "      <th>76459</th>\n",
       "      <td>I take 100 catches in every practice session: ...</td>\n",
       "      <td>Ajinkya Rahane has revealed that he takes 100 ...</td>\n",
       "    </tr>\n",
       "    <tr>\n",
       "      <th>50598</th>\n",
       "      <td>Women BSF bikers participate in R-Day parade f...</td>\n",
       "      <td>An all-woman bikers contingent of the Border S...</td>\n",
       "    </tr>\n",
       "    <tr>\n",
       "      <th>77046</th>\n",
       "      <td>Virender Sehwag meets members of Indian women'...</td>\n",
       "      <td>Virender Sehwag took to Twitter to share a pic...</td>\n",
       "    </tr>\n",
       "    <tr>\n",
       "      <th>7689</th>\n",
       "      <td>No reason to replace Powar: Kaur to BCCI amid ...</td>\n",
       "      <td>India Women T20I captain Harmanpreet Kaur has ...</td>\n",
       "    </tr>\n",
       "    <tr>\n",
       "      <th>15058</th>\n",
       "      <td>Infected polio vaccines given to kids in UP, M...</td>\n",
       "      <td>Health Ministry officials confirmed that some ...</td>\n",
       "    </tr>\n",
       "    <tr>\n",
       "      <th>15529</th>\n",
       "      <td>Dhoni completes 800 dismissals in internationa...</td>\n",
       "      <td>Indian wicketkeeper MS Dhoni completed 800 dis...</td>\n",
       "    </tr>\n",
       "    <tr>\n",
       "      <th>86156</th>\n",
       "      <td>SBI launches record share sale to raise up to ...</td>\n",
       "      <td>India's largest lender SBI launched the countr...</td>\n",
       "    </tr>\n",
       "    <tr>\n",
       "      <th>71428</th>\n",
       "      <td>Kalanick praises Khosrowshahi on his first day...</td>\n",
       "      <td>Ousted Uber CEO Travis Kalanick appreciated Da...</td>\n",
       "    </tr>\n",
       "  </tbody>\n",
       "</table>\n",
       "</div>"
      ],
      "text/plain": [
       "                                               headlines  \\\n",
       "42579  Helmet-shaped brain scanner allows patients to...   \n",
       "55624  Rohit 2nd Indian after Kohli to slam 1,500 run...   \n",
       "76459  I take 100 catches in every practice session: ...   \n",
       "50598  Women BSF bikers participate in R-Day parade f...   \n",
       "77046  Virender Sehwag meets members of Indian women'...   \n",
       "7689   No reason to replace Powar: Kaur to BCCI amid ...   \n",
       "15058  Infected polio vaccines given to kids in UP, M...   \n",
       "15529  Dhoni completes 800 dismissals in internationa...   \n",
       "86156  SBI launches record share sale to raise up to ...   \n",
       "71428  Kalanick praises Khosrowshahi on his first day...   \n",
       "\n",
       "                                                    text  \n",
       "42579  UK-based researchers have claimed to invent th...  \n",
       "55624  Indian opener Rohit Sharma has become the seco...  \n",
       "76459  Ajinkya Rahane has revealed that he takes 100 ...  \n",
       "50598  An all-woman bikers contingent of the Border S...  \n",
       "77046  Virender Sehwag took to Twitter to share a pic...  \n",
       "7689   India Women T20I captain Harmanpreet Kaur has ...  \n",
       "15058  Health Ministry officials confirmed that some ...  \n",
       "15529  Indian wicketkeeper MS Dhoni completed 800 dis...  \n",
       "86156  India's largest lender SBI launched the countr...  \n",
       "71428  Ousted Uber CEO Travis Kalanick appreciated Da...  "
      ]
     },
     "execution_count": 56,
     "metadata": {},
     "output_type": "execute_result"
    }
   ],
   "source": [
    "# 데이터 확인\n",
    "data.sample(10)"
   ]
  },
  {
   "cell_type": "code",
   "execution_count": 57,
   "id": "6eaa8d2f",
   "metadata": {},
   "outputs": [
    {
     "name": "stdout",
     "output_type": "stream",
     "text": [
      "전체 샘플 수: 98401\n",
      "                                           headlines  \\\n",
      "0  upGrad learner switches to career in ML & Al w...   \n",
      "1  Delhi techie wins free food from Swiggy for on...   \n",
      "2  New Zealand end Rohit Sharma-led India's 12-ma...   \n",
      "3  Aegon life iTerm insurance plan helps customer...   \n",
      "4  Have known Hirani for yrs, what if MeToo claim...   \n",
      "\n",
      "                                                text  \n",
      "0  Saurav Kant, an alumnus of upGrad and IIIT-B's...  \n",
      "1  Kunal Shah's credit card bill payment platform...  \n",
      "2  New Zealand defeated India by 8 wickets in the...  \n",
      "3  With Aegon Life iTerm Insurance plan, customer...  \n",
      "4  Speaking about the sexual harassment allegatio...  \n"
     ]
    }
   ],
   "source": [
    "print(\"전체 샘플 수:\", len(data))\n",
    "print(data.head())"
   ]
  },
  {
   "cell_type": "markdown",
   "id": "f5b2e108",
   "metadata": {},
   "source": [
    "## Step 2. 데이터 전처리하기 (추상적 요약)\n",
    "실습에서 사용된 전처리를 참고하여 각자 필요하다고 생각하는 전처리를 추가 사용하여 텍스트를 정규화 또는 정제해 보세요. 만약, 불용어 제거를 선택한다면 상대적으로 길이가 짧은 요약 데이터에 대해서도 불용어를 제거하는 것이 좋을지 고민해 보세요."
   ]
  },
  {
   "cell_type": "markdown",
   "id": "5a8e75ae",
   "metadata": {},
   "source": [
    "### 데이터 정리하기"
   ]
  },
  {
   "cell_type": "code",
   "execution_count": 58,
   "id": "9ea5d9fa",
   "metadata": {},
   "outputs": [
    {
     "name": "stderr",
     "output_type": "stream",
     "text": [
      "[nltk_data] Downloading package stopwords to /aiffel/nltk_data...\n",
      "[nltk_data]   Package stopwords is already up-to-date!\n"
     ]
    }
   ],
   "source": [
    "# 필요한 라이브러리 불러오기\n",
    "import nltk\n",
    "nltk.download('stopwords') # NLTK 불용어 다운로드\n",
    "\n",
    "import numpy as np\n",
    "import pandas as pd\n",
    "import os\n",
    "import re\n",
    "import matplotlib.pyplot as plt\n",
    "from nltk.corpus import stopwords\n",
    "from bs4 import BeautifulSoup \n",
    "from tensorflow.keras.preprocessing.text import Tokenizer \n",
    "from tensorflow.keras.preprocessing.sequence import pad_sequences\n",
    "import urllib.request\n",
    "import warnings\n",
    "warnings.filterwarnings(\"ignore\", category=UserWarning, module='bs4')"
   ]
  },
  {
   "cell_type": "markdown",
   "id": "47c747f6",
   "metadata": {},
   "source": [
    "**중복 및 Null 값 제거**"
   ]
  },
  {
   "cell_type": "code",
   "execution_count": 59,
   "id": "e962941c",
   "metadata": {},
   "outputs": [
    {
     "name": "stdout",
     "output_type": "stream",
     "text": [
      "Text 열에서 중복을 배제한 유일한 샘플의 수 : 98360\n",
      "Headlines 열에서 중복을 배제한 유일한 샘플의 수 : 98280\n"
     ]
    }
   ],
   "source": [
    "# 중복 샘플 유무 확인\n",
    "print('Text 열에서 중복을 배제한 유일한 샘플의 수 :', data['text'].nunique())\n",
    "print('Headlines 열에서 중복을 배제한 유일한 샘플의 수 :', data['headlines'].nunique())"
   ]
  },
  {
   "cell_type": "code",
   "execution_count": 60,
   "id": "3b6767de",
   "metadata": {},
   "outputs": [],
   "source": [
    "# 중복 제거\n",
    "data.drop_duplicates(subset=['text'], inplace=True)"
   ]
  },
  {
   "cell_type": "code",
   "execution_count": 61,
   "id": "5b2d2dc8",
   "metadata": {},
   "outputs": [
    {
     "name": "stdout",
     "output_type": "stream",
     "text": [
      "headlines    0\n",
      "text         0\n",
      "dtype: int64\n"
     ]
    }
   ],
   "source": [
    "# Null 값 확인\n",
    "print(data.isnull().sum())"
   ]
  },
  {
   "cell_type": "code",
   "execution_count": 62,
   "id": "9fc48fb9",
   "metadata": {},
   "outputs": [
    {
     "name": "stdout",
     "output_type": "stream",
     "text": [
      "중복값 제거 후 샘플 수: 98360\n"
     ]
    }
   ],
   "source": [
    "print(\"중복값 제거 후 샘플 수:\", len(data))"
   ]
  },
  {
   "cell_type": "markdown",
   "id": "aa30f6a3",
   "metadata": {},
   "source": [
    "**텍스트 정규화 및 불용어 제거**"
   ]
  },
  {
   "cell_type": "code",
   "execution_count": 63,
   "id": "f29cf00b",
   "metadata": {},
   "outputs": [
    {
     "name": "stdout",
     "output_type": "stream",
     "text": [
      "정규화 사전의 수:  120\n"
     ]
    }
   ],
   "source": [
    "# 축약어 사전 정의\n",
    "contractions = {\"ain't\": \"is not\", \"aren't\": \"are not\",\"can't\": \"cannot\", \"'cause\": \"because\", \"could've\": \"could have\", \"couldn't\": \"could not\",\n",
    "                           \"didn't\": \"did not\",  \"doesn't\": \"does not\", \"don't\": \"do not\", \"hadn't\": \"had not\", \"hasn't\": \"has not\", \"haven't\": \"have not\",\n",
    "                           \"he'd\": \"he would\",\"he'll\": \"he will\", \"he's\": \"he is\", \"how'd\": \"how did\", \"how'd'y\": \"how do you\", \"how'll\": \"how will\", \"how's\": \"how is\",\n",
    "                           \"I'd\": \"I would\", \"I'd've\": \"I would have\", \"I'll\": \"I will\", \"I'll've\": \"I will have\",\"I'm\": \"I am\", \"I've\": \"I have\", \"i'd\": \"i would\",\n",
    "                           \"i'd've\": \"i would have\", \"i'll\": \"i will\",  \"i'll've\": \"i will have\",\"i'm\": \"i am\", \"i've\": \"i have\", \"isn't\": \"is not\", \"it'd\": \"it would\",\n",
    "                           \"it'd've\": \"it would have\", \"it'll\": \"it will\", \"it'll've\": \"it will have\",\"it's\": \"it is\", \"let's\": \"let us\", \"ma'am\": \"madam\",\n",
    "                           \"mayn't\": \"may not\", \"might've\": \"might have\",\"mightn't\": \"might not\",\"mightn't've\": \"might not have\", \"must've\": \"must have\",\n",
    "                           \"mustn't\": \"must not\", \"mustn't've\": \"must not have\", \"needn't\": \"need not\", \"needn't've\": \"need not have\",\"o'clock\": \"of the clock\",\n",
    "                           \"oughtn't\": \"ought not\", \"oughtn't've\": \"ought not have\", \"shan't\": \"shall not\", \"sha'n't\": \"shall not\", \"shan't've\": \"shall not have\",\n",
    "                           \"she'd\": \"she would\", \"she'd've\": \"she would have\", \"she'll\": \"she will\", \"she'll've\": \"she will have\", \"she's\": \"she is\",\n",
    "                           \"should've\": \"should have\", \"shouldn't\": \"should not\", \"shouldn't've\": \"should not have\", \"so've\": \"so have\",\"so's\": \"so as\",\n",
    "                           \"this's\": \"this is\",\"that'd\": \"that would\", \"that'd've\": \"that would have\", \"that's\": \"that is\", \"there'd\": \"there would\",\n",
    "                           \"there'd've\": \"there would have\", \"there's\": \"there is\", \"here's\": \"here is\",\"they'd\": \"they would\", \"they'd've\": \"they would have\",\n",
    "                           \"they'll\": \"they will\", \"they'll've\": \"they will have\", \"they're\": \"they are\", \"they've\": \"they have\", \"to've\": \"to have\",\n",
    "                           \"wasn't\": \"was not\", \"we'd\": \"we would\", \"we'd've\": \"we would have\", \"we'll\": \"we will\", \"we'll've\": \"we will have\", \"we're\": \"we are\",\n",
    "                           \"we've\": \"we have\", \"weren't\": \"were not\", \"what'll\": \"what will\", \"what'll've\": \"what will have\", \"what're\": \"what are\",\n",
    "                           \"what's\": \"what is\", \"what've\": \"what have\", \"when's\": \"when is\", \"when've\": \"when have\", \"where'd\": \"where did\", \"where's\": \"where is\",\n",
    "                           \"where've\": \"where have\", \"who'll\": \"who will\", \"who'll've\": \"who will have\", \"who's\": \"who is\", \"who've\": \"who have\",\n",
    "                           \"why's\": \"why is\", \"why've\": \"why have\", \"will've\": \"will have\", \"won't\": \"will not\", \"won't've\": \"will not have\",\n",
    "                           \"would've\": \"would have\", \"wouldn't\": \"would not\", \"wouldn't've\": \"would not have\", \"y'all\": \"you all\",\n",
    "                           \"y'all'd\": \"you all would\",\"y'all'd've\": \"you all would have\",\"y'all're\": \"you all are\",\"y'all've\": \"you all have\",\n",
    "                           \"you'd\": \"you would\", \"you'd've\": \"you would have\", \"you'll\": \"you will\", \"you'll've\": \"you will have\",\n",
    "                           \"you're\": \"you are\", \"you've\": \"you have\"}\n",
    "\n",
    "print(\"정규화 사전의 수: \", len(contractions))"
   ]
  },
  {
   "cell_type": "code",
   "execution_count": 64,
   "id": "245eef3f",
   "metadata": {},
   "outputs": [],
   "source": [
    "# 텍스트 정규화 및 불용어 제거\n",
    "def preprocess_sentence(sentence, remove_stopwords=True):\n",
    "    sentence = sentence.lower()  # 소문자 변환\n",
    "    sentence = BeautifulSoup(sentence, \"lxml\").text  # HTML 태그 제거\n",
    "    sentence = re.sub(r'\\([^)]*\\)', '', sentence)  # 괄호 제거\n",
    "    sentence = re.sub('\"', '', sentence)  # 쌍따옴표 제거\n",
    "    sentence = ' '.join([contractions[t] if t in contractions else t for t in sentence.split(\" \")])  # 축약어 변환\n",
    "    sentence = re.sub(r\"'s\\b\", \"\", sentence)  # 소유격 제거\n",
    "    sentence = re.sub(\"[^a-zA-Z]\", \" \", sentence)  # 숫자 및 특수 문자 제거\n",
    "    sentence = re.sub('[m]{2,}', 'mm', sentence)  # 연속된 'm' 정규화\n",
    "\n",
    "    # 불용어 제거 (text)\n",
    "    if remove_stopwords:\n",
    "        tokens = ' '.join(word for word in sentence.split() if not word in stopwords.words('english') if len(word) > 1)\n",
    "    # 불용어 미제거 (headlines)\n",
    "    else:\n",
    "        tokens = ' '.join(word for word in sentence.split() if len(word) > 1)\n",
    "\n",
    "    return tokens"
   ]
  },
  {
   "cell_type": "code",
   "execution_count": 65,
   "id": "36149acb",
   "metadata": {},
   "outputs": [
    {
     "name": "stdout",
     "output_type": "stream",
     "text": [
      "Text 전처리 후: ['saurav kant alumnus upgrad iiit pg program machine learning artificial intelligence sr systems engineer infosys almost years work experience program upgrad degree career support helped transition data scientist tech mahindra salary hike upgrad online power learning powered lakh careers', 'kunal shah credit card bill payment platform cred gave users chance win free food swiggy one year pranav kaushik delhi techie bagged reward spending cred coins users get one cred coin per rupee bill paid used avail rewards brands like ixigo bookmyshow ubereats cult fit', 'new zealand defeated india wickets fourth odi hamilton thursday win first match five match odi series india lost international match rohit sharma captaincy consecutive victories dating back march match witnessed india getting seventh lowest total odi cricket history', 'aegon life iterm insurance plan customers enjoy tax benefits premiums paid save taxes plan provides life cover age years also customers options insure critical illnesses disability accidental death benefit rider life cover age years', 'speaking sexual harassment allegations rajkumar hirani sonam kapoor said known hirani many years true metoo movement get derailed metoo movement always believe woman case need reserve judgment added hirani accused assistant worked sanju']\n"
     ]
    }
   ],
   "source": [
    "# text 데이터 전처리 (불용어 제거 O)\n",
    "clean_text = []\n",
    "\n",
    "for text in data['text']:\n",
    "    clean_text.append(preprocess_sentence(text))\n",
    "\n",
    "# 결과 확인\n",
    "print(\"Text 전처리 후:\", clean_text[:5])"
   ]
  },
  {
   "cell_type": "code",
   "execution_count": 66,
   "id": "d43bd60a",
   "metadata": {},
   "outputs": [
    {
     "name": "stdout",
     "output_type": "stream",
     "text": [
      "Headlines 전처리 후: ['upgrad learner switches to career in ml al with salary hike', 'delhi techie wins free food from swiggy for one year on cred', 'new zealand end rohit sharma led india match winning streak', 'aegon life iterm insurance plan helps customers save tax', 'have known hirani for yrs what if metoo claims are not true sonam']\n"
     ]
    }
   ],
   "source": [
    "# headlines 데이터 전처리 (불용어 제거 X)\n",
    "clean_headlines = []\n",
    "\n",
    "for headlines in data['headlines']:\n",
    "    clean_headlines.append(preprocess_sentence(headlines, remove_stopwords=False))\n",
    "\n",
    "# 결과 확인\n",
    "print(\"Headlines 전처리 후:\", clean_headlines[:5])"
   ]
  },
  {
   "cell_type": "code",
   "execution_count": 67,
   "id": "c659aa7b",
   "metadata": {},
   "outputs": [
    {
     "name": "stdout",
     "output_type": "stream",
     "text": [
      "text:  everything bought great infact ordered twice third ordered wasfor mother father\n",
      "headlines: great way to start the day\n"
     ]
    }
   ],
   "source": [
    "# 전처리 전, 후 결과 확인\n",
    "temp_text = 'Everything I bought was great, infact I ordered twice and the third ordered was<br />for my mother and father.'\n",
    "temp_headlines = 'Great way to start (or finish) the day!!!'\n",
    "\n",
    "print(\"text: \", preprocess_sentence(temp_text))\n",
    "print(\"headlines:\", preprocess_sentence(temp_headlines, False))  # 불용어 제거 X"
   ]
  },
  {
   "cell_type": "markdown",
   "id": "97e60926",
   "metadata": {},
   "source": [
    "**데이터프레임 갱신 및 최종 Null 값 제거**"
   ]
  },
  {
   "cell_type": "code",
   "execution_count": 68,
   "id": "a331c17f",
   "metadata": {},
   "outputs": [
    {
     "data": {
      "text/plain": [
       "headlines    0\n",
       "text         0\n",
       "dtype: int64"
      ]
     },
     "execution_count": 68,
     "metadata": {},
     "output_type": "execute_result"
    }
   ],
   "source": [
    "# 전처리된 데이터 저장\n",
    "data['text'] = clean_text\n",
    "data['headlines'] = clean_headlines\n",
    "\n",
    "# 빈 값을 Null 값으로 변환\n",
    "data.replace('', np.nan, inplace=True)\n",
    "\n",
    "# Null 값이 생겼는지 확인\n",
    "data.isnull().sum()"
   ]
  },
  {
   "cell_type": "code",
   "execution_count": 69,
   "id": "80857e04",
   "metadata": {},
   "outputs": [
    {
     "name": "stdout",
     "output_type": "stream",
     "text": [
      "전체 샘플수 : 98360\n"
     ]
    }
   ],
   "source": [
    "data.dropna(axis=0, inplace=True)\n",
    "print('전체 샘플수 :', (len(data)))"
   ]
  },
  {
   "cell_type": "markdown",
   "id": "c8c58a4f",
   "metadata": {},
   "source": [
    "### 훈련데이터와 테스트데이터 나누기"
   ]
  },
  {
   "cell_type": "markdown",
   "id": "6ea1a2f1",
   "metadata": {},
   "source": [
    "**샘플의 최대 길이 정하기**"
   ]
  },
  {
   "cell_type": "code",
   "execution_count": 70,
   "id": "7873a59b",
   "metadata": {},
   "outputs": [
    {
     "name": "stdout",
     "output_type": "stream",
     "text": [
      "텍스트의 최소 길이 : 1\n",
      "텍스트의 최대 길이 : 60\n",
      "텍스트의 평균 길이 : 35.09968483123221\n",
      "헤드라인의 최소 길이 : 1\n",
      "헤드라인의 최대 길이 : 16\n",
      "헤드라인의 평균 길이 : 9.299532330215534\n"
     ]
    },
    {
     "data": {
      "image/png": "[encoded data removed]",
      "text/plain": [
       "<Figure size 432x288 with 2 Axes>"
      ]
     },
     "metadata": {
      "needs_background": "light"
     },
     "output_type": "display_data"
    },
    {
     "data": {
      "image/png": "[encoded data removed]",
      "text/plain": [
       "<Figure size 432x288 with 1 Axes>"
      ]
     },
     "metadata": {
      "needs_background": "light"
     },
     "output_type": "display_data"
    },
    {
     "data": {
      "image/png": "[encoded data removed]",
      "text/plain": [
       "<Figure size 432x288 with 1 Axes>"
      ]
     },
     "metadata": {
      "needs_background": "light"
     },
     "output_type": "display_data"
    }
   ],
   "source": [
    "# 샘플 길이 분석\n",
    "text_len = [len(s.split()) for s in data['text']]\n",
    "headlines_len = [len(s.split()) for s in data['headlines']]\n",
    "\n",
    "print('텍스트의 최소 길이 : {}'.format(np.min(text_len)))\n",
    "print('텍스트의 최대 길이 : {}'.format(np.max(text_len)))\n",
    "print('텍스트의 평균 길이 : {}'.format(np.mean(text_len)))\n",
    "print('헤드라인의 최소 길이 : {}'.format(np.min(headlines_len)))\n",
    "print('헤드라인의 최대 길이 : {}'.format(np.max(headlines_len)))\n",
    "print('헤드라인의 평균 길이 : {}'.format(np.mean(headlines_len)))\n",
    "\n",
    "plt.subplot(1,2,1)\n",
    "plt.boxplot(text_len)\n",
    "plt.title('Text')\n",
    "plt.subplot(1,2,2)\n",
    "plt.boxplot(headlines_len)\n",
    "plt.title('Headlines')\n",
    "plt.tight_layout()\n",
    "plt.show()\n",
    "\n",
    "plt.title('Text')\n",
    "plt.hist(text_len, bins = 40)\n",
    "plt.xlabel('length of samples')\n",
    "plt.ylabel('number of samples')\n",
    "plt.show()\n",
    "\n",
    "plt.title('Headlines')\n",
    "plt.hist(headlines_len, bins = 40)\n",
    "plt.xlabel('length of samples')\n",
    "plt.ylabel('number of samples')\n",
    "plt.show()"
   ]
  },
  {
   "cell_type": "code",
   "execution_count": 71,
   "id": "a8ce57cd",
   "metadata": {},
   "outputs": [
    {
     "name": "stdout",
     "output_type": "stream",
     "text": [
      "Text 길이 50 이하 비율: 0.9998576657177715\n",
      "Headlines 길이 12 이하 비율: 0.9880337535583571\n"
     ]
    }
   ],
   "source": [
    "text_max_len = 50\n",
    "headlines_max_len = 12\n",
    "\n",
    "def below_threshold_len(max_len, nested_list):\n",
    "    return sum(1 for s in nested_list if len(s.split()) <= max_len) / len(nested_list)\n",
    "\n",
    "print('Text 길이 50 이하 비율:', below_threshold_len(text_max_len, data['text']))\n",
    "print('Headlines 길이 12 이하 비율:', below_threshold_len(headlines_max_len, data['headlines']))"
   ]
  },
  {
   "cell_type": "code",
   "execution_count": 72,
   "id": "d5f0be14",
   "metadata": {},
   "outputs": [
    {
     "name": "stdout",
     "output_type": "stream",
     "text": [
      "전체 샘플수 : 97169\n"
     ]
    }
   ],
   "source": [
    "# text_max_len과 headlines_max_len보다 긴 샘플 제거\n",
    "data = data[\n",
    "    data['text'].apply(lambda x: len(x.split()) <= text_max_len) & \n",
    "    data['headlines'].apply(lambda x: len(x.split()) <= headlines_max_len)]\n",
    "\n",
    "# 전체 샘플 수 출력\n",
    "print('전체 샘플수 :', len(data))"
   ]
  },
  {
   "cell_type": "code",
   "execution_count": 73,
   "id": "a23829cf",
   "metadata": {},
   "outputs": [
    {
     "data": {
      "text/html": [
       "<div>\n",
       "<style scoped>\n",
       "    .dataframe tbody tr th:only-of-type {\n",
       "        vertical-align: middle;\n",
       "    }\n",
       "\n",
       "    .dataframe tbody tr th {\n",
       "        vertical-align: top;\n",
       "    }\n",
       "\n",
       "    .dataframe thead th {\n",
       "        text-align: right;\n",
       "    }\n",
       "</style>\n",
       "<table border=\"1\" class=\"dataframe\">\n",
       "  <thead>\n",
       "    <tr style=\"text-align: right;\">\n",
       "      <th></th>\n",
       "      <th>headlines</th>\n",
       "      <th>text</th>\n",
       "      <th>decoder_input</th>\n",
       "      <th>decoder_target</th>\n",
       "    </tr>\n",
       "  </thead>\n",
       "  <tbody>\n",
       "    <tr>\n",
       "      <th>0</th>\n",
       "      <td>upgrad learner switches to career in ml al wit...</td>\n",
       "      <td>saurav kant alumnus upgrad iiit pg program mac...</td>\n",
       "      <td>sostoken upgrad learner switches to career in ...</td>\n",
       "      <td>upgrad learner switches to career in ml al wit...</td>\n",
       "    </tr>\n",
       "    <tr>\n",
       "      <th>1</th>\n",
       "      <td>delhi techie wins free food from swiggy for on...</td>\n",
       "      <td>kunal shah credit card bill payment platform c...</td>\n",
       "      <td>sostoken delhi techie wins free food from swig...</td>\n",
       "      <td>delhi techie wins free food from swiggy for on...</td>\n",
       "    </tr>\n",
       "    <tr>\n",
       "      <th>2</th>\n",
       "      <td>new zealand end rohit sharma led india match w...</td>\n",
       "      <td>new zealand defeated india wickets fourth odi ...</td>\n",
       "      <td>sostoken new zealand end rohit sharma led indi...</td>\n",
       "      <td>new zealand end rohit sharma led india match w...</td>\n",
       "    </tr>\n",
       "    <tr>\n",
       "      <th>3</th>\n",
       "      <td>aegon life iterm insurance plan helps customer...</td>\n",
       "      <td>aegon life iterm insurance plan customers enjo...</td>\n",
       "      <td>sostoken aegon life iterm insurance plan helps...</td>\n",
       "      <td>aegon life iterm insurance plan helps customer...</td>\n",
       "    </tr>\n",
       "    <tr>\n",
       "      <th>5</th>\n",
       "      <td>rahat fateh ali khan denies getting notice for...</td>\n",
       "      <td>pakistani singer rahat fateh ali khan denied r...</td>\n",
       "      <td>sostoken rahat fateh ali khan denies getting n...</td>\n",
       "      <td>rahat fateh ali khan denies getting notice for...</td>\n",
       "    </tr>\n",
       "  </tbody>\n",
       "</table>\n",
       "</div>"
      ],
      "text/plain": [
       "                                           headlines  \\\n",
       "0  upgrad learner switches to career in ml al wit...   \n",
       "1  delhi techie wins free food from swiggy for on...   \n",
       "2  new zealand end rohit sharma led india match w...   \n",
       "3  aegon life iterm insurance plan helps customer...   \n",
       "5  rahat fateh ali khan denies getting notice for...   \n",
       "\n",
       "                                                text  \\\n",
       "0  saurav kant alumnus upgrad iiit pg program mac...   \n",
       "1  kunal shah credit card bill payment platform c...   \n",
       "2  new zealand defeated india wickets fourth odi ...   \n",
       "3  aegon life iterm insurance plan customers enjo...   \n",
       "5  pakistani singer rahat fateh ali khan denied r...   \n",
       "\n",
       "                                       decoder_input  \\\n",
       "0  sostoken upgrad learner switches to career in ...   \n",
       "1  sostoken delhi techie wins free food from swig...   \n",
       "2  sostoken new zealand end rohit sharma led indi...   \n",
       "3  sostoken aegon life iterm insurance plan helps...   \n",
       "5  sostoken rahat fateh ali khan denies getting n...   \n",
       "\n",
       "                                      decoder_target  \n",
       "0  upgrad learner switches to career in ml al wit...  \n",
       "1  delhi techie wins free food from swiggy for on...  \n",
       "2  new zealand end rohit sharma led india match w...  \n",
       "3  aegon life iterm insurance plan helps customer...  \n",
       "5  rahat fateh ali khan denies getting notice for...  "
      ]
     },
     "execution_count": 73,
     "metadata": {},
     "output_type": "execute_result"
    }
   ],
   "source": [
    "# 시작 및 종료 토큰 추가\n",
    "data['decoder_input'] = data['headlines'].apply(lambda x: 'sostoken ' + x)\n",
    "data['decoder_target'] = data['headlines'].apply(lambda x: x + ' eostoken')\n",
    "data.head()"
   ]
  },
  {
   "cell_type": "code",
   "execution_count": 74,
   "id": "bb91184e",
   "metadata": {},
   "outputs": [],
   "source": [
    "# 인코더의 입력, 디코더의 입력과 레이블을 각각 Numpy 타입으로 저장\n",
    "encoder_input = np.array(data['text']) # 인코더의 입력\n",
    "decoder_input = np.array(data['decoder_input']) # 디코더의 입력\n",
    "decoder_target = np.array(data['decoder_target']) # 디코더의 레이블"
   ]
  },
  {
   "cell_type": "markdown",
   "id": "48d1708e",
   "metadata": {},
   "source": [
    "**훈련 데이터와 테스트 데이터 분리**"
   ]
  },
  {
   "cell_type": "code",
   "execution_count": 75,
   "id": "709d3872",
   "metadata": {},
   "outputs": [],
   "source": [
    "# 데이터 섞기\n",
    "indices = np.arange(encoder_input.shape[0]) # [0, 1, 2, 3, ..., N-1] (문장 개수만큼의 인덱스 생성)\n",
    "np.random.shuffle(indices) # 인덱스를 랜덤하게 섞기\n",
    "\n",
    "# 데이터를 무작위로 섞되, 각 데이터셋(입력, 출력, 레이블)이 같은 방식으로 섞이도록 유지\n",
    "encoder_input = encoder_input[indices]\n",
    "decoder_input = decoder_input[indices]\n",
    "decoder_target = decoder_target[indices]"
   ]
  },
  {
   "cell_type": "code",
   "execution_count": 76,
   "id": "76b9281c",
   "metadata": {},
   "outputs": [
    {
     "name": "stdout",
     "output_type": "stream",
     "text": [
      "훈련 데이터의 개수 : 77736\n",
      "훈련 레이블의 개수 : 77736\n",
      "테스트 데이터의 개수 : 19433\n",
      "테스트 레이블의 개수 : 19433\n"
     ]
    }
   ],
   "source": [
    "# 데이터 분할 (훈련 8:테스트 2)\n",
    "n_of_val = int(len(encoder_input) * 0.2)\n",
    "encoder_input_train, encoder_input_test = encoder_input[:-n_of_val], encoder_input[-n_of_val:]\n",
    "decoder_input_train, decoder_input_test = decoder_input[:-n_of_val], decoder_input[-n_of_val:]\n",
    "decoder_target_train, decoder_target_test = decoder_target[:-n_of_val], decoder_target[-n_of_val:]\n",
    "\n",
    "print('훈련 데이터의 개수 :', len(encoder_input_train))\n",
    "print('훈련 레이블의 개수 :', len(decoder_input_train))\n",
    "print('테스트 데이터의 개수 :', len(encoder_input_test))\n",
    "print('테스트 레이블의 개수 :', len(decoder_input_test))"
   ]
  },
  {
   "cell_type": "markdown",
   "id": "0fedc61d",
   "metadata": {},
   "source": [
    "### 정수 인코딩"
   ]
  },
  {
   "cell_type": "code",
   "execution_count": 77,
   "id": "f71dbc49",
   "metadata": {},
   "outputs": [],
   "source": [
    "# 단어 집합 만들기 (각 단어에 고유한 정수 맵핑)\n",
    "src_tokenizer = Tokenizer() # 토크나이저 정의\n",
    "src_tokenizer.fit_on_texts(encoder_input_train) # 입력된 데이터로부터 단어 집합 생성"
   ]
  },
  {
   "cell_type": "code",
   "execution_count": 78,
   "id": "3a7f4c3a",
   "metadata": {},
   "outputs": [
    {
     "name": "stdout",
     "output_type": "stream",
     "text": [
      "단어 집합(vocabulary)의 크기 : 69460\n",
      "등장 빈도가 6번 이하인 희귀 단어의 수: 47383\n",
      "단어 집합에서 희귀 단어를 제외시킬 경우의 단어 집합의 크기: 22077\n",
      "단어 집합에서 희귀 단어의 비율: 68.21623956233803\n",
      "전체 등장 빈도에서 희귀 단어 등장 빈도 비율: 3.513527178560515\n"
     ]
    }
   ],
   "source": [
    "# 등장 빈도수가 7회 미만인 단어들의 비중 확인\n",
    "threshold = 7\n",
    "total_cnt = len(src_tokenizer.word_index) # 단어의 수\n",
    "rare_cnt = 0 # 등장 빈도수가 threshold보다 작은 단어의 개수를 카운트\n",
    "total_freq = 0 # 훈련 데이터의 전체 단어 빈도수 총 합\n",
    "rare_freq = 0 # 등장 빈도수가 threshold보다 작은 단어의 등장 빈도수의 총 합\n",
    "\n",
    "# 단어와 빈도수의 쌍(pair)을 key와 value로 받는다.\n",
    "for key, value in src_tokenizer.word_counts.items():\n",
    "    total_freq = total_freq + value\n",
    "\n",
    "    # 단어의 등장 빈도수가 threshold보다 작으면\n",
    "    if(value < threshold):\n",
    "        rare_cnt = rare_cnt + 1\n",
    "        rare_freq = rare_freq + value\n",
    "\n",
    "print('단어 집합(vocabulary)의 크기 :', total_cnt)\n",
    "print('등장 빈도가 %s번 이하인 희귀 단어의 수: %s'%(threshold - 1, rare_cnt))\n",
    "print('단어 집합에서 희귀 단어를 제외시킬 경우의 단어 집합의 크기: %s'%(total_cnt - rare_cnt))\n",
    "print(\"단어 집합에서 희귀 단어의 비율:\", (rare_cnt / total_cnt)*100)\n",
    "print(\"전체 등장 빈도에서 희귀 단어 등장 빈도 비율:\", (rare_freq / total_freq)*100)"
   ]
  },
  {
   "cell_type": "code",
   "execution_count": 79,
   "id": "580318de",
   "metadata": {},
   "outputs": [],
   "source": [
    "# 단어 집합의 크기 제한\n",
    "src_vocab = 20000\n",
    "src_tokenizer = Tokenizer(num_words=src_vocab) # 단어 집합의 크기를 20,000으로 제한\n",
    "src_tokenizer.fit_on_texts(encoder_input_train) # 단어 집합 재생성"
   ]
  },
  {
   "cell_type": "code",
   "execution_count": 80,
   "id": "b839ead6",
   "metadata": {},
   "outputs": [
    {
     "name": "stdout",
     "output_type": "stream",
     "text": [
      "[[101, 2033, 199, 97, 68, 1211, 303, 5547, 18341, 1416, 12, 126, 2206, 8233, 1, 2061, 84, 291, 2070, 1556, 1024, 19343, 1097, 1696, 198, 1629, 1455, 4436, 10916, 2902, 16668], [179, 2, 94, 1498, 1674, 244, 39, 3629, 1751, 1137, 685, 12473, 3324, 2013, 245, 589, 179, 4969, 4786, 81, 177, 1498, 1674, 496, 1247, 81, 15303, 6506, 32, 846], [132, 191, 58, 70, 51, 871, 170, 206, 2329, 598, 149, 143, 24, 293, 1371, 871, 1970, 146, 24, 493, 1239, 256, 567, 5382, 5048, 5548, 1970, 451, 427, 7, 149, 191, 70, 1898, 2979]]\n"
     ]
    }
   ],
   "source": [
    "# 텍스트 시퀀스를 정수 시퀀스로 변환\n",
    "encoder_input_train = src_tokenizer.texts_to_sequences(encoder_input_train) \n",
    "encoder_input_test = src_tokenizer.texts_to_sequences(encoder_input_test)\n",
    "\n",
    "# 잘 진행되었는지 샘플 출력\n",
    "print(encoder_input_train[:3])"
   ]
  },
  {
   "cell_type": "code",
   "execution_count": 81,
   "id": "033d61e9",
   "metadata": {},
   "outputs": [],
   "source": [
    "# headlines 데이터에 대해서도 동일한 작업 수행\n",
    "tar_tokenizer = Tokenizer()\n",
    "tar_tokenizer.fit_on_texts(decoder_input_train)"
   ]
  },
  {
   "cell_type": "code",
   "execution_count": 82,
   "id": "cf9777ed",
   "metadata": {},
   "outputs": [
    {
     "name": "stdout",
     "output_type": "stream",
     "text": [
      "단어 집합(vocabulary)의 크기 : 29946\n",
      "등장 빈도가 5번 이하인 희귀 단어의 수: 19601\n",
      "단어 집합에서 희귀 단어를 제외시킬 경우의 단어 집합의 크기: 10345\n",
      "단어 집합에서 희귀 단어의 비율: 65.45448473919721\n",
      "전체 등장 빈도에서 희귀 단어 등장 빈도 비율: 4.725914288295704\n"
     ]
    }
   ],
   "source": [
    "# 등장 빈도수가 6회 미만인 단어들의 비중 확인\n",
    "threshold = 6\n",
    "total_cnt = len(tar_tokenizer.word_index) # 단어의 수\n",
    "rare_cnt = 0 # 등장 빈도수가 threshold보다 작은 단어의 개수를 카운트\n",
    "total_freq = 0 # 훈련 데이터의 전체 단어 빈도수 총 합\n",
    "rare_freq = 0 # 등장 빈도수가 threshold보다 작은 단어의 등장 빈도수의 총 합\n",
    "\n",
    "# 단어와 빈도수의 쌍(pair)을 key와 value로 받는다.\n",
    "for key, value in tar_tokenizer.word_counts.items():\n",
    "    total_freq = total_freq + value\n",
    "\n",
    "    # 단어의 등장 빈도수가 threshold보다 작으면\n",
    "    if(value < threshold):\n",
    "        rare_cnt = rare_cnt + 1\n",
    "        rare_freq = rare_freq + value\n",
    "\n",
    "print('단어 집합(vocabulary)의 크기 :', total_cnt)\n",
    "print('등장 빈도가 %s번 이하인 희귀 단어의 수: %s'%(threshold - 1, rare_cnt))\n",
    "print('단어 집합에서 희귀 단어를 제외시킬 경우의 단어 집합의 크기: %s'%(total_cnt - rare_cnt))\n",
    "print(\"단어 집합에서 희귀 단어의 비율:\", (rare_cnt / total_cnt)*100)\n",
    "print(\"전체 등장 빈도에서 희귀 단어 등장 빈도 비율:\", (rare_freq / total_freq)*100)"
   ]
  },
  {
   "cell_type": "code",
   "execution_count": 83,
   "id": "f9a6f58e",
   "metadata": {},
   "outputs": [
    {
     "name": "stdout",
     "output_type": "stream",
     "text": [
      "input\n",
      "input  [[1, 224, 166, 549, 6143, 4, 146, 10, 2258, 107, 333], [1, 97, 8, 418, 4971, 1796, 5, 250, 4, 77, 2662], [1, 296, 3, 749, 159, 87, 545, 807, 198, 397, 390], [1, 8763, 3763, 25, 16, 869, 109, 3009, 3089, 4, 919], [1, 2901, 730, 53, 1520, 611, 883, 5, 685, 686]]\n",
      "target\n",
      "decoder  [[224, 166, 549, 6143, 4, 146, 10, 2258, 107, 333, 2], [97, 8, 418, 4971, 1796, 5, 250, 4, 77, 2662, 2], [296, 3, 749, 159, 87, 545, 807, 198, 397, 390, 2], [8763, 3763, 25, 16, 869, 109, 3009, 3089, 4, 919, 2], [2901, 730, 53, 1520, 611, 883, 5, 685, 686, 2]]\n"
     ]
    }
   ],
   "source": [
    "# 단어 집합의 크기 제한\n",
    "tar_vocab = 10000\n",
    "tar_tokenizer = Tokenizer(num_words=tar_vocab) \n",
    "tar_tokenizer.fit_on_texts(decoder_input_train)\n",
    "tar_tokenizer.fit_on_texts(decoder_target_train)\n",
    "\n",
    "# 텍스트 시퀀스를 정수 시퀀스로 변환\n",
    "decoder_input_train = tar_tokenizer.texts_to_sequences(decoder_input_train) \n",
    "decoder_target_train = tar_tokenizer.texts_to_sequences(decoder_target_train)\n",
    "decoder_input_test = tar_tokenizer.texts_to_sequences(decoder_input_test)\n",
    "decoder_target_test = tar_tokenizer.texts_to_sequences(decoder_target_test)\n",
    "\n",
    "# 잘 변환되었는지 확인\n",
    "print('input')\n",
    "print('input ',decoder_input_train[:5])\n",
    "print('target')\n",
    "print('decoder ',decoder_target_train[:5])"
   ]
  },
  {
   "cell_type": "code",
   "execution_count": 84,
   "id": "6935b8a8",
   "metadata": {},
   "outputs": [
    {
     "name": "stdout",
     "output_type": "stream",
     "text": [
      "삭제할 훈련 데이터의 개수 : 0\n",
      "삭제할 테스트 데이터의 개수 : 1\n",
      "훈련 데이터의 개수 : 77736\n",
      "훈련 레이블의 개수 : 77736\n",
      "테스트 데이터의 개수 : 19432\n",
      "테스트 레이블의 개수 : 19432\n"
     ]
    }
   ],
   "source": [
    "# 요약문에서 길이가 0이 된 샘플 삭제\n",
    "drop_train = [index for index, sentence in enumerate(decoder_input_train) if len(sentence) == 1]\n",
    "drop_test = [index for index, sentence in enumerate(decoder_input_test) if len(sentence) == 1]\n",
    "\n",
    "print('삭제할 훈련 데이터의 개수 :', len(drop_train))\n",
    "print('삭제할 테스트 데이터의 개수 :', len(drop_test))\n",
    "\n",
    "encoder_input_train = [sentence for index, sentence in enumerate(encoder_input_train) if index not in drop_train]\n",
    "decoder_input_train = [sentence for index, sentence in enumerate(decoder_input_train) if index not in drop_train]\n",
    "decoder_target_train = [sentence for index, sentence in enumerate(decoder_target_train) if index not in drop_train]\n",
    "\n",
    "encoder_input_test = [sentence for index, sentence in enumerate(encoder_input_test) if index not in drop_test]\n",
    "decoder_input_test = [sentence for index, sentence in enumerate(decoder_input_test) if index not in drop_test]\n",
    "decoder_target_test = [sentence for index, sentence in enumerate(decoder_target_test) if index not in drop_test]\n",
    "\n",
    "print('훈련 데이터의 개수 :', len(encoder_input_train))\n",
    "print('훈련 레이블의 개수 :', len(decoder_input_train))\n",
    "print('테스트 데이터의 개수 :', len(encoder_input_test))\n",
    "print('테스트 레이블의 개수 :', len(decoder_input_test))"
   ]
  },
  {
   "cell_type": "code",
   "execution_count": 85,
   "id": "4dfdcb2b",
   "metadata": {},
   "outputs": [],
   "source": [
    "# 패딩하기\n",
    "encoder_input_train = pad_sequences(encoder_input_train, maxlen=text_max_len, padding='post')\n",
    "encoder_input_test = pad_sequences(encoder_input_test, maxlen=text_max_len, padding='post')\n",
    "decoder_input_train = pad_sequences(decoder_input_train, maxlen=headlines_max_len, padding='post')\n",
    "decoder_target_train = pad_sequences(decoder_target_train, maxlen=headlines_max_len, padding='post')\n",
    "decoder_input_test = pad_sequences(decoder_input_test, maxlen=headlines_max_len, padding='post')\n",
    "decoder_target_test = pad_sequences(decoder_target_test, maxlen=headlines_max_len, padding='post')"
   ]
  },
  {
   "cell_type": "markdown",
   "id": "622a3ed3",
   "metadata": {},
   "source": [
    "## Step 3. 어텐션 메커니즘 사용하기 (추상적 요약)\n",
    "일반적인 seq2seq보다는 어텐션 메커니즘을 사용한 seq2seq를 사용하는 것이 더 나은 성능을 얻을 수 있어요. 실습 내용을 참고하여 어텐션 메커니즘을 사용한 seq2seq를 설계해 보세요."
   ]
  },
  {
   "cell_type": "markdown",
   "id": "cc5c5816",
   "metadata": {},
   "source": [
    "### 모델 설계하기"
   ]
  },
  {
   "cell_type": "code",
   "execution_count": 86,
   "id": "9c48bb37",
   "metadata": {},
   "outputs": [],
   "source": [
    "from tensorflow.keras.layers import Input, LSTM, Embedding, Dense, Concatenate, TimeDistributed\n",
    "from tensorflow.keras.models import Model\n",
    "from tensorflow.keras.callbacks import EarlyStopping, ModelCheckpoint\n",
    "\n",
    "# 인코더 설계 시작\n",
    "embedding_dim = 128\n",
    "hidden_size = 256\n",
    "\n",
    "# 인코더\n",
    "encoder_inputs = Input(shape=(text_max_len,))\n",
    "\n",
    "# 인코더의 임베딩 층\n",
    "enc_emb = Embedding(src_vocab, embedding_dim)(encoder_inputs)\n",
    "\n",
    "# 인코더의 LSTM 1\n",
    "# encoder_lstm1 = LSTM(hidden_size, return_sequences=True, return_state=True ,dropout = 0.4, recurrent_dropout = 0.4)\n",
    "encoder_lstm1 = LSTM(hidden_size, return_sequences=True, return_state=True ,dropout = 0.4)\n",
    "encoder_output1, state_h1, state_c1 = encoder_lstm1(enc_emb)\n",
    "\n",
    "# 인코더의 LSTM 2\n",
    "encoder_lstm2 = LSTM(hidden_size, return_sequences=True, return_state=True, dropout=0.4)\n",
    "encoder_output2, state_h2, state_c2 = encoder_lstm2(encoder_output1)\n",
    "\n",
    "# 인코더의 LSTM 3\n",
    "encoder_lstm3 = LSTM(hidden_size, return_sequences=True, return_state=True, dropout=0.4)\n",
    "encoder_outputs, state_h3, state_c3 = encoder_lstm3(encoder_output2)"
   ]
  },
  {
   "cell_type": "code",
   "execution_count": 87,
   "id": "58c89905",
   "metadata": {},
   "outputs": [],
   "source": [
    "# 디코더 설계\n",
    "decoder_inputs = Input(shape=(None,))\n",
    "\n",
    "# 디코더의 임베딩 층\n",
    "dec_emb_layer = Embedding(tar_vocab, embedding_dim)\n",
    "dec_emb = dec_emb_layer(decoder_inputs)\n",
    "\n",
    "# 디코더의 LSTM\n",
    "decoder_lstm = LSTM(hidden_size, return_sequences=True, return_state=True, dropout=0.4)\n",
    "decoder_outputs, _, _ = decoder_lstm(dec_emb, initial_state=[state_h3, state_c3])\n",
    "\n",
    "# 디코더의 출력층\n",
    "decoder_softmax_layer = Dense(tar_vocab, activation='softmax')\n",
    "decoder_softmax_outputs = decoder_softmax_layer(decoder_outputs) "
   ]
  },
  {
   "cell_type": "code",
   "execution_count": 88,
   "id": "df2f7587",
   "metadata": {},
   "outputs": [
    {
     "name": "stdout",
     "output_type": "stream",
     "text": [
      "Model: \"model_4\"\n",
      "__________________________________________________________________________________________________\n",
      "Layer (type)                    Output Shape         Param #     Connected to                     \n",
      "==================================================================================================\n",
      "input_6 (InputLayer)            [(None, 50)]         0                                            \n",
      "__________________________________________________________________________________________________\n",
      "embedding_2 (Embedding)         (None, 50, 128)      2560000     input_6[0][0]                    \n",
      "__________________________________________________________________________________________________\n",
      "lstm_4 (LSTM)                   [(None, 50, 256), (N 394240      embedding_2[0][0]                \n",
      "__________________________________________________________________________________________________\n",
      "input_7 (InputLayer)            [(None, None)]       0                                            \n",
      "__________________________________________________________________________________________________\n",
      "lstm_5 (LSTM)                   [(None, 50, 256), (N 525312      lstm_4[0][0]                     \n",
      "__________________________________________________________________________________________________\n",
      "embedding_3 (Embedding)         (None, None, 128)    1280000     input_7[0][0]                    \n",
      "__________________________________________________________________________________________________\n",
      "lstm_6 (LSTM)                   [(None, 50, 256), (N 525312      lstm_5[0][0]                     \n",
      "__________________________________________________________________________________________________\n",
      "lstm_7 (LSTM)                   [(None, None, 256),  394240      embedding_3[0][0]                \n",
      "                                                                 lstm_6[0][1]                     \n",
      "                                                                 lstm_6[0][2]                     \n",
      "__________________________________________________________________________________________________\n",
      "dense_2 (Dense)                 (None, None, 10000)  2570000     lstm_7[0][0]                     \n",
      "==================================================================================================\n",
      "Total params: 8,249,104\n",
      "Trainable params: 8,249,104\n",
      "Non-trainable params: 0\n",
      "__________________________________________________________________________________________________\n"
     ]
    }
   ],
   "source": [
    "# 모델 정의\n",
    "model = Model([encoder_inputs, decoder_inputs], decoder_softmax_outputs)\n",
    "model.summary()"
   ]
  },
  {
   "cell_type": "markdown",
   "id": "1ed334e3",
   "metadata": {},
   "source": [
    "### 어텐션 메커니즘"
   ]
  },
  {
   "cell_type": "code",
   "execution_count": 89,
   "id": "67afb3d8",
   "metadata": {},
   "outputs": [
    {
     "name": "stdout",
     "output_type": "stream",
     "text": [
      "Model: \"model_5\"\n",
      "__________________________________________________________________________________________________\n",
      "Layer (type)                    Output Shape         Param #     Connected to                     \n",
      "==================================================================================================\n",
      "input_6 (InputLayer)            [(None, 50)]         0                                            \n",
      "__________________________________________________________________________________________________\n",
      "embedding_2 (Embedding)         (None, 50, 128)      2560000     input_6[0][0]                    \n",
      "__________________________________________________________________________________________________\n",
      "lstm_4 (LSTM)                   [(None, 50, 256), (N 394240      embedding_2[0][0]                \n",
      "__________________________________________________________________________________________________\n",
      "input_7 (InputLayer)            [(None, None)]       0                                            \n",
      "__________________________________________________________________________________________________\n",
      "lstm_5 (LSTM)                   [(None, 50, 256), (N 525312      lstm_4[0][0]                     \n",
      "__________________________________________________________________________________________________\n",
      "embedding_3 (Embedding)         (None, None, 128)    1280000     input_7[0][0]                    \n",
      "__________________________________________________________________________________________________\n",
      "lstm_6 (LSTM)                   [(None, 50, 256), (N 525312      lstm_5[0][0]                     \n",
      "__________________________________________________________________________________________________\n",
      "lstm_7 (LSTM)                   [(None, None, 256),  394240      embedding_3[0][0]                \n",
      "                                                                 lstm_6[0][1]                     \n",
      "                                                                 lstm_6[0][2]                     \n",
      "__________________________________________________________________________________________________\n",
      "attention_layer (AdditiveAttent (None, None, 256)    256         lstm_7[0][0]                     \n",
      "                                                                 lstm_6[0][0]                     \n",
      "__________________________________________________________________________________________________\n",
      "concat_layer (Concatenate)      (None, None, 512)    0           lstm_7[0][0]                     \n",
      "                                                                 attention_layer[0][0]            \n",
      "__________________________________________________________________________________________________\n",
      "dense_3 (Dense)                 (None, None, 10000)  5130000     concat_layer[0][0]               \n",
      "==================================================================================================\n",
      "Total params: 10,809,360\n",
      "Trainable params: 10,809,360\n",
      "Non-trainable params: 0\n",
      "__________________________________________________________________________________________________\n"
     ]
    }
   ],
   "source": [
    "from tensorflow.keras.layers import AdditiveAttention\n",
    "\n",
    "# 어텐션 층(어텐션 함수)\n",
    "attn_layer = AdditiveAttention(name='attention_layer')\n",
    "\n",
    "# 인코더와 디코더의 모든 time step의 hidden state를 어텐션 층에 전달하고 결과를 리턴\n",
    "attn_out = attn_layer([decoder_outputs, encoder_outputs])\n",
    "\n",
    "# 어텐션의 결과와 디코더의 hidden state들을 연결\n",
    "decoder_concat_input = Concatenate(axis=-1, name='concat_layer')([decoder_outputs, attn_out])\n",
    "\n",
    "# 디코더의 출력층\n",
    "decoder_softmax_layer = Dense(tar_vocab, activation='softmax')\n",
    "decoder_softmax_outputs = decoder_softmax_layer(decoder_concat_input)\n",
    "\n",
    "# 모델 정의\n",
    "model = Model([encoder_inputs, decoder_inputs], decoder_softmax_outputs)\n",
    "model.summary()"
   ]
  },
  {
   "cell_type": "markdown",
   "id": "bb03175f",
   "metadata": {},
   "source": [
    "### 모델 훈련하기"
   ]
  },
  {
   "cell_type": "code",
   "execution_count": 90,
   "id": "7f1c5773",
   "metadata": {},
   "outputs": [
    {
     "name": "stdout",
     "output_type": "stream",
     "text": [
      "Epoch 1/50\n",
      "304/304 [==============================] - 40s 113ms/step - loss: 5.6222 - val_loss: 5.1862\n",
      "Epoch 2/50\n",
      "304/304 [==============================] - 32s 106ms/step - loss: 5.0488 - val_loss: 4.8301\n",
      "Epoch 3/50\n",
      "304/304 [==============================] - 32s 107ms/step - loss: 4.7075 - val_loss: 4.5516\n",
      "Epoch 4/50\n",
      "304/304 [==============================] - 33s 108ms/step - loss: 4.4462 - val_loss: 4.3681\n",
      "Epoch 5/50\n",
      "304/304 [==============================] - 32s 107ms/step - loss: 4.2410 - val_loss: 4.2323\n",
      "Epoch 6/50\n",
      "304/304 [==============================] - 33s 107ms/step - loss: 4.0682 - val_loss: 4.1100\n",
      "Epoch 7/50\n",
      "304/304 [==============================] - 33s 107ms/step - loss: 3.9185 - val_loss: 4.0287\n",
      "Epoch 8/50\n",
      "304/304 [==============================] - 33s 107ms/step - loss: 3.7866 - val_loss: 3.9553\n",
      "Epoch 9/50\n",
      "304/304 [==============================] - 33s 107ms/step - loss: 3.6696 - val_loss: 3.8959\n",
      "Epoch 10/50\n",
      "304/304 [==============================] - 33s 107ms/step - loss: 3.5684 - val_loss: 3.8460\n",
      "Epoch 11/50\n",
      "304/304 [==============================] - 33s 107ms/step - loss: 3.4767 - val_loss: 3.8022\n",
      "Epoch 12/50\n",
      "304/304 [==============================] - 33s 107ms/step - loss: 3.3953 - val_loss: 3.7750\n",
      "Epoch 13/50\n",
      "304/304 [==============================] - 33s 108ms/step - loss: 3.3200 - val_loss: 3.7453\n",
      "Epoch 14/50\n",
      "304/304 [==============================] - 33s 108ms/step - loss: 3.2495 - val_loss: 3.7213\n",
      "Epoch 15/50\n",
      "304/304 [==============================] - 33s 108ms/step - loss: 3.1866 - val_loss: 3.7029\n",
      "Epoch 16/50\n",
      "304/304 [==============================] - 33s 108ms/step - loss: 3.1268 - val_loss: 3.6922\n",
      "Epoch 17/50\n",
      "304/304 [==============================] - 33s 108ms/step - loss: 3.0725 - val_loss: 3.6749\n",
      "Epoch 18/50\n",
      "304/304 [==============================] - 33s 108ms/step - loss: 3.0176 - val_loss: 3.6667\n",
      "Epoch 19/50\n",
      "304/304 [==============================] - 33s 108ms/step - loss: 2.9671 - val_loss: 3.6557\n",
      "Epoch 20/50\n",
      "304/304 [==============================] - 33s 108ms/step - loss: 2.9221 - val_loss: 3.6500\n",
      "Epoch 21/50\n",
      "304/304 [==============================] - 33s 108ms/step - loss: 2.8765 - val_loss: 3.6448\n",
      "Epoch 22/50\n",
      "304/304 [==============================] - 33s 108ms/step - loss: 2.8369 - val_loss: 3.6431\n",
      "Epoch 23/50\n",
      "304/304 [==============================] - 33s 108ms/step - loss: 2.7995 - val_loss: 3.6408\n",
      "Epoch 24/50\n",
      "304/304 [==============================] - 33s 108ms/step - loss: 2.7660 - val_loss: 3.6410\n",
      "Epoch 25/50\n",
      "304/304 [==============================] - 33s 108ms/step - loss: 2.7306 - val_loss: 3.6429\n",
      "Epoch 00025: early stopping\n"
     ]
    }
   ],
   "source": [
    "# 설계한 모델로 훈련 진행\n",
    "model.compile(optimizer='rmsprop', loss='sparse_categorical_crossentropy')\n",
    "es = EarlyStopping(monitor='val_loss', patience=2, verbose=1)\n",
    "history = model.fit(x=[encoder_input_train, decoder_input_train], y=decoder_target_train, \\\n",
    "          validation_data=([encoder_input_test, decoder_input_test], decoder_target_test), \\\n",
    "          batch_size=256, callbacks=[es], epochs=50)"
   ]
  },
  {
   "cell_type": "code",
   "execution_count": 91,
   "id": "f009e255",
   "metadata": {},
   "outputs": [
    {
     "name": "stdout",
     "output_type": "stream",
     "text": [
      "✅ 메인 모델이 /aiffel/aiffel/fastAPI/news_model.h5 경로에 저장되었습니다.\n",
      "WARNING:tensorflow:Compiled the loaded model, but the compiled metrics have yet to be built. `model.compile_metrics` will be empty until you train or evaluate the model.\n",
      "WARNING:tensorflow:Compiled the loaded model, but the compiled metrics have yet to be built. `model.compile_metrics` will be empty until you train or evaluate the model.\n",
      "✅ 인퍼런스 모델이 /aiffel/aiffel/fastAPI/encoder_model.h5, /aiffel/aiffel/fastAPI/decoder_model.h5 경로에 저장되었습니다.\n"
     ]
    }
   ],
   "source": [
    "# 메인 모델 저장\n",
    "MODEL_PATH = \"/aiffel/aiffel/fastAPI/news_model.h5\"\n",
    "model.save(MODEL_PATH)\n",
    "print(f\"✅ 메인 모델이 {MODEL_PATH} 경로에 저장되었습니다.\")\n",
    "\n",
    "# 인퍼런스 모델도 따로 저장\n",
    "ENCODER_MODEL_PATH = \"/aiffel/aiffel/fastAPI/encoder_model.h5\"\n",
    "DECODER_MODEL_PATH = \"/aiffel/aiffel/fastAPI/decoder_model.h5\"\n",
    "\n",
    "encoder_model.save(ENCODER_MODEL_PATH)\n",
    "decoder_model.save(DECODER_MODEL_PATH)\n",
    "\n",
    "print(f\"✅ 인퍼런스 모델이 {ENCODER_MODEL_PATH}, {DECODER_MODEL_PATH} 경로에 저장되었습니다.\")"
   ]
  },
  {
   "cell_type": "code",
   "execution_count": 92,
   "id": "b86904ae",
   "metadata": {},
   "outputs": [
    {
     "name": "stdout",
     "output_type": "stream",
     "text": [
      "✅ 토크나이저가 정상적으로 저장되었습니다.\n"
     ]
    }
   ],
   "source": [
    "import pickle\n",
    "\n",
    "# src_tokenizer 저장\n",
    "with open(\"/aiffel/aiffel/fastAPI/src_tokenizer.pkl\", \"wb\") as f:\n",
    "    pickle.dump(src_tokenizer, f)\n",
    "\n",
    "# tar_tokenizer 저장\n",
    "with open(\"/aiffel/aiffel/fastAPI/tar_tokenizer.pkl\", \"wb\") as f:\n",
    "    pickle.dump(tar_tokenizer, f)\n",
    "\n",
    "print(\"✅ 토크나이저가 정상적으로 저장되었습니다.\")"
   ]
  },
  {
   "cell_type": "code",
   "execution_count": 93,
   "id": "86627e31",
   "metadata": {},
   "outputs": [
    {
     "data": {
      "image/png": "[encoded data removed]",
      "text/plain": [
       "<Figure size 432x288 with 1 Axes>"
      ]
     },
     "metadata": {
      "needs_background": "light"
     },
     "output_type": "display_data"
    }
   ],
   "source": [
    "# 훈련과정 시각화\n",
    "plt.plot(history.history['loss'], label='train')\n",
    "plt.plot(history.history['val_loss'], label='test')\n",
    "plt.legend()\n",
    "plt.show()"
   ]
  },
  {
   "cell_type": "markdown",
   "id": "bfc49387",
   "metadata": {},
   "source": [
    "### 인퍼런스 모델 구현하기"
   ]
  },
  {
   "cell_type": "code",
   "execution_count": 94,
   "id": "8a34c5ac",
   "metadata": {},
   "outputs": [],
   "source": [
    "src_index_to_word = src_tokenizer.index_word # 원문 단어 집합에서 정수 -> 단어를 얻음\n",
    "tar_word_to_index = tar_tokenizer.word_index # 요약 단어 집합에서 단어 -> 정수를 얻음\n",
    "tar_index_to_word = tar_tokenizer.index_word # 요약 단어 집합에서 정수 -> 단어를 얻음"
   ]
  },
  {
   "cell_type": "code",
   "execution_count": 95,
   "id": "31a10ba9",
   "metadata": {},
   "outputs": [],
   "source": [
    "#어텐션 메커니즘을 사용하는 입력층 설계\n",
    "\n",
    "# 인코더 설계\n",
    "encoder_model = Model(inputs=encoder_inputs, outputs=[encoder_outputs, state_h3, state_c3])\n",
    "\n",
    "# 이전 시점의 상태들을 저장하는 텐서\n",
    "decoder_state_input_h = Input(shape=(hidden_size,))\n",
    "decoder_state_input_c = Input(shape=(hidden_size,))\n",
    "\n",
    "dec_emb2 = dec_emb_layer(decoder_inputs)\n",
    "\n",
    "# 문장의 다음 단어를 예측하기 위해서 초기 상태(initial_state)를 이전 시점의 상태로 사용. 이는 뒤의 함수 decode_sequence()에 구현\n",
    "# 훈련 과정에서와 달리 LSTM의 리턴하는 은닉 상태와 셀 상태인 state_h와 state_c를 버리지 않음.\n",
    "decoder_outputs2, state_h2, state_c2 = decoder_lstm(dec_emb2, initial_state=[decoder_state_input_h, decoder_state_input_c])"
   ]
  },
  {
   "cell_type": "code",
   "execution_count": 96,
   "id": "e6f01705",
   "metadata": {},
   "outputs": [],
   "source": [
    "#어텐션 메커니즘을 사용하는 출력층 설계\n",
    "\n",
    "# 어텐션 함수\n",
    "decoder_hidden_state_input = Input(shape=(text_max_len, hidden_size))\n",
    "attn_out_inf = attn_layer([decoder_outputs2, decoder_hidden_state_input])\n",
    "decoder_inf_concat = Concatenate(axis=-1, name='concat')([decoder_outputs2, attn_out_inf])\n",
    "\n",
    "# 디코더의 출력층\n",
    "decoder_outputs2 = decoder_softmax_layer(decoder_inf_concat) \n",
    "\n",
    "# 최종 디코더 모델\n",
    "decoder_model = Model(\n",
    "    [decoder_inputs] + [decoder_hidden_state_input,decoder_state_input_h, decoder_state_input_c],\n",
    "    [decoder_outputs2] + [state_h2, state_c2])"
   ]
  },
  {
   "cell_type": "code",
   "execution_count": 97,
   "id": "53c0f0d5",
   "metadata": {},
   "outputs": [],
   "source": [
    "# 인퍼런스 단계에서 단어 시퀀스를 완성하는 함수\n",
    "\n",
    "def decode_sequence(input_seq):\n",
    "    # 입력으로부터 인코더의 상태를 얻음\n",
    "    e_out, e_h, e_c = encoder_model.predict(input_seq)\n",
    "\n",
    "     # <SOS>에 해당하는 토큰 생성\n",
    "    target_seq = np.zeros((1,1))\n",
    "    target_seq[0, 0] = tar_word_to_index['sostoken']\n",
    "\n",
    "    stop_condition = False\n",
    "    decoded_sentence = ''\n",
    "    while not stop_condition: # stop_condition이 True가 될 때까지 루프 반복\n",
    "\n",
    "        output_tokens, h, c = decoder_model.predict([target_seq] + [e_out, e_h, e_c])\n",
    "        sampled_token_index = np.argmax(output_tokens[0, -1, :])\n",
    "        sampled_token = tar_index_to_word[sampled_token_index]\n",
    "\n",
    "        if (sampled_token!='eostoken'):\n",
    "            decoded_sentence += ' '+sampled_token\n",
    "\n",
    "        #  <eos>에 도달하거나 최대 길이를 넘으면 중단.\n",
    "        if (sampled_token == 'eostoken'  or len(decoded_sentence.split()) >= (headlines_max_len-1)):\n",
    "            stop_condition = True\n",
    "\n",
    "        # 길이가 1인 타겟 시퀀스를 업데이트\n",
    "        target_seq = np.zeros((1,1))\n",
    "        target_seq[0, 0] = sampled_token_index\n",
    "\n",
    "        # 상태를 업데이트 합니다.\n",
    "        e_h, e_c = h, c\n",
    "\n",
    "    return decoded_sentence"
   ]
  },
  {
   "cell_type": "code",
   "execution_count": 98,
   "id": "5565a18d",
   "metadata": {},
   "outputs": [],
   "source": [
    "# 원문의 정수 시퀀스를 텍스트 시퀀스로 변환\n",
    "def seq2text(input_seq):\n",
    "    temp=''\n",
    "    for i in input_seq:\n",
    "        if (i!=0):\n",
    "            temp = temp + src_index_to_word[i]+' '\n",
    "    return temp\n",
    "\n",
    "# 헤드라인의 정수 시퀀스를 텍스트 시퀀스로 변환\n",
    "def seq2headlines(input_seq):\n",
    "    temp = ''\n",
    "    for i in input_seq:\n",
    "        if (i != 0 and i != tar_word_to_index['sostoken'] and i != tar_word_to_index['eostoken']):\n",
    "            temp = temp + tar_index_to_word[i] + ' '\n",
    "    return temp.strip()  # 마지막 공백 제거"
   ]
  },
  {
   "cell_type": "markdown",
   "id": "58117616",
   "metadata": {},
   "source": [
    "## Step 4. 실제 결과와 요약문 비교하기 (추상적 요약)\n",
    "원래의 요약문(headlines 열)과 학습을 통해 얻은 추상적 요약의 결과를 비교해 보세요."
   ]
  },
  {
   "cell_type": "code",
   "execution_count": 99,
   "id": "b2e79ff8",
   "metadata": {
    "scrolled": false
   },
   "outputs": [
    {
     "name": "stdout",
     "output_type": "stream",
     "text": [
      "원문 : pg medical student accused three medical college professors sexual harassment allegedly committed suicide hanging andhra pradesh chittoor district year old woman recently failed post graduate exams claimed deliberately failed complained professors suicide triggered protests students college \n",
      "실제 요약 : pg student who accused profs of sexual harassment ends life\n",
      "예측 요약 :  iit student alleges self from college commits suicide\n",
      "\n",
      "\n",
      "원문 : days rising kashmir editor shujaat bukhari shot dead assailants union minister jitendra singh said hesitation saying pakistan sponsored agencies calling bukhari activist tried follow middle path claimed pakistan strategy get activists try walk middle path scene \n",
      "실제 요약 : rising kashmir editor was killed by pakistan minister\n",
      "예측 요약 :  hizbul chief claims he was shot dead by terrorists\n",
      "\n",
      "\n",
      "원문 : death toll las vegas mass shooting risen people injured police said adding suspected shooter police said believe shooters shooter allegedly used automatic weapon attack city bay casino music festival \n",
      "실제 요약 : las vegas shooting death toll rises to over injured\n",
      "예측 요약 :  killed in suicide attack in nigeria\n",
      "\n",
      "\n",
      "원문 : least three people killed fire broke plastic manufacturing factory causing four storey building collapse punjab ludhiana monday around people three fire brigade officials feared trapped debris national disaster response force team deployed site \n",
      "실제 요약 : killed in fire at ludhiana plastic manufacturing factory\n",
      "예측 요약 :  dead as fire breaks out at building in\n",
      "\n",
      "\n",
      "원문 : indian spinner harbhajan singh took twitter share video dancing bollywood actor shah rukh khan wedding reception virat kohli anushka sharma mumbai aur ki shaadi ne imvkohli iamsrk ur vibe charm makes everything energetic harbhajan captioned video \n",
      "실제 요약 : harbhajan dances with srk at virat anushka reception\n",
      "예측 요약 :  virat kohli sings mere kohli for virat kohli rukh\n",
      "\n",
      "\n",
      "원문 : worker died allegedly coming contact live wire outdoor shoot anushka sharma starrer pari kolkata body sent post mortem waiting report primarily seems person died electrocution said police officer pari shooting location temporarily stopped \n",
      "실제 요약 : worker dies on getting electrocuted on sets of anushka film\n",
      "예측 요약 :  year old dies after being hit by tiger in mumbai\n",
      "\n",
      "\n",
      "원문 : ethiopian pastor killed attacked crocodile worshippers lake south country last week sudden crocodile jumped lake grabbed pastor eyewitness said year old reportedly bitten legs back hands \n",
      "실제 요약 : pastor killed by crocodile during ceremony at lake\n",
      "예측 요약 :  snake dies after being caught in park\n",
      "\n",
      "\n",
      "원문 : japan princess become first member imperial family visit russia since honorary patron japan football association arrived russia attend ongoing fifa world cup year old princess missed single world cup years \n",
      "실제 요약 : st japanese royal visits russia in years for fifa wc\n",
      "예측 요약 :  world first female female guard to be held in russia\n",
      "\n",
      "\n",
      "원문 : poster shubh mangal film ayushmann khurrana character erectile dysfunction unveiled shubh mangal stand love releasing st tweeted ayushmann film stars bhumi pednekar female lead making second film opposite ayushmann dum laga ke haisha \n",
      "실제 요약 : poster of ayushmann film on unveiled\n",
      "예측 요약 :  teaser of rajkummar rao starrer hits out\n",
      "\n",
      "\n",
      "원문 : investigation guardian revealed largest supplier chicken uk supermarkets sisters food group tampering food safety records investigation found birds different slaughter dates mixed production line source codes date slaughter chicken changed extend meat shelf life \n",
      "실제 요약 : largest uk chicken supplier tampered with food safety dates\n",
      "예측 요약 :  kfc to be used to clean poop for poop\n",
      "\n",
      "\n",
      "원문 : indian wicketkeeper dinesh karthik set return indian test team first time since replace injured keeper wriddhiman saha karthik join squad ahead third test johannesburg saha suffered upper left hamstring injury training replaced parthiv patel second test \n",
      "실제 요약 : karthik back in test team after yrs replaces injured saha\n",
      "예측 요약 :  india first test ton was taken to bowl out\n",
      "\n",
      "\n",
      "원문 : new poster sonam kapoor kareena kapoor starrer veere di wedding released also stars swara bhasker shikha talsania sumeet vyas film reportedly revolves around four friends attending wedding directed ghosh veere di wedding scheduled release june \n",
      "실제 요약 : new poster of sonam kareena starrer veere di wedding out\n",
      "예측 요약 :  sonam to veere di wedding in veere di wedding report\n",
      "\n",
      "\n",
      "원문 : video message world youth day pope francis called youth resist social media reality tv false image reality said distorts people perception life rob meaning urged young people take control rather following lives others \n",
      "실제 요약 : resist social media false image of reality pope francis\n",
      "예측 요약 :  pope francis calls people for blind floods\n",
      "\n",
      "\n",
      "원문 : online classifieds company info edge categorised crore written startup investment portfolio financial year number stood crore january taking total written amount crore last year info edge includes zomato policybazaar happily unmarried among portfolio active companies \n",
      "실제 요약 : info edge writes off cr in startup investments for fy\n",
      "예측 요약 :  infosys raises crore for crore\n",
      "\n",
      "\n",
      "원문 : portuguese explorer da became first european reach india via sea may linking europe asia ocean route da sailed portugal july east coast africa arrived kerala appointed portuguese viceroy india \n",
      "실제 요약 : years since da in india\n",
      "예측 요약 :  indian oil to be in the country\n",
      "\n",
      "\n",
      "원문 : iranian made drone allegedly advancing us coalition forces syria shot us jet us led coalition said fifth time us struck forces allied syrian government area recently us shot syrian army jet allegedly attacking forces \n",
      "실제 요약 : us jet shoots down iranian drone in syria\n",
      "예측 요약 :  us launches its military military after syria\n",
      "\n",
      "\n",
      "원문 : gujarat government claim districts open defecation free incorrect since nearly households across eight districts found without toilets survey comptroller auditor general report said february centre informed lok sabha gujarat ten states union territories open defecation free \n",
      "실제 요약 : gujarat claim of open defecation free is incorrect cag\n",
      "예측 요약 :  telangana to get free holiday free for st time\n",
      "\n",
      "\n",
      "원문 : union cabinet approved setting independent regulator rail development authority recommend passenger fares indian railways likely functional august initial corpus crore decide tariffs services passengers adoption new technologies railways ministry take final call passenger freight fares \n",
      "실제 요약 : govt to set up rail development authority to fix train fares\n",
      "예측 요약 :  govt approves cr for commercial airport\n",
      "\n",
      "\n",
      "원문 : enforcement directorate friday arrested cn patel director mumbai based private limited buying kilograms gold worth crore using laundered money post demonetisation patel used old demonetised currency notes buy gold probing moved money laundered five bogus companies ed officials said \n",
      "실제 요약 : mumbai trader arrested for buying kg gold post note ban\n",
      "예측 요약 :  ed ed arrested for kg of gold worth lakh\n",
      "\n",
      "\n",
      "원문 : bridges different parts country verge collapse need immediate attention road transport highways minister nitin gadkari revealed parliament thursday information came light ministry completed safety audit lakh bridges india gadkari added road projects worth lakh crore facing delays \n",
      "실제 요약 : bridges can collapse transport min gadkari\n",
      "예측 요약 :  we are not going to protect traffic minister\n",
      "\n",
      "\n",
      "원문 : ansari believed close ties fugitive underworld dawood ibrahim mayoral candidate nepali city close border india ansari backed nepal main opposition party third phase local polls scheduled september \n",
      "실제 요약 : alleged dawood aide contesting polls in nepal city\n",
      "예측 요약 :  nepal to take part of indian fishermen\n",
      "\n",
      "\n",
      "원문 : pictures women offering prayers kerala sabarimala temple went viral social media state government launched probe photographs women reportedly entered kollam based businessman gained special privileges conducting darshan notably entry women age group banned temple \n",
      "실제 요약 : probe launched as photos of women at sabarimala go viral\n",
      "예측 요약 :  women women wear sabarimala to wear sabarimala\n",
      "\n",
      "\n",
      "원문 : senior aap leader kumar vishwas interview said party convenor arvind kejriwal stand surgical strike wrong attacked prime minister blaming evms good factor failed reach voters volunteers said ticket distribution punjab election wrongly done added \n",
      "실제 요약 : kejriwal stand on surgical strikes was wrong vishwas\n",
      "예측 요약 :  aap has no one to be kejriwal\n",
      "\n",
      "\n",
      "원문 : pepsico chairman ceo indra nooyi appointed international cricket council first ever independent female director nooyi join cricket body june year term introduction independent director must female approved icc june aimed improving global governance sport \n",
      "실제 요약 : pepsico ceo nooyi becomes icc st independent female director\n",
      "예측 요약 :  ex bcci ceo announces his first ever award\n",
      "\n",
      "\n",
      "원문 : smartphone maker oneplus committed google pixel like software update policy future proof lineup two years android os updates additional year security updates policy apply company latest oneplus phone along one year old oneplus oneplus almost two year old oneplus \n",
      "실제 요약 : oneplus announces years of updates to future proof phones\n",
      "예측 요약 :  google working on android phones report\n",
      "\n",
      "\n",
      "원문 : wikileaks released document exposing corrupt arms deal france uae weapons currently used civil war yemen document details legal dispute wherein uae businessman abbas ibrahim al claimed french state owned company pay commission deal \n",
      "실제 요약 : wikileaks exposes corruption in sale of arms used in yemen war\n",
      "예측 요약 :  nato to nato to be held for nato report\n",
      "\n",
      "\n",
      "원문 : actress katrina kaif featured october cover harper bazaar bride year old actress seen red ensemble syrian born fashion designer rami al ali also accessories including nose ring cover picture featured story titled turning heat katrina kaif \n",
      "실제 요약 : katrina features on october cover of bazaar bride\n",
      "예측 요약 :  katrina kaif to marry salman in december\n",
      "\n",
      "\n",
      "원문 : barcelona neymar set miss el fixture real madrid april handed three match ban mocking referee red card barcelona loss malaga referee match report stated neymar applauded fourth official walking tunnel \n",
      "실제 요약 : neymar set to miss el after being handed match ban\n",
      "예측 요약 :  barcelona player scores in psg for the first time\n",
      "\n",
      "\n",
      "원문 : prime minister narendra modi sunday slammed congress leader chidambaram remark azadi saying insult soldiers showed party felt surgical strikes bravery army people power yesterday people taking complete turn making statements added \n",
      "실제 요약 : insult to soldiers pm modi on chidambaram azadi remark\n",
      "예측 요약 :  congress youth once killed in politics pm modi\n",
      "\n",
      "\n",
      "원문 : online certification start raised million first round funding venture fund leo capital india founded bengaluru based company running crore infused founders including ceo bhatia global training platform technologies big data cloud computing artificial intelligence blockchain among others \n",
      "실제 요약 : bengaluru education startup raises mn in st round\n",
      "예측 요약 :  mobile platform raises crore in series\n",
      "\n",
      "\n",
      "원문 : thousands people began forced chinese occupation tibet march triggered fears dalai lama may kidnapped arrested killed chinese forces uprising subsequently led declaration tibetan independence dalai lama forced take refuge india \n",
      "실제 요약 : tibetan against chinese rule years ago\n",
      "예측 요약 :  chinese migrants in china\n",
      "\n",
      "\n",
      "원문 : son union minister ashwini choubey arijit granted bail monday held links communal clashes took place bihar bhagalpur surrendered police april accused illegally taking procession triggered alleged communal clash eve hindu new year \n",
      "실제 요약 : union minister son gets bail in bihar communal clash case\n",
      "예측 요약 :  ex minister son killed in road murder case\n",
      "\n",
      "\n",
      "원문 : delhi rated tourist friendly destination india according survey conducted world travel tourism council india initiative maharashtra goa tied second spot states like tamil nadu gujarat west bengal kerala punjab andhra pradesh featured top \n",
      "실제 요약 : delhi rated india most tourist friendly destination\n",
      "예측 요약 :  india to get th best ever city in bihar\n",
      "\n",
      "\n",
      "원문 : union minister state home hansraj gangaram ahir wednesday said thefts reported every day delhi metro year far theft cases reported delhi metro till march year total theft cases reported \n",
      "실제 요약 : over reported daily in delhi metro this year govt\n",
      "예측 요약 :  no of metro in gurugram metro minister\n",
      "\n",
      "\n",
      "원문 : fraudster posing bank official phone allegedly cheated hr professional mumbai person claimed could points credit cards accounts woman shared details four credit cards fraudster asked another card shared colleague card details along \n",
      "실제 요약 : mumbai woman gives details of credit cards loses\n",
      "예측 요약 :  bank of maharashtra bank accounts of lakh\n",
      "\n",
      "\n",
      "원문 : madhya pradesh government planning introduce recruitment policy aimed preventing non local candidates joining state police force home minister bhupendra singh said youths madhya pradesh lose counterparts well built physique states like haryana job opportunity added \n",
      "실제 요약 : mp govt may prevent non locals from joining police minister\n",
      "예측 요약 :  telangana to get its first ever\n",
      "\n",
      "\n",
      "원문 : buying coffee machine white house reporters actor tom hanks stated poor need note machine read white house press corps keep good fight truth justice american way especially truth part hanks revealed late show stephen colbert \n",
      "실제 요약 : buys coffee machine for poor in wh press\n",
      "예측 요약 :  mcdonald apologises for giving him to leave\n",
      "\n",
      "\n",
      "원문 : study cognitive empathy involving people suggests genes influence ability read person thoughts emotions looking eyes test developed cambridge university researchers confirmed women better men reading minds researchers identified genetic variants women men abilities \n",
      "실제 요약 : women better than men in mind reading study\n",
      "예측 요약 :  humans are not predict any person study\n",
      "\n",
      "\n",
      "원문 : state owned bank india shut atms cut costs part turnaround plan bank said take decision shutting another atms end february rbi put bank india prompt corrective action bad loans soared return assets turned negative bank \n",
      "실제 요약 : bank of india to shut atms to cut costs\n",
      "예측 요약 :  sbi to shut down of interest in bank of india reports\n",
      "\n",
      "\n",
      "원문 : crowdfunding platform said million donations refunded campaign raise billion us president donald trump wall border mexico fell short goal brian launched campaign said created florida based non profit named build wall inc take contributions \n",
      "실제 요약 : to refund million raised for trump border wall\n",
      "예측 요약 :  chinese company trump hit bn in south korea border\n",
      "\n",
      "\n",
      "원문 : study conducted university edinburgh found depression result permanent structural changes brain found parts brain known white matter contains fibre enable brain cells communicate one another electrical signals study participants \n",
      "실제 요약 : study finds depression causes changes in brain structure\n",
      "예측 요약 :  brain found in brain brain study\n",
      "\n",
      "\n",
      "원문 : hundreds parents staged protest outside bengaluru international school thursday morning following incident three kids injured window glass fell distressed parents reportedly demanded justice proper safety measures school following protest school management declared holiday friday \n",
      "실제 요약 : protests in luru school after window falls on kids\n",
      "예측 요약 :  kids in bengaluru school school in protest\n",
      "\n",
      "\n",
      "원문 : home ministry asked gujarat haryana rajasthan governments tighten security sensitive areas ahead verdict rape case self styled godman asaram bapu verdict delivered jodhpur central jail wednesday additional security deployed outside residence victim alleged asaram raped \n",
      "실제 요약 : centre asks states to hike security over asaram verdict\n",
      "예측 요약 :  haryana govt to probe up sexual harassment in rape cases\n",
      "\n",
      "\n",
      "원문 : priyanka chopra rumoured boyfriend nick jonas instagram story posted picture priyanka game thrones actress sophie turner captioned blocking haters like picture credit given nick brother joe jonas sophie fianc priyanka celebrated th birthday nick joe sophie london \n",
      "실제 요약 : blocking haters out like nick on priyanka got actress pic\n",
      "예측 요약 :  priyanka nick to make wedding on her wedding reports\n",
      "\n",
      "\n",
      "원문 : students appearing cbse class board exams likely option answering standard level higher level mathematics question paper officials said aim behind two sets papers keen pursue mathematics higher studies answer paper syllabus expected remain \n",
      "실제 요약 : cbse class math exam likely to have test paper options\n",
      "예측 요약 :  cbse class board exams up class exams for class\n",
      "\n",
      "\n",
      "원문 : income tax department seized two bank accounts punjab minister navjot singh sidhu department said sidhu tax dues amounting lakh sidhu reportedly showed huge expenses including lakh travel lakh staff salary lakh clothes returns filed year failed show supporting bills \n",
      "실제 요약 : dept seizes bank accounts of navjot singh sidhu\n",
      "예측 요약 :  lakh tax on lakh to pay tax on tax evasion\n",
      "\n",
      "\n",
      "원문 : indian opener rohit sharma become second indian batsman virat kohli score plus runs cricket rohit captaining indian side achieved feat first sri lanka wednesday runs innings kohli holds record runs scored indian batsman cricket \n",
      "실제 요약 : rohit nd indian after kohli to slam runs in is\n",
      "예측 요약 :  kohli becomes nd indian to score runs in odi series\n",
      "\n",
      "\n",
      "원문 : centre wednesday informed lok sabha villages adopted mps adarsh gram yojana provided free wifi services adding government targeted link lakh gram panchayats india optical fibre network said gram panchayats already connected high speed internet \n",
      "실제 요약 : free wifi for villages adopted by mps across india\n",
      "예측 요약 :  govt to set up to set up to set up national\n",
      "\n",
      "\n",
      "원문 : police arrested five people allegedly duping retailer amazon nearly lakh claiming non delivery around products accused would pick products delivery later call customer care claim parcel empty company would fresh replacement sold olx different shopkeepers \n",
      "실제 요약 : held for duping amazon of using non delivery claims\n",
      "예측 요약 :  arrested for selling data of lakh in assam\n",
      "\n",
      "\n",
      "원문 : former indian batsman sachin tendulkar scored record runs opener odi cricket opened first time former india captain ajit wadekar management appointed team india first ever manager agreed let sachin open latter request wadekar passed away aged wednesday \n",
      "실제 요약 : sachin became odi opener under ajit management\n",
      "예측 요약 :  sachin becomes highest odi cricketer to be held in odis\n",
      "\n",
      "\n"
     ]
    }
   ],
   "source": [
    "for i in range(50, 100):\n",
    "    print(\"원문 :\", seq2text(encoder_input_test[i]))\n",
    "    print(\"실제 요약 :\", seq2headlines(decoder_input_test[i]))\n",
    "    print(\"예측 요약 :\", decode_sequence(encoder_input_test[i].reshape(1, text_max_len)))\n",
    "    print(\"\\n\")"
   ]
  },
  {
   "cell_type": "markdown",
   "id": "9e47b215",
   "metadata": {},
   "source": [
    "## Step 5. Summa을 이용해서 추출적 요약해보기\n",
    "추상적 요약은 추출적 요약과는 달리 문장의 표현력을 다양하게 가져갈 수 있지만, 추출적 요약에 비해서 난이도가 높아요. 반대로 말하면 추출적 요약은 추상적 요약에 비해 난이도가 낮고 기존 문장에서 문장을 꺼내오는 것이므로 잘못된 요약이 나올 가능성이 낮아요.\n",
    "\n",
    "Summa의 summarize를 사용하여 추출적 요약을 해보세요."
   ]
  },
  {
   "cell_type": "code",
   "execution_count": 160,
   "id": "b254392a",
   "metadata": {},
   "outputs": [],
   "source": [
    "# 패키지 설치 및 가져오기\n",
    "import pandas as pd\n",
    "import urllib.request\n",
    "from summa.summarizer import summarize"
   ]
  },
  {
   "cell_type": "code",
   "execution_count": 161,
   "id": "50a06818",
   "metadata": {},
   "outputs": [],
   "source": [
    "# 뉴스 기사 데이터 다운로드 및 로드\n",
    "urllib.request.urlretrieve(\"https://raw.githubusercontent.com/sunnysai12345/News_Summary/master/news_summary_more.csv\",\n",
    "                           filename=\"news_summary_more.csv\")\n",
    "\n",
    "data = pd.read_csv('news_summary_more.csv', encoding='iso-8859-1')"
   ]
  },
  {
   "cell_type": "code",
   "execution_count": 162,
   "id": "20448c82",
   "metadata": {},
   "outputs": [
    {
     "name": "stdout",
     "output_type": "stream",
     "text": [
      "\n",
      "원문:\n",
      "New Zealand defeated India by 8 wickets in the fourth ODI at Hamilton on Thursday to win their first match of the five-match ODI series. India lost an international match under Rohit Sharma's captaincy after 12 consecutive victories dating back to March 2018. The match witnessed India getting all out for 92, their seventh lowest total in ODI cricket history.\n"
     ]
    }
   ],
   "source": [
    "# 랜덤 샘플 선택 (예제: 3번째 기사)\n",
    "sample_text = data['text'][2]  # 2번째 행의 뉴스 기사 원문\n",
    "\n",
    "print(\"\\n원문:\")\n",
    "print(sample_text)  # 원문 출력"
   ]
  },
  {
   "cell_type": "code",
   "execution_count": 163,
   "id": "f3cbacb5",
   "metadata": {},
   "outputs": [
    {
     "name": "stdout",
     "output_type": "stream",
     "text": [
      "\n",
      "비율 기반 요약 (50%)\n",
      "The match witnessed India getting all out for 92, their seventh lowest total in ODI cricket history.\n"
     ]
    }
   ],
   "source": [
    "# 비율 기반 요약 (뉴스 기사 원문의 50% 요약)\n",
    "print(\"\\n비율 기반 요약 (50%)\")\n",
    "print(summarize(sample_text, ratio=0.5))"
   ]
  },
  {
   "cell_type": "code",
   "execution_count": 164,
   "id": "ba6c0566",
   "metadata": {},
   "outputs": [
    {
     "name": "stdout",
     "output_type": "stream",
     "text": [
      "\n",
      "단어 수 기반 요약 (30단어)\n",
      "New Zealand defeated India by 8 wickets in the fourth ODI at Hamilton on Thursday to win their first match of the five-match ODI series.\n",
      "The match witnessed India getting all out for 92, their seventh lowest total in ODI cricket history.\n"
     ]
    }
   ],
   "source": [
    "# 단어 수 기반 요약 (단어 30개만 유지)\n",
    "print(\"\\n단어 수 기반 요약 (30단어)\")\n",
    "print(summarize(sample_text, words=30))"
   ]
  },
  {
   "cell_type": "code",
   "execution_count": 165,
   "id": "197efe70",
   "metadata": {},
   "outputs": [
    {
     "name": "stdout",
     "output_type": "stream",
     "text": [
      "\n",
      "리스트 형태 요약\n",
      "['The match witnessed India getting all out for 92, their seventh lowest total in ODI cricket history.']\n"
     ]
    }
   ],
   "source": [
    "# 요약 결과를 리스트 형태로 출력\n",
    "print(\"\\n리스트 형태 요약\")\n",
    "print(summarize(sample_text, ratio=0.5, split=True))"
   ]
  },
  {
   "cell_type": "code",
   "execution_count": 166,
   "id": "176d9572",
   "metadata": {
    "scrolled": false
   },
   "outputs": [
    {
     "name": "stdout",
     "output_type": "stream",
     "text": [
      "\n",
      "\n",
      "===== 샘플 70 =====\n",
      "원문:\n",
      "Apple CEO Tim Cook said the company plans to lower some iPhones' prices in markets with currencies that weakened against the US dollar in the past year. \"WeÃ¢ÂÂve decided to go back to (iPhone prices) more commensurate with...local prices...a year ago,\" Cook added. The price cuts, in hopes of increasing sales, are reportedly occurring for second time in 12 years.\n",
      "\n",
      "추출적 요약(20단어 유지):\n",
      "\"WeÃ¢ÂÂve decided to go back to (iPhone prices) more commensurate with...local prices...a year ago,\" Cook added.\n",
      "\n",
      "\n",
      "\n",
      "===== 샘플 71 =====\n",
      "원문:\n",
      "Scientists in Australia's Flinders University are testing a wetsuit prototype that could protect its wearer after a shark attack. The suit, made of synthetic material similar to the material used in bulletproof vests, could help reduce blood loss after a shark attack. \"The majority of fatalities from shark bites is due to blood loss...shock from blood loss,\" a scientist said.\n",
      "\n",
      "추출적 요약(20단어 유지):\n",
      "\"The majority of fatalities from shark bites is due to blood loss...shock from blood loss,\" a scientist said.\n",
      "\n",
      "\n",
      "\n",
      "===== 샘플 72 =====\n",
      "원문:\n",
      "BJP National Secretary Rahul Sinha on Wednesday asked the party workers in West Bengal to come armed with sticks to PM Narendra Modi's rally in the state on February 2. His statement came a day after clashes broke out following BJP chief Amit Shah's WB rally. Sinha added the TMC is indulged in violence as they're afraid of BJP's strength.\n",
      "\n",
      "추출적 요약(20단어 유지):\n",
      "BJP National Secretary Rahul Sinha on Wednesday asked the party workers in West Bengal to come armed with sticks to PM Narendra Modi's rally in the state on February 2.\n",
      "\n",
      "\n",
      "\n",
      "===== 샘플 73 =====\n",
      "원문:\n",
      "BJP President Amit Shah on Wednesday took a dig at the Opposition parties saying that the 'mahagathbandhan' for the Opposition is 4B - \"Bua-Bhatija-Bhai-Behen\". He added that 4B for the BJP meant \"Badhta Bharat, Banta Bharat\". He said Opposition's government cannot take the country ahead and \"only Modiji can provide a 'mazboot' (strong) government\".\n",
      "\n",
      "추출적 요약(20단어 유지):\n",
      "BJP President Amit Shah on Wednesday took a dig at the Opposition parties saying that the 'mahagathbandhan' for the Opposition is 4B - \"Bua-Bhatija-Bhai-Behen\".\n",
      "\n",
      "\n",
      "\n",
      "===== 샘플 74 =====\n",
      "원문:\n",
      "German automaker Volkswagen Group has retained the car industry's top spot in global sales, beating its Japanese rival Toyota. Volkswagen's sales, including its MAN and Scania heavy trucks and buses, rose 0.9% to 10.83 million in 2018, the company had said. Toyota came second with around 10.6 million deliveries, including its affiliated brands Daihatsu and Hino, in 2018.\n",
      "\n",
      "추출적 요약(20단어 유지):\n",
      "Volkswagen's sales, including its MAN and Scania heavy trucks and buses, rose 0.9% to 10.83 million in 2018, the company had said.\n",
      "\n",
      "\n",
      "\n",
      "===== 샘플 75 =====\n",
      "원문:\n",
      "Ousted Nissan Chairman Carlos Ghosn has said his arrest over alleged financial misconduct was led by \"plot and treason\" by the Japanese carmaker's executives who opposed its deeper integration with Renault and Mitsubishi. Ghosn added he had discussed the integration plans with Nissan's CEO in September, a month before his arrest. He further said he wouldn't flee if granted bail.\n",
      "\n",
      "추출적 요약(20단어 유지):\n",
      "Ousted Nissan Chairman Carlos Ghosn has said his arrest over alleged financial misconduct was led by \"plot and treason\" by the Japanese carmaker's executives who opposed its deeper integration with Renault and Mitsubishi.\n",
      "\n",
      "\n",
      "\n",
      "===== 샘플 76 =====\n",
      "원문:\n",
      "The government has cut down customs duty on import of parts and components for electric vehicles to 10-15%, down from the previous 15-30%. The Central Board of Indirect Taxes and Customs said disassembled parts will attract 10% duty, whereas 15% will be levied on pre-assembled packs. However, fully built electric vehicles will continue to attract 25% import duty.\n",
      "\n",
      "추출적 요약(20단어 유지):\n",
      "The government has cut down customs duty on import of parts and components for electric vehicles to 10-15%, down from the previous 15-30%.\n",
      "\n",
      "\n",
      "\n",
      "===== 샘플 77 =====\n",
      "원문:\n",
      "Government officials on Wednesday said that a swine flu outbreak has killed 76 people this year in Rajasthan. Colder weather has worsened the seasonal outbreak of the H1N1 virus in the country, officials added. Rajasthan recorded more than a third of all swine flu deaths in India with Jodhpur being the worst affected area in the state, officials said.\n",
      "\n",
      "추출적 요약(20단어 유지):\n",
      "Government officials on Wednesday said that a swine flu outbreak has killed 76 people this year in Rajasthan.\n",
      "\n",
      "\n",
      "\n",
      "===== 샘플 78 =====\n",
      "원문:\n",
      "North Korea is \"unlikely to completely give up its nuclear weapons and production capabilities\", Director of US' National Intelligence, Daniel Coats, said. \"North Korean leaders view nuclear arms as critical to regime survival,\" he added. His statements come despite North Korea's agreement with the US at the Singapore summit last year to denuclearise the Korean Peninsula. \n",
      "\n",
      "추출적 요약(20단어 유지):\n",
      "\"North Korean leaders view nuclear arms as critical to regime survival,\" he added.\n",
      "\n",
      "\n",
      "\n",
      "===== 샘플 79 =====\n",
      "원문:\n",
      "Jet Airways on Wednesday denied it was directed by GE Capital Aviation Services to ground its aircraft due to non-payment of dues. The airline said it's in the process of delivering three aircraft to lessors due to the expiry of lease terms. Further, three aircraft have been temporarily grounded to carry out an engine normalisation exercise, it added.\n",
      "\n",
      "추출적 요약(20단어 유지):\n",
      "Further, three aircraft have been temporarily grounded to carry out an engine normalisation exercise, it added.\n",
      "\n"
     ]
    }
   ],
   "source": [
    "# 원문, 추출적 요약 비교\n",
    "for i in range(70, 80):  # 70번부터 79번까지 총 10개의 샘플 요약\n",
    "    original_text = data['text'][i]  # 원문 가져오기\n",
    "\n",
    "    # 단어 수 기반 요약 (20단어 유지)\n",
    "    extractive_summary = summarize(original_text, words=20)\n",
    "\n",
    "    print(f\"\\n\\n===== 샘플 {i} =====\")\n",
    "    print(f\"원문:\\n{original_text}\\n\")\n",
    "    print(f\"추출적 요약(20단어 유지):\\n{extractive_summary}\\n\")"
   ]
  },
  {
   "cell_type": "markdown",
   "id": "49edde12",
   "metadata": {},
   "source": [
    "## 추상적 요약 vs 추출적 요약 비교\n",
    "### 1. ROUGE의 주요 지표:\n",
    "1. ROUGE-N:\n",
    "\n",
    "- ROUGE-1: 1-그램(단어)의 정확도, 재현율, F1 점수를 계산합니다.\n",
    "- ROUGE-2: 2-그램(연속된 두 단어)의 정확도, 재현율, F1 점수를 계산합니다.\n",
    "- 예를 들어, ROUGE-1은 한 단어씩 비교하고, ROUGE-2는 두 단어씩 비교하여 요약이 얼마나 잘 일치하는지 평가합니다.\n",
    "\n",
    "2. ROUGE-L:\n",
    "\n",
    "- LCS (Longest Common Subsequence)를 기준으로 최장 공통 부분 수열을 계산합니다.\n",
    "- 요약이 원본 문서에서 문장 구조를 얼마나 잘 유지하는지를 측정하는 지표입니다.\n",
    "- 요약된 문장에서 최대 일치 부분을 찾고, 이를 바탕으로 정확도, 재현율, F1 점수를 계산합니다.\n",
    "\n",
    "\n",
    "### 2. ROUGE의 평가 지표:\n",
    "- Precision (정확도): 요약된 텍스트에 포함된 단어가 원본 텍스트에 얼마나 일치하는지를 측정합니다.\n",
    "- Recall (재현율): 원본 텍스트에서 나온 중요한 단어가 요약된 텍스트에 얼마나 포함되었는지 측정합니다.\n",
    "- F1 Score: Precision과 Recall의 조화 평균을 구한 값으로, 두 지표의 균형을 평가합니다."
   ]
  },
  {
   "cell_type": "code",
   "execution_count": 167,
   "id": "4498e1d2",
   "metadata": {},
   "outputs": [
    {
     "name": "stdout",
     "output_type": "stream",
     "text": [
      "Requirement already satisfied: rouge-score in /opt/conda/lib/python3.9/site-packages (0.1.2)\n",
      "Requirement already satisfied: numpy in /opt/conda/lib/python3.9/site-packages (from rouge-score) (1.21.4)\n",
      "Requirement already satisfied: absl-py in /opt/conda/lib/python3.9/site-packages (from rouge-score) (0.12.0)\n",
      "Requirement already satisfied: nltk in /opt/conda/lib/python3.9/site-packages (from rouge-score) (3.6.5)\n",
      "Requirement already satisfied: six>=1.14.0 in /opt/conda/lib/python3.9/site-packages (from rouge-score) (1.16.0)\n",
      "Requirement already satisfied: joblib in /opt/conda/lib/python3.9/site-packages (from nltk->rouge-score) (1.1.0)\n",
      "Requirement already satisfied: tqdm in /opt/conda/lib/python3.9/site-packages (from nltk->rouge-score) (4.62.3)\n",
      "Requirement already satisfied: click in /opt/conda/lib/python3.9/site-packages (from nltk->rouge-score) (8.0.3)\n",
      "Requirement already satisfied: regex>=2021.8.3 in /opt/conda/lib/python3.9/site-packages (from nltk->rouge-score) (2021.11.10)\n",
      "\u001b[33mWARNING: Running pip as the 'root' user can result in broken permissions and conflicting behaviour with the system package manager. It is recommended to use a virtual environment instead: https://pip.pypa.io/warnings/venv\u001b[0m\n"
     ]
    }
   ],
   "source": [
    "!pip install rouge-score"
   ]
  },
  {
   "cell_type": "code",
   "execution_count": 168,
   "id": "a9cf4bab",
   "metadata": {
    "scrolled": false
   },
   "outputs": [
    {
     "name": "stdout",
     "output_type": "stream",
     "text": [
      "원문:\n",
      "New Zealand defeated India by 8 wickets in the fourth ODI at Hamilton on Thursday to win their first match of the five-match ODI series. India lost an international match under Rohit Sharma's captaincy after 12 consecutive victories dating back to March 2018. The match witnessed India getting all out for 92, their seventh lowest total in ODI cricket history.\n",
      "\n",
      "추상적 요약:\n",
      " karnataka cm to get kumaraswamy office for office\n",
      "\n",
      "추출적 요약:\n",
      "The match witnessed India getting all out for 92, their seventh lowest total in ODI cricket history.\n",
      "\n",
      "추상적 요약 ROUGE 점수:\n",
      "{'rouge1': Score(precision=0.375, recall=0.04838709677419355, fmeasure=0.0857142857142857), 'rouge2': Score(precision=0.0, recall=0.0, fmeasure=0.0), 'rougeL': Score(precision=0.375, recall=0.04838709677419355, fmeasure=0.0857142857142857)}\n",
      "\n",
      "추출적 요약 ROUGE 점수:\n",
      "{'rouge1': Score(precision=1.0, recall=0.27419354838709675, fmeasure=0.430379746835443), 'rouge2': Score(precision=1.0, recall=0.26229508196721313, fmeasure=0.41558441558441556), 'rougeL': Score(precision=1.0, recall=0.27419354838709675, fmeasure=0.430379746835443)}\n"
     ]
    }
   ],
   "source": [
    "import warnings\n",
    "import pandas as pd\n",
    "import matplotlib.pyplot as plt\n",
    "from rouge_score import rouge_scorer\n",
    "from summa.summarizer import summarize\n",
    "\n",
    "# 경고 메시지 무시하기\n",
    "warnings.filterwarnings(\"ignore\", category=UserWarning, module='matplotlib')\n",
    "\n",
    "# 추상적 요약 결과 (decode_sequence로 생성된 요약)\n",
    "abstractive_summary = decode_sequence(encoder_input_test[0].reshape(1, text_max_len))\n",
    "\n",
    "# 추출적 요약 결과 (Summa 라이브러리 사용)\n",
    "sample_text = data['text'][2]  # 'text' 컬럼 대신 실제 데이터 컬럼을 확인 후 사용\n",
    "extractive_summary = summarize(sample_text, words=20)\n",
    "\n",
    "# 원문, 추상적 요약, 추출적 요약 출력\n",
    "print(f\"원문:\\n{sample_text}\")\n",
    "print(f\"\\n추상적 요약:\\n{abstractive_summary}\")\n",
    "print(f\"\\n추출적 요약:\\n{extractive_summary}\")\n",
    "\n",
    "# ROUGE 점수 계산\n",
    "scorer = rouge_scorer.RougeScorer(['rouge1', 'rouge2', 'rougeL'], use_stemmer=True)\n",
    "abstractive_scores = scorer.score(sample_text, abstractive_summary)\n",
    "extractive_scores = scorer.score(sample_text, extractive_summary)\n",
    "\n",
    "# ROUGE 점수 출력\n",
    "print(\"\\n추상적 요약 ROUGE 점수:\")\n",
    "print(abstractive_scores)\n",
    "\n",
    "print(\"\\n추출적 요약 ROUGE 점수:\")\n",
    "print(extractive_scores)\n",
    "\n",
    "# ROUGE 점수를 pandas DataFrame으로 정리\n",
    "data = {\n",
    "    \"ROUGE-N\": [\"ROUGE-1\", \"ROUGE-2\", \"ROUGE-L\"],\n",
    "    \"추상적 요약 Precision\": [\n",
    "        abstractive_scores['rouge1'].precision,\n",
    "        abstractive_scores['rouge2'].precision,\n",
    "        abstractive_scores['rougeL'].precision\n",
    "    ],\n",
    "    \"추상적 요약 Recall\": [\n",
    "        abstractive_scores['rouge1'].recall,\n",
    "        abstractive_scores['rouge2'].recall,\n",
    "        abstractive_scores['rougeL'].recall\n",
    "    ],\n",
    "    \"추상적 요약 F1 Score\": [\n",
    "        abstractive_scores['rouge1'].fmeasure,\n",
    "        abstractive_scores['rouge2'].fmeasure,\n",
    "        abstractive_scores['rougeL'].fmeasure\n",
    "    ],\n",
    "    \"추출적 요약 Precision\": [\n",
    "        extractive_scores['rouge1'].precision,\n",
    "        extractive_scores['rouge2'].precision,\n",
    "        extractive_scores['rougeL'].precision\n",
    "    ],\n",
    "    \"추출적 요약 Recall\": [\n",
    "        extractive_scores['rouge1'].recall,\n",
    "        extractive_scores['rouge2'].recall,\n",
    "        extractive_scores['rougeL'].recall\n",
    "    ],\n",
    "    \"추출적 요약 F1 Score\": [\n",
    "        extractive_scores['rouge1'].fmeasure,\n",
    "        extractive_scores['rouge2'].fmeasure,\n",
    "        extractive_scores['rougeL'].fmeasure\n",
    "    ]\n",
    "}"
   ]
  },
  {
   "cell_type": "code",
   "execution_count": 169,
   "id": "faf1accb",
   "metadata": {
    "scrolled": false
   },
   "outputs": [
    {
     "name": "stdout",
     "output_type": "stream",
     "text": [
      "\n",
      "ROUGE 평가 결과 (DataFrame 형태):\n",
      "   ROUGE-N  추상적 요약 Precision  추상적 요약 Recall  추상적 요약 F1 Score  \\\n",
      "0  ROUGE-1             0.375       0.048387         0.085714   \n",
      "1  ROUGE-2             0.000       0.000000         0.000000   \n",
      "2  ROUGE-L             0.375       0.048387         0.085714   \n",
      "\n",
      "   추출적 요약 Precision  추출적 요약 Recall  추출적 요약 F1 Score  \n",
      "0               1.0       0.274194         0.430380  \n",
      "1               1.0       0.262295         0.415584  \n",
      "2               1.0       0.274194         0.430380  \n"
     ]
    },
    {
     "name": "stderr",
     "output_type": "stream",
     "text": [
      "/opt/conda/lib/python3.9/site-packages/matplotlib/backends/backend_agg.py:240: RuntimeWarning: Glyph 52628 missing from current font.\n",
      "  font.set_text(s, 0.0, flags=flags)\n",
      "/opt/conda/lib/python3.9/site-packages/matplotlib/backends/backend_agg.py:240: RuntimeWarning: Glyph 49345 missing from current font.\n",
      "  font.set_text(s, 0.0, flags=flags)\n",
      "/opt/conda/lib/python3.9/site-packages/matplotlib/backends/backend_agg.py:240: RuntimeWarning: Glyph 51201 missing from current font.\n",
      "  font.set_text(s, 0.0, flags=flags)\n",
      "/opt/conda/lib/python3.9/site-packages/matplotlib/backends/backend_agg.py:240: RuntimeWarning: Glyph 50836 missing from current font.\n",
      "  font.set_text(s, 0.0, flags=flags)\n",
      "/opt/conda/lib/python3.9/site-packages/matplotlib/backends/backend_agg.py:240: RuntimeWarning: Glyph 50557 missing from current font.\n",
      "  font.set_text(s, 0.0, flags=flags)\n",
      "/opt/conda/lib/python3.9/site-packages/matplotlib/backends/backend_agg.py:240: RuntimeWarning: Glyph 52636 missing from current font.\n",
      "  font.set_text(s, 0.0, flags=flags)\n",
      "/opt/conda/lib/python3.9/site-packages/matplotlib/backends/backend_agg.py:240: RuntimeWarning: Glyph 51216 missing from current font.\n",
      "  font.set_text(s, 0.0, flags=flags)\n",
      "/opt/conda/lib/python3.9/site-packages/matplotlib/backends/backend_agg.py:240: RuntimeWarning: Glyph 49688 missing from current font.\n",
      "  font.set_text(s, 0.0, flags=flags)\n",
      "/opt/conda/lib/python3.9/site-packages/matplotlib/backends/backend_agg.py:240: RuntimeWarning: Glyph 48708 missing from current font.\n",
      "  font.set_text(s, 0.0, flags=flags)\n",
      "/opt/conda/lib/python3.9/site-packages/matplotlib/backends/backend_agg.py:240: RuntimeWarning: Glyph 44368 missing from current font.\n",
      "  font.set_text(s, 0.0, flags=flags)\n",
      "/opt/conda/lib/python3.9/site-packages/matplotlib/backends/backend_agg.py:240: RuntimeWarning: Glyph 48169 missing from current font.\n",
      "  font.set_text(s, 0.0, flags=flags)\n",
      "/opt/conda/lib/python3.9/site-packages/matplotlib/backends/backend_agg.py:240: RuntimeWarning: Glyph 48277 missing from current font.\n",
      "  font.set_text(s, 0.0, flags=flags)\n",
      "/opt/conda/lib/python3.9/site-packages/matplotlib/backends/backend_agg.py:203: RuntimeWarning: Glyph 52628 missing from current font.\n",
      "  font.set_text(s, 0, flags=flags)\n",
      "/opt/conda/lib/python3.9/site-packages/matplotlib/backends/backend_agg.py:203: RuntimeWarning: Glyph 49345 missing from current font.\n",
      "  font.set_text(s, 0, flags=flags)\n",
      "/opt/conda/lib/python3.9/site-packages/matplotlib/backends/backend_agg.py:203: RuntimeWarning: Glyph 51201 missing from current font.\n",
      "  font.set_text(s, 0, flags=flags)\n",
      "/opt/conda/lib/python3.9/site-packages/matplotlib/backends/backend_agg.py:203: RuntimeWarning: Glyph 50836 missing from current font.\n",
      "  font.set_text(s, 0, flags=flags)\n",
      "/opt/conda/lib/python3.9/site-packages/matplotlib/backends/backend_agg.py:203: RuntimeWarning: Glyph 50557 missing from current font.\n",
      "  font.set_text(s, 0, flags=flags)\n",
      "/opt/conda/lib/python3.9/site-packages/matplotlib/backends/backend_agg.py:203: RuntimeWarning: Glyph 52636 missing from current font.\n",
      "  font.set_text(s, 0, flags=flags)\n",
      "/opt/conda/lib/python3.9/site-packages/matplotlib/backends/backend_agg.py:203: RuntimeWarning: Glyph 51216 missing from current font.\n",
      "  font.set_text(s, 0, flags=flags)\n",
      "/opt/conda/lib/python3.9/site-packages/matplotlib/backends/backend_agg.py:203: RuntimeWarning: Glyph 49688 missing from current font.\n",
      "  font.set_text(s, 0, flags=flags)\n",
      "/opt/conda/lib/python3.9/site-packages/matplotlib/backends/backend_agg.py:203: RuntimeWarning: Glyph 48708 missing from current font.\n",
      "  font.set_text(s, 0, flags=flags)\n",
      "/opt/conda/lib/python3.9/site-packages/matplotlib/backends/backend_agg.py:203: RuntimeWarning: Glyph 44368 missing from current font.\n",
      "  font.set_text(s, 0, flags=flags)\n",
      "/opt/conda/lib/python3.9/site-packages/matplotlib/backends/backend_agg.py:203: RuntimeWarning: Glyph 48169 missing from current font.\n",
      "  font.set_text(s, 0, flags=flags)\n",
      "/opt/conda/lib/python3.9/site-packages/matplotlib/backends/backend_agg.py:203: RuntimeWarning: Glyph 48277 missing from current font.\n",
      "  font.set_text(s, 0, flags=flags)\n"
     ]
    },
    {
     "data": {
      "image/png": "[encoded data removed]",
      "text/plain": [
       "<Figure size 720x432 with 1 Axes>"
      ]
     },
     "metadata": {
      "needs_background": "light"
     },
     "output_type": "display_data"
    }
   ],
   "source": [
    "# DataFrame으로 결과 출력\n",
    "df = pd.DataFrame(data)\n",
    "print(\"\\nROUGE 평가 결과 (DataFrame 형태):\")\n",
    "print(df)\n",
    "\n",
    "# 시각화: ROUGE 점수 비교\n",
    "fig, ax = plt.subplots(figsize=(10, 6))\n",
    "df.set_index('ROUGE-N')[['추상적 요약 F1 Score', '추출적 요약 F1 Score']].plot(kind='bar', ax=ax)\n",
    "\n",
    "ax.set_title(\"추상적 요약 vs 추출적 요약 ROUGE F1 점수 비교\")\n",
    "ax.set_xlabel(\"ROUGE-N\")\n",
    "ax.set_ylabel(\"F1 Score\")\n",
    "ax.legend(title=\"요약 방법\", loc=\"upper left\")\n",
    "\n",
    "plt.xticks(rotation=0)\n",
    "plt.tight_layout()\n",
    "plt.show()"
   ]
  },
  {
   "cell_type": "markdown",
   "id": "bda144e3",
   "metadata": {},
   "source": [
    "### 비교 결과 해석\n",
    "\n",
    "**1. 추상적 요약:**\n",
    "\n",
    "1) ROUGE-1:\n",
    "- Precision: 0.375, Recall: 0.0484, F1 Score: 0.0857\n",
    "- 추상적 요약은 원문과 일치하는 단어를 약간만 포함하고 있으며, F1 점수가 매우 낮은 값을 보입니다.\n",
    "- 이는 추상적 요약이 **원문에서 중요한 정보를 잘 반영하지 못하였음**을 의미합니다.\n",
    "\n",
    "2) ROUGE-2:\n",
    "- Precision: 0.0, Recall: 0.0, F1 Score: 0.0\n",
    "- 추상적 요약은 2-그램(두 단어씩) 기준으로는 원문과 전혀 일치하지 않으며, 0점을 기록합니다.\n",
    "- 즉, **문맥적으로 중요한 단어들을 잘 반영하지 않았다**는 의미입니다.\n",
    "\n",
    "3) ROUGE-L:\n",
    "- Precision: 0.375, Recall: 0.0484, F1 Score: 0.0857\n",
    "- ROUGE-L에서는 최장 공통 부분 수열을 기준으로 **원문과 일치하는 부분이 부족하다**는 결과가 나왔습니다.\n",
    "---\n",
    "\n",
    "**2. 추출적 요약:**\n",
    "\n",
    "1) ROUGE-1:\n",
    "- Precision: 1.0, Recall: 0.274, F1 Score: 0.4304\n",
    "- 추출적 요약은 원문에서 단어를 그대로 추출한 경우로, Precision이 1.0이라서 원문에서 나온 단어들을 모두 포함했음을 알 수 있습니다. \n",
    "- 하지만 Recall은 0.274로 **추출된 단어 중 일부만 원문에 포함되었음**을 의미합니다.\n",
    "\n",
    "2) ROUGE-2:\n",
    "- Precision: 1.0, Recall: 0.262, F1 Score: 0.4156\n",
    "- 2-그램 기준에서도 추출적 요약이 원문에서 중요한 2-그램을 잘 추출했음을 보여줍니다.\n",
    "- F1 점수가 높게 나온 것을 보면, **원문에 중요한 정보를 잘 유지했음**을 알 수 있습니다.\n",
    "\n",
    "3) ROUGE-L:\n",
    "- Precision: 1.0, Recall: 0.274, F1 Score: 0.4304\n",
    "- ROUGE-L에서 추출적 요약은 최장 공통 부분 수열 기준으로도 좋은 성과를 보였습니다.\n",
    "- **원문에서 중요한 구문을 잘 유지했음**을 나타냅니다.\n",
    "---\n",
    "**[ 결론 ]**\n",
    "\n",
    "그래프에서 **주황색 바 (추출적 요약)**가 **파란색 바 (추상적 요약)**보다 상대적으로 더 긴 것을 보면, **추출적 요약이 추상적 요약보다 높은 성능을 보인다**는 것을 알 수 있습니다.\n",
    "- 추상적 요약은 창의성이 강하지만, 원문에 포함된 중요한 정보를 잘 반영하지 못하는 경우가 많아 ROUGE 점수가 낮습니다.\n",
    "- 추출적 요약은 정확도와 재현율에서 높은 점수를 얻어, 원문에 포함된 중요한 내용을 잘 요약하는 방식입니다."
   ]
  },
  {
   "cell_type": "code",
   "execution_count": null,
   "id": "7685f245",
   "metadata": {},
   "outputs": [],
   "source": []
  }
 ],
 "metadata": {
  "kernelspec": {
   "display_name": "Python 3 (ipykernel)",
   "language": "python",
   "name": "python3"
  },
  "language_info": {
   "codemirror_mode": {
    "name": "ipython",
    "version": 3
   },
   "file_extension": ".py",
   "mimetype": "text/x-python",
   "name": "python",
   "nbconvert_exporter": "python",
   "pygments_lexer": "ipython3",
   "version": "3.9.7"
  }
 },
 "nbformat": 4,
 "nbformat_minor": 5
}
