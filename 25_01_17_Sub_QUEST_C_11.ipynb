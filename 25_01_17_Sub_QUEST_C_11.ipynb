{
  "nbformat": 4,
  "nbformat_minor": 0,
  "metadata": {
    "colab": {
      "provenance": [],
      "authorship_tag": "ABX9TyP/xEkdRV+Hifcsndflsrqg",
      "include_colab_link": true
    },
    "kernelspec": {
      "name": "python3",
      "display_name": "Python 3"
    },
    "language_info": {
      "name": "python"
    }
  },
  "cells": [
    {
      "cell_type": "markdown",
      "metadata": {
        "id": "view-in-github",
        "colab_type": "text"
      },
      "source": [
        "<a href=\"https://colab.research.google.com/github/EUNSOLLEE-aiffel/AIFFEL_quest_cr/blob/master/25_01_17_Sub_QUEST_C_11.ipynb\" target=\"_parent\"><img src=\"https://colab.research.google.com/assets/colab-badge.svg\" alt=\"Open In Colab\"/></a>"
      ]
    },
    {
      "cell_type": "code",
      "execution_count": null,
      "metadata": {
        "id": "vQHajsCqz0rX"
      },
      "outputs": [],
      "source": [
        "import 'dart:async';\n",
        "\n",
        "class PomodoroTimer {\n",
        "  final int workDuration = 25 * 60; // 25분 작업 (초 단위)\n",
        "  final int shortBreakDuration = 5 * 60; // 5분 휴식\n",
        "  final int longBreakDuration = 15 * 60; // 15분 휴식\n",
        "  int currentRound = 1; // 현재 회차\n",
        "  Timer? timer;\n",
        "  int remainingTime = 0; // 남은 시간 (초 단위)\n",
        "  bool isWorking = true; // 작업 상태 플래그\n",
        "\n",
        "  void start() {\n",
        "    print('Pomodoro Timer 시작');\n",
        "    _startRound();\n",
        "  }\n",
        "\n",
        "  void _startRound() {\n",
        "    if (currentRound > 4) {\n",
        "      print('Pomodoro Timer 완료!');\n",
        "      return;\n",
        "    }\n",
        "\n",
        "    if (isWorking) {\n",
        "      remainingTime = workDuration;\n",
        "      print('작업 시작: 회차 $currentRound (25분)');\n",
        "    } else {\n",
        "      if (currentRound < 4) {\n",
        "        remainingTime = shortBreakDuration;\n",
        "        print('휴식 시작: 회차 $currentRound (5분)');\n",
        "      } else {\n",
        "        remainingTime = longBreakDuration;\n",
        "        print('휴식 시작: 회차 $currentRound (15분)');\n",
        "      }\n",
        "    }\n",
        "\n",
        "    timer = Timer.periodic(Duration(seconds: 1), (timer) {\n",
        "      remainingTime--;\n",
        "\n",
        "      if (remainingTime <= 0) {\n",
        "        timer.cancel();\n",
        "        _nextPhase();\n",
        "      }\n",
        "\n",
        "      _printRemainingTime();\n",
        "    });\n",
        "  }\n",
        "\n",
        "  void _nextPhase() {\n",
        "    if (isWorking) {\n",
        "      isWorking = false;\n",
        "    } else {\n",
        "      isWorking = true;\n",
        "      currentRound++;\n",
        "    }\n",
        "\n",
        "    _startRound();\n",
        "  }\n",
        "\n",
        "  void _printRemainingTime() {\n",
        "    final minutes = remainingTime ~/ 60; // 분 계산\n",
        "    final seconds = remainingTime % 60; // 초 계산\n",
        "    print('남은 시간: ${minutes.toString().padLeft(2, '0')}:${seconds.toString().padLeft(2, '0')}');\n",
        "  }\n",
        "\n",
        "  void stop() {\n",
        "    timer?.cancel();\n",
        "    print('Pomodoro Timer 중단');\n",
        "  }\n",
        "}\n",
        "\n",
        "void main() {\n",
        "  final pomodoroTimer = PomodoroTimer();\n",
        "  pomodoroTimer.start();\n",
        "}"
      ]
    },
    {
      "cell_type": "markdown",
      "source": [
        "# 회고\n",
        "지선님과 코드 작성 후 서로 작성한 코드를 설명하는 시간을 가졌습니다.\n",
        "\n",
        "코드가 어떻게 작동하는지, 왜 이 코드를 사용한 것인지 이해가 되었습니다.\n",
        "\n",
        "아직 ?(null), 언더바(_) 등을 완벽히 이해하지 못한 것 같습니다. 실제 어플을 만들며 필요에 따라 코드를 추가해보면 더 이해가 쉬울 것 같습니다."
      ],
      "metadata": {
        "id": "olehy5I0TrBM"
      }
    }
  ]
}